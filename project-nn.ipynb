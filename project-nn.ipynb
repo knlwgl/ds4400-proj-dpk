{
 "cells": [
  {
   "cell_type": "code",
   "execution_count": 1,
   "metadata": {},
   "outputs": [],
   "source": [
    "import pandas as pd\n",
    "import numpy as np\n",
    "import tensorflow as tf\n",
    "\n",
    "from sklearn.model_selection import train_test_split"
   ]
  },
  {
   "cell_type": "code",
   "execution_count": 2,
   "metadata": {},
   "outputs": [],
   "source": [
    "df = pd.read_csv('scaled_smoking_drinking_dataset.csv')"
   ]
  },
  {
   "cell_type": "code",
   "execution_count": 3,
   "metadata": {},
   "outputs": [
    {
     "data": {
      "text/html": [
       "<div>\n",
       "<style scoped>\n",
       "    .dataframe tbody tr th:only-of-type {\n",
       "        vertical-align: middle;\n",
       "    }\n",
       "\n",
       "    .dataframe tbody tr th {\n",
       "        vertical-align: top;\n",
       "    }\n",
       "\n",
       "    .dataframe thead th {\n",
       "        text-align: right;\n",
       "    }\n",
       "</style>\n",
       "<table border=\"1\" class=\"dataframe\">\n",
       "  <thead>\n",
       "    <tr style=\"text-align: right;\">\n",
       "      <th></th>\n",
       "      <th>age</th>\n",
       "      <th>height</th>\n",
       "      <th>weight</th>\n",
       "      <th>waistline</th>\n",
       "      <th>sight_left</th>\n",
       "      <th>sight_right</th>\n",
       "      <th>SBP</th>\n",
       "      <th>DBP</th>\n",
       "      <th>BLDS</th>\n",
       "      <th>tot_chole</th>\n",
       "      <th>...</th>\n",
       "      <th>serum_creatinine</th>\n",
       "      <th>SGOT_AST</th>\n",
       "      <th>SGOT_ALT</th>\n",
       "      <th>gamma_GTP</th>\n",
       "      <th>sex</th>\n",
       "      <th>urine_protein</th>\n",
       "      <th>hear_left</th>\n",
       "      <th>hear_right</th>\n",
       "      <th>DRK_YN</th>\n",
       "      <th>SMK_stat_type_cd</th>\n",
       "    </tr>\n",
       "  </thead>\n",
       "  <tbody>\n",
       "    <tr>\n",
       "      <th>0</th>\n",
       "      <td>-0.889514</td>\n",
       "      <td>0.835874</td>\n",
       "      <td>0.936210</td>\n",
       "      <td>0.739781</td>\n",
       "      <td>0.031629</td>\n",
       "      <td>0.035668</td>\n",
       "      <td>-0.167261</td>\n",
       "      <td>0.399153</td>\n",
       "      <td>-0.058910</td>\n",
       "      <td>-0.066141</td>\n",
       "      <td>...</td>\n",
       "      <td>0.290374</td>\n",
       "      <td>-0.212371</td>\n",
       "      <td>0.351404</td>\n",
       "      <td>0.056791</td>\n",
       "      <td>0</td>\n",
       "      <td>1.0</td>\n",
       "      <td>1.0</td>\n",
       "      <td>1.0</td>\n",
       "      <td>1</td>\n",
       "      <td>0.0</td>\n",
       "    </tr>\n",
       "    <tr>\n",
       "      <th>1</th>\n",
       "      <td>-1.242090</td>\n",
       "      <td>1.913117</td>\n",
       "      <td>1.335755</td>\n",
       "      <td>0.655395</td>\n",
       "      <td>-0.133401</td>\n",
       "      <td>0.366370</td>\n",
       "      <td>0.520349</td>\n",
       "      <td>0.601391</td>\n",
       "      <td>0.230586</td>\n",
       "      <td>0.839184</td>\n",
       "      <td>...</td>\n",
       "      <td>0.082270</td>\n",
       "      <td>-0.254936</td>\n",
       "      <td>0.389415</td>\n",
       "      <td>-0.201022</td>\n",
       "      <td>0</td>\n",
       "      <td>1.0</td>\n",
       "      <td>1.0</td>\n",
       "      <td>1.0</td>\n",
       "      <td>0</td>\n",
       "      <td>1.0</td>\n",
       "    </tr>\n",
       "    <tr>\n",
       "      <th>2</th>\n",
       "      <td>-0.536938</td>\n",
       "      <td>0.297252</td>\n",
       "      <td>0.936210</td>\n",
       "      <td>0.824167</td>\n",
       "      <td>0.361690</td>\n",
       "      <td>0.862423</td>\n",
       "      <td>-0.167261</td>\n",
       "      <td>-0.612034</td>\n",
       "      <td>-0.100267</td>\n",
       "      <td>-1.540528</td>\n",
       "      <td>...</td>\n",
       "      <td>0.082270</td>\n",
       "      <td>0.894324</td>\n",
       "      <td>0.237373</td>\n",
       "      <td>0.612081</td>\n",
       "      <td>0</td>\n",
       "      <td>1.0</td>\n",
       "      <td>1.0</td>\n",
       "      <td>1.0</td>\n",
       "      <td>0</td>\n",
       "      <td>0.0</td>\n",
       "    </tr>\n",
       "    <tr>\n",
       "      <th>3</th>\n",
       "      <td>0.168215</td>\n",
       "      <td>1.374495</td>\n",
       "      <td>1.335755</td>\n",
       "      <td>0.824167</td>\n",
       "      <td>0.856782</td>\n",
       "      <td>0.366370</td>\n",
       "      <td>1.551763</td>\n",
       "      <td>1.106985</td>\n",
       "      <td>-0.224337</td>\n",
       "      <td>0.140790</td>\n",
       "      <td>...</td>\n",
       "      <td>0.498477</td>\n",
       "      <td>0.128151</td>\n",
       "      <td>0.313394</td>\n",
       "      <td>-0.379508</td>\n",
       "      <td>0</td>\n",
       "      <td>1.0</td>\n",
       "      <td>1.0</td>\n",
       "      <td>1.0</td>\n",
       "      <td>0</td>\n",
       "      <td>0.0</td>\n",
       "    </tr>\n",
       "    <tr>\n",
       "      <th>4</th>\n",
       "      <td>0.168215</td>\n",
       "      <td>0.297252</td>\n",
       "      <td>-0.262425</td>\n",
       "      <td>-0.104078</td>\n",
       "      <td>0.031629</td>\n",
       "      <td>0.366370</td>\n",
       "      <td>1.070436</td>\n",
       "      <td>0.601391</td>\n",
       "      <td>0.023803</td>\n",
       "      <td>0.089058</td>\n",
       "      <td>...</td>\n",
       "      <td>-0.125833</td>\n",
       "      <td>-0.297501</td>\n",
       "      <td>-0.522835</td>\n",
       "      <td>-0.240685</td>\n",
       "      <td>0</td>\n",
       "      <td>1.0</td>\n",
       "      <td>1.0</td>\n",
       "      <td>1.0</td>\n",
       "      <td>0</td>\n",
       "      <td>0.0</td>\n",
       "    </tr>\n",
       "  </tbody>\n",
       "</table>\n",
       "<p>5 rows × 24 columns</p>\n",
       "</div>"
      ],
      "text/plain": [
       "        age    height    weight  waistline  sight_left  sight_right       SBP  \\\n",
       "0 -0.889514  0.835874  0.936210   0.739781    0.031629     0.035668 -0.167261   \n",
       "1 -1.242090  1.913117  1.335755   0.655395   -0.133401     0.366370  0.520349   \n",
       "2 -0.536938  0.297252  0.936210   0.824167    0.361690     0.862423 -0.167261   \n",
       "3  0.168215  1.374495  1.335755   0.824167    0.856782     0.366370  1.551763   \n",
       "4  0.168215  0.297252 -0.262425  -0.104078    0.031629     0.366370  1.070436   \n",
       "\n",
       "        DBP      BLDS  tot_chole  ...  serum_creatinine  SGOT_AST  SGOT_ALT  \\\n",
       "0  0.399153 -0.058910  -0.066141  ...          0.290374 -0.212371  0.351404   \n",
       "1  0.601391  0.230586   0.839184  ...          0.082270 -0.254936  0.389415   \n",
       "2 -0.612034 -0.100267  -1.540528  ...          0.082270  0.894324  0.237373   \n",
       "3  1.106985 -0.224337   0.140790  ...          0.498477  0.128151  0.313394   \n",
       "4  0.601391  0.023803   0.089058  ...         -0.125833 -0.297501 -0.522835   \n",
       "\n",
       "   gamma_GTP  sex  urine_protein  hear_left  hear_right  DRK_YN  \\\n",
       "0   0.056791    0            1.0        1.0         1.0       1   \n",
       "1  -0.201022    0            1.0        1.0         1.0       0   \n",
       "2   0.612081    0            1.0        1.0         1.0       0   \n",
       "3  -0.379508    0            1.0        1.0         1.0       0   \n",
       "4  -0.240685    0            1.0        1.0         1.0       0   \n",
       "\n",
       "   SMK_stat_type_cd  \n",
       "0               0.0  \n",
       "1               1.0  \n",
       "2               0.0  \n",
       "3               0.0  \n",
       "4               0.0  \n",
       "\n",
       "[5 rows x 24 columns]"
      ]
     },
     "execution_count": 3,
     "metadata": {},
     "output_type": "execute_result"
    }
   ],
   "source": [
    "df.head()"
   ]
  },
  {
   "cell_type": "markdown",
   "metadata": {},
   "source": [
    "# Multi-label Classification using Feed-Forward"
   ]
  },
  {
   "cell_type": "code",
   "execution_count": 4,
   "metadata": {},
   "outputs": [],
   "source": [
    "X = df[df.columns[~df.columns.isin(['DRK_YN', 'SMK_stat_type_cd'])]]\n",
    "y = df[['DRK_YN', 'SMK_stat_type_cd']]"
   ]
  },
  {
   "cell_type": "code",
   "execution_count": 5,
   "metadata": {},
   "outputs": [],
   "source": [
    "X_train, X_test, y_train, y_test = train_test_split(X, y, random_state=3)"
   ]
  },
  {
   "cell_type": "code",
   "execution_count": 6,
   "metadata": {},
   "outputs": [],
   "source": [
    "X_train_act, X_train_val, y_train_act, y_train_val = train_test_split(X_train, y_train, random_state=17)"
   ]
  },
  {
   "cell_type": "code",
   "execution_count": 7,
   "metadata": {},
   "outputs": [
    {
     "data": {
      "text/plain": [
       "(743509, 22)"
      ]
     },
     "execution_count": 7,
     "metadata": {},
     "output_type": "execute_result"
    }
   ],
   "source": [
    "X_train.shape"
   ]
  },
  {
   "cell_type": "code",
   "execution_count": 8,
   "metadata": {},
   "outputs": [],
   "source": [
    "def build_ffnn_model():\n",
    "    ffnn_model = tf.keras.Sequential([\n",
    "      tf.keras.Input(shape=(X.shape[1],)),\n",
    "      tf.keras.layers.Dense(22, activation=tf.nn.relu),\n",
    "      tf.keras.layers.Dense(12, activation=tf.nn.relu),\n",
    "      tf.keras.layers.Dense(2, activation=tf.nn.sigmoid)\n",
    "    ])\n",
    "\n",
    "    return ffnn_model"
   ]
  },
  {
   "cell_type": "code",
   "execution_count": 9,
   "metadata": {},
   "outputs": [],
   "source": [
    "model = build_ffnn_model()"
   ]
  },
  {
   "cell_type": "code",
   "execution_count": 10,
   "metadata": {},
   "outputs": [],
   "source": [
    "sgd = tf.keras.optimizers.SGD(learning_rate=0.01, momentum=0.9)\n",
    "model.compile(loss='binary_crossentropy', optimizer=sgd, metrics=['accuracy'])"
   ]
  },
  {
   "cell_type": "code",
   "execution_count": 11,
   "metadata": {},
   "outputs": [
    {
     "data": {
      "text/html": [
       "<pre style=\"white-space:pre;overflow-x:auto;line-height:normal;font-family:Menlo,'DejaVu Sans Mono',consolas,'Courier New',monospace\"><span style=\"font-weight: bold\">Model: \"sequential\"</span>\n",
       "</pre>\n"
      ],
      "text/plain": [
       "\u001b[1mModel: \"sequential\"\u001b[0m\n"
      ]
     },
     "metadata": {},
     "output_type": "display_data"
    },
    {
     "data": {
      "text/html": [
       "<pre style=\"white-space:pre;overflow-x:auto;line-height:normal;font-family:Menlo,'DejaVu Sans Mono',consolas,'Courier New',monospace\">┏━━━━━━━━━━━━━━━━━━━━━━━━━━━━━━━━━┳━━━━━━━━━━━━━━━━━━━━━━━━┳━━━━━━━━━━━━━━━┓\n",
       "┃<span style=\"font-weight: bold\"> Layer (type)                    </span>┃<span style=\"font-weight: bold\"> Output Shape           </span>┃<span style=\"font-weight: bold\">       Param # </span>┃\n",
       "┡━━━━━━━━━━━━━━━━━━━━━━━━━━━━━━━━━╇━━━━━━━━━━━━━━━━━━━━━━━━╇━━━━━━━━━━━━━━━┩\n",
       "│ dense (<span style=\"color: #0087ff; text-decoration-color: #0087ff\">Dense</span>)                   │ (<span style=\"color: #00d7ff; text-decoration-color: #00d7ff\">None</span>, <span style=\"color: #00af00; text-decoration-color: #00af00\">22</span>)             │           <span style=\"color: #00af00; text-decoration-color: #00af00\">506</span> │\n",
       "├─────────────────────────────────┼────────────────────────┼───────────────┤\n",
       "│ dense_1 (<span style=\"color: #0087ff; text-decoration-color: #0087ff\">Dense</span>)                 │ (<span style=\"color: #00d7ff; text-decoration-color: #00d7ff\">None</span>, <span style=\"color: #00af00; text-decoration-color: #00af00\">12</span>)             │           <span style=\"color: #00af00; text-decoration-color: #00af00\">276</span> │\n",
       "├─────────────────────────────────┼────────────────────────┼───────────────┤\n",
       "│ dense_2 (<span style=\"color: #0087ff; text-decoration-color: #0087ff\">Dense</span>)                 │ (<span style=\"color: #00d7ff; text-decoration-color: #00d7ff\">None</span>, <span style=\"color: #00af00; text-decoration-color: #00af00\">2</span>)              │            <span style=\"color: #00af00; text-decoration-color: #00af00\">26</span> │\n",
       "└─────────────────────────────────┴────────────────────────┴───────────────┘\n",
       "</pre>\n"
      ],
      "text/plain": [
       "┏━━━━━━━━━━━━━━━━━━━━━━━━━━━━━━━━━┳━━━━━━━━━━━━━━━━━━━━━━━━┳━━━━━━━━━━━━━━━┓\n",
       "┃\u001b[1m \u001b[0m\u001b[1mLayer (type)                   \u001b[0m\u001b[1m \u001b[0m┃\u001b[1m \u001b[0m\u001b[1mOutput Shape          \u001b[0m\u001b[1m \u001b[0m┃\u001b[1m \u001b[0m\u001b[1m      Param #\u001b[0m\u001b[1m \u001b[0m┃\n",
       "┡━━━━━━━━━━━━━━━━━━━━━━━━━━━━━━━━━╇━━━━━━━━━━━━━━━━━━━━━━━━╇━━━━━━━━━━━━━━━┩\n",
       "│ dense (\u001b[38;5;33mDense\u001b[0m)                   │ (\u001b[38;5;45mNone\u001b[0m, \u001b[38;5;34m22\u001b[0m)             │           \u001b[38;5;34m506\u001b[0m │\n",
       "├─────────────────────────────────┼────────────────────────┼───────────────┤\n",
       "│ dense_1 (\u001b[38;5;33mDense\u001b[0m)                 │ (\u001b[38;5;45mNone\u001b[0m, \u001b[38;5;34m12\u001b[0m)             │           \u001b[38;5;34m276\u001b[0m │\n",
       "├─────────────────────────────────┼────────────────────────┼───────────────┤\n",
       "│ dense_2 (\u001b[38;5;33mDense\u001b[0m)                 │ (\u001b[38;5;45mNone\u001b[0m, \u001b[38;5;34m2\u001b[0m)              │            \u001b[38;5;34m26\u001b[0m │\n",
       "└─────────────────────────────────┴────────────────────────┴───────────────┘\n"
      ]
     },
     "metadata": {},
     "output_type": "display_data"
    },
    {
     "data": {
      "text/html": [
       "<pre style=\"white-space:pre;overflow-x:auto;line-height:normal;font-family:Menlo,'DejaVu Sans Mono',consolas,'Courier New',monospace\"><span style=\"font-weight: bold\"> Total params: </span><span style=\"color: #00af00; text-decoration-color: #00af00\">808</span> (3.16 KB)\n",
       "</pre>\n"
      ],
      "text/plain": [
       "\u001b[1m Total params: \u001b[0m\u001b[38;5;34m808\u001b[0m (3.16 KB)\n"
      ]
     },
     "metadata": {},
     "output_type": "display_data"
    },
    {
     "data": {
      "text/html": [
       "<pre style=\"white-space:pre;overflow-x:auto;line-height:normal;font-family:Menlo,'DejaVu Sans Mono',consolas,'Courier New',monospace\"><span style=\"font-weight: bold\"> Trainable params: </span><span style=\"color: #00af00; text-decoration-color: #00af00\">808</span> (3.16 KB)\n",
       "</pre>\n"
      ],
      "text/plain": [
       "\u001b[1m Trainable params: \u001b[0m\u001b[38;5;34m808\u001b[0m (3.16 KB)\n"
      ]
     },
     "metadata": {},
     "output_type": "display_data"
    },
    {
     "data": {
      "text/html": [
       "<pre style=\"white-space:pre;overflow-x:auto;line-height:normal;font-family:Menlo,'DejaVu Sans Mono',consolas,'Courier New',monospace\"><span style=\"font-weight: bold\"> Non-trainable params: </span><span style=\"color: #00af00; text-decoration-color: #00af00\">0</span> (0.00 B)\n",
       "</pre>\n"
      ],
      "text/plain": [
       "\u001b[1m Non-trainable params: \u001b[0m\u001b[38;5;34m0\u001b[0m (0.00 B)\n"
      ]
     },
     "metadata": {},
     "output_type": "display_data"
    }
   ],
   "source": [
    "model.summary()"
   ]
  },
  {
   "cell_type": "code",
   "execution_count": 12,
   "metadata": {},
   "outputs": [],
   "source": [
    "def run_network(data, model, epochs=20, batch=128):\n",
    "    X_train, y_train, X_val, y_val = data\n",
    "    print(\"Training model\")\n",
    "    history = model.fit(X_train, y_train, epochs=epochs, batch_size=batch,\n",
    "                        validation_data=(X_val, y_val), verbose=2)\n",
    "    return history"
   ]
  },
  {
   "cell_type": "code",
   "execution_count": 13,
   "metadata": {},
   "outputs": [
    {
     "name": "stdout",
     "output_type": "stream",
     "text": [
      "Training model\n",
      "Epoch 1/20\n",
      "4357/4357 - 2s - 510us/step - accuracy: 0.9435 - loss: 0.4738 - val_accuracy: 0.9398 - val_loss: 0.4630\n",
      "Epoch 2/20\n",
      "4357/4357 - 2s - 461us/step - accuracy: 0.9415 - loss: 0.4602 - val_accuracy: 0.9374 - val_loss: 0.4587\n",
      "Epoch 3/20\n",
      "4357/4357 - 2s - 474us/step - accuracy: 0.9390 - loss: 0.4578 - val_accuracy: 0.9342 - val_loss: 0.4572\n",
      "Epoch 4/20\n",
      "4357/4357 - 2s - 459us/step - accuracy: 0.9377 - loss: 0.4567 - val_accuracy: 0.9374 - val_loss: 0.4566\n",
      "Epoch 5/20\n",
      "4357/4357 - 2s - 442us/step - accuracy: 0.9363 - loss: 0.4559 - val_accuracy: 0.9365 - val_loss: 0.4564\n",
      "Epoch 6/20\n",
      "4357/4357 - 2s - 405us/step - accuracy: 0.9360 - loss: 0.4555 - val_accuracy: 0.9357 - val_loss: 0.4568\n",
      "Epoch 7/20\n",
      "4357/4357 - 2s - 406us/step - accuracy: 0.9360 - loss: 0.4551 - val_accuracy: 0.9358 - val_loss: 0.4555\n",
      "Epoch 8/20\n",
      "4357/4357 - 2s - 434us/step - accuracy: 0.9359 - loss: 0.4547 - val_accuracy: 0.9378 - val_loss: 0.4551\n",
      "Epoch 9/20\n",
      "4357/4357 - 2s - 427us/step - accuracy: 0.9359 - loss: 0.4547 - val_accuracy: 0.9348 - val_loss: 0.4555\n",
      "Epoch 10/20\n",
      "4357/4357 - 2s - 422us/step - accuracy: 0.9361 - loss: 0.4544 - val_accuracy: 0.9360 - val_loss: 0.4550\n",
      "Epoch 11/20\n",
      "4357/4357 - 2s - 455us/step - accuracy: 0.9358 - loss: 0.4542 - val_accuracy: 0.9338 - val_loss: 0.4548\n",
      "Epoch 12/20\n",
      "4357/4357 - 2s - 421us/step - accuracy: 0.9356 - loss: 0.4540 - val_accuracy: 0.9367 - val_loss: 0.4553\n",
      "Epoch 13/20\n",
      "4357/4357 - 2s - 416us/step - accuracy: 0.9358 - loss: 0.4539 - val_accuracy: 0.9404 - val_loss: 0.4557\n",
      "Epoch 14/20\n",
      "4357/4357 - 2s - 439us/step - accuracy: 0.9357 - loss: 0.4538 - val_accuracy: 0.9356 - val_loss: 0.4555\n",
      "Epoch 15/20\n",
      "4357/4357 - 2s - 423us/step - accuracy: 0.9357 - loss: 0.4537 - val_accuracy: 0.9323 - val_loss: 0.4544\n",
      "Epoch 16/20\n",
      "4357/4357 - 2s - 426us/step - accuracy: 0.9363 - loss: 0.4535 - val_accuracy: 0.9322 - val_loss: 0.4548\n",
      "Epoch 17/20\n",
      "4357/4357 - 2s - 410us/step - accuracy: 0.9357 - loss: 0.4535 - val_accuracy: 0.9375 - val_loss: 0.4543\n",
      "Epoch 18/20\n",
      "4357/4357 - 2s - 411us/step - accuracy: 0.9356 - loss: 0.4534 - val_accuracy: 0.9355 - val_loss: 0.4538\n",
      "Epoch 19/20\n",
      "4357/4357 - 2s - 421us/step - accuracy: 0.9354 - loss: 0.4533 - val_accuracy: 0.9370 - val_loss: 0.4540\n",
      "Epoch 20/20\n",
      "4357/4357 - 2s - 421us/step - accuracy: 0.9352 - loss: 0.4533 - val_accuracy: 0.9403 - val_loss: 0.4546\n"
     ]
    }
   ],
   "source": [
    "history = run_network([X_train_act, y_train_act, X_train_val, y_train_val], model)"
   ]
  },
  {
   "cell_type": "code",
   "execution_count": 14,
   "metadata": {},
   "outputs": [],
   "source": [
    "def eval_network(data, model, batch=16):\n",
    "    X_test, y_test = data\n",
    "    score = model.evaluate(X_test, y_test, batch_size=batch)\n",
    "    return score"
   ]
  },
  {
   "cell_type": "code",
   "execution_count": 15,
   "metadata": {},
   "outputs": [
    {
     "name": "stdout",
     "output_type": "stream",
     "text": [
      "\u001b[1m15490/15490\u001b[0m \u001b[32m━━━━━━━━━━━━━━━━━━━━\u001b[0m\u001b[37m\u001b[0m \u001b[1m4s\u001b[0m 253us/step - accuracy: 0.9401 - loss: 0.4541\n"
     ]
    }
   ],
   "source": [
    "score = eval_network([X_test, y_test], model)"
   ]
  },
  {
   "cell_type": "code",
   "execution_count": 16,
   "metadata": {},
   "outputs": [],
   "source": [
    "from sklearn.metrics import roc_curve, auc\n",
    "import matplotlib.pyplot as plt"
   ]
  },
  {
   "cell_type": "code",
   "execution_count": 17,
   "metadata": {},
   "outputs": [
    {
     "name": "stdout",
     "output_type": "stream",
     "text": [
      "\u001b[1m7745/7745\u001b[0m \u001b[32m━━━━━━━━━━━━━━━━━━━━\u001b[0m\u001b[37m\u001b[0m \u001b[1m2s\u001b[0m 239us/step\n"
     ]
    }
   ],
   "source": [
    "y_prob = model.predict(X_test)"
   ]
  },
  {
   "cell_type": "code",
   "execution_count": 18,
   "metadata": {},
   "outputs": [
    {
     "data": {
      "image/png": "[encoded data removed]",
      "text/plain": [
       "<Figure size 640x480 with 1 Axes>"
      ]
     },
     "metadata": {},
     "output_type": "display_data"
    }
   ],
   "source": [
    "for col,i in zip(['DRK_YN', 'SMK_stat_type_cd'],range(y_prob.shape[1])):  # Assuming y_scores.shape[1] == number of labels\n",
    "    fpr, tpr, thresholds = roc_curve(y_test[col], y_prob[:, i])\n",
    "    roc_auc = auc(fpr, tpr)\n",
    "    optimal_idx = np.argmin(np.sqrt((1-tpr)**2 + fpr**2))\n",
    "    optimal_threshold = thresholds[optimal_idx]\n",
    "    plt.scatter(fpr[optimal_idx], tpr[optimal_idx], marker='o', color='black', label='%s Optimal Threshold = %0.2f' % (col, optimal_threshold))\n",
    "    plt.plot(fpr, tpr, lw=2, label='ROC curve of %s (area = %0.2f)' % (col, roc_auc))\n",
    "\n",
    "plt.plot([0, 1], [0, 1], color='navy', lw=2, linestyle='--')\n",
    "plt.xlim([0.0, 1.0])\n",
    "plt.ylim([0.0, 1.05])\n",
    "plt.xlabel('False Positive Rate')\n",
    "plt.ylabel('True Positive Rate')\n",
    "plt.title('ROC for Multi-Label Classification')\n",
    "plt.legend(loc=\"lower right\")\n",
    "plt.show()"
   ]
  },
  {
   "cell_type": "code",
   "execution_count": 19,
   "metadata": {},
   "outputs": [],
   "source": [
    "from sklearn.metrics import accuracy_score, precision_score, recall_score, f1_score, roc_auc_score"
   ]
  },
  {
   "cell_type": "code",
   "execution_count": 20,
   "metadata": {},
   "outputs": [
    {
     "name": "stdout",
     "output_type": "stream",
     "text": [
      "\u001b[1m7745/7745\u001b[0m \u001b[32m━━━━━━━━━━━━━━━━━━━━\u001b[0m\u001b[37m\u001b[0m \u001b[1m2s\u001b[0m 226us/step\n"
     ]
    }
   ],
   "source": [
    "y_pred = model.predict(X_test)\n",
    "y_pred = [[1 if x[0] > 0.51 else 0, 1 if x[1] > 0.25 else 0] for x in y_pred]"
   ]
  },
  {
   "cell_type": "code",
   "execution_count": 21,
   "metadata": {},
   "outputs": [
    {
     "data": {
      "text/plain": [
       "0.7334336680963698"
      ]
     },
     "execution_count": 21,
     "metadata": {},
     "output_type": "execute_result"
    }
   ],
   "source": [
    "ml_acc = accuracy_score(y_test['DRK_YN'], [x[0] for x in y_pred])\n",
    "ml_acc"
   ]
  },
  {
   "cell_type": "code",
   "execution_count": 22,
   "metadata": {},
   "outputs": [
    {
     "data": {
      "text/plain": [
       "0.7374282290376336"
      ]
     },
     "execution_count": 22,
     "metadata": {},
     "output_type": "execute_result"
    }
   ],
   "source": [
    "ml_acc = accuracy_score(y_test['SMK_stat_type_cd'], [x[1] for x in y_pred])\n",
    "ml_acc"
   ]
  },
  {
   "cell_type": "code",
   "execution_count": 23,
   "metadata": {},
   "outputs": [
    {
     "name": "stderr",
     "output_type": "stream",
     "text": [
      "/Library/Frameworks/Python.framework/Versions/3.11/lib/python3.11/site-packages/sklearn/metrics/_classification.py:1471: UndefinedMetricWarning: Precision is ill-defined and being set to 0.0 in samples with no predicted labels. Use `zero_division` parameter to control this behavior.\n",
      "  _warn_prf(average, modifier, msg_start, len(result))\n"
     ]
    },
    {
     "data": {
      "text/plain": [
       "0.33584371986426564"
      ]
     },
     "execution_count": 23,
     "metadata": {},
     "output_type": "execute_result"
    }
   ],
   "source": [
    "precision = precision_score(y_test, y_pred, average='samples')\n",
    "precision"
   ]
  },
  {
   "cell_type": "code",
   "execution_count": 24,
   "metadata": {},
   "outputs": [
    {
     "name": "stderr",
     "output_type": "stream",
     "text": [
      "/Library/Frameworks/Python.framework/Versions/3.11/lib/python3.11/site-packages/sklearn/metrics/_classification.py:1471: UndefinedMetricWarning: Recall is ill-defined and being set to 0.0 in samples with no true labels. Use `zero_division` parameter to control this behavior.\n",
      "  _warn_prf(average, modifier, msg_start, len(result))\n"
     ]
    },
    {
     "data": {
      "text/plain": [
       "0.41389098480049386"
      ]
     },
     "execution_count": 24,
     "metadata": {},
     "output_type": "execute_result"
    }
   ],
   "source": [
    "recall = recall_score(y_test, y_pred, average='samples')\n",
    "recall"
   ]
  },
  {
   "cell_type": "code",
   "execution_count": 25,
   "metadata": {},
   "outputs": [
    {
     "ename": "NameError",
     "evalue": "name 'y_pred_binary' is not defined",
     "output_type": "error",
     "traceback": [
      "\u001b[0;31m---------------------------------------------------------------------------\u001b[0m",
      "\u001b[0;31mNameError\u001b[0m                                 Traceback (most recent call last)",
      "Cell \u001b[0;32mIn[25], line 1\u001b[0m\n\u001b[0;32m----> 1\u001b[0m f1 \u001b[38;5;241m=\u001b[39m f1_score(y_test, \u001b[43my_pred_binary\u001b[49m, average\u001b[38;5;241m=\u001b[39m\u001b[38;5;124m'\u001b[39m\u001b[38;5;124msamples\u001b[39m\u001b[38;5;124m'\u001b[39m)\n\u001b[1;32m      2\u001b[0m f1\n",
      "\u001b[0;31mNameError\u001b[0m: name 'y_pred_binary' is not defined"
     ]
    }
   ],
   "source": [
    "f1 = f1_score(y_test, y_pred_binary, average='samples')\n",
    "f1"
   ]
  },
  {
   "cell_type": "code",
   "execution_count": null,
   "metadata": {},
   "outputs": [
    {
     "data": {
      "text/plain": [
       "0.8274492355465428"
      ]
     },
     "execution_count": 616,
     "metadata": {},
     "output_type": "execute_result"
    }
   ],
   "source": [
    "roc_auc = roc_auc_score(y_test, y_pred)\n",
    "roc_auc"
   ]
  },
  {
   "cell_type": "markdown",
   "metadata": {},
   "source": [
    "# Single-Label Classification using Feed-Forward"
   ]
  },
  {
   "cell_type": "code",
   "execution_count": null,
   "metadata": {},
   "outputs": [],
   "source": [
    "X_smk = df[df.columns[~df.columns.isin(['SMK_stat_type_cd'])]]\n",
    "y_smk = df['SMK_stat_type_cd']\n",
    "X_drk = df[df.columns[~df.columns.isin(['DRK_YN'])]]\n",
    "y_drk = df['DRK_YN']"
   ]
  },
  {
   "cell_type": "code",
   "execution_count": null,
   "metadata": {},
   "outputs": [],
   "source": [
    "X_train_smk, X_test_smk, y_train_smk, y_test_smk = train_test_split(X_smk, y_smk, random_state=6)\n",
    "X_train_act_smk, X_train_val_smk, y_train_act_smk, y_train_val_smk = train_test_split(X_train_smk, y_train_smk, random_state=124)"
   ]
  },
  {
   "cell_type": "code",
   "execution_count": null,
   "metadata": {},
   "outputs": [],
   "source": [
    "X_train_drk, X_test_drk, y_train_drk, y_test_drk = train_test_split(X_drk, y_drk, random_state=2)\n",
    "X_train_act_drk, X_train_val_drk, y_train_act_drk, y_train_val_drk = train_test_split(X_train_drk, y_train_drk, random_state=31)"
   ]
  },
  {
   "cell_type": "code",
   "execution_count": null,
   "metadata": {},
   "outputs": [],
   "source": [
    "def build_ff_single_model():\n",
    "    ffnn_model = tf.keras.Sequential([\n",
    "      tf.keras.Input(shape=(X_smk.shape[1],)),\n",
    "      tf.keras.layers.Dense(23, activation=tf.nn.relu),\n",
    "      tf.keras.layers.Dense(12, activation=tf.nn.relu),\n",
    "      tf.keras.layers.Dense(1, activation=tf.nn.sigmoid)\n",
    "    ])\n",
    "\n",
    "    return ffnn_model"
   ]
  },
  {
   "cell_type": "markdown",
   "metadata": {},
   "source": [
    "### Smoker Classifier"
   ]
  },
  {
   "cell_type": "code",
   "execution_count": null,
   "metadata": {},
   "outputs": [],
   "source": [
    "model_smk = build_ff_single_model()"
   ]
  },
  {
   "cell_type": "code",
   "execution_count": null,
   "metadata": {},
   "outputs": [
    {
     "data": {
      "text/html": [
       "<pre style=\"white-space:pre;overflow-x:auto;line-height:normal;font-family:Menlo,'DejaVu Sans Mono',consolas,'Courier New',monospace\"><span style=\"font-weight: bold\">Model: \"sequential_46\"</span>\n",
       "</pre>\n"
      ],
      "text/plain": [
       "\u001b[1mModel: \"sequential_46\"\u001b[0m\n"
      ]
     },
     "metadata": {},
     "output_type": "display_data"
    },
    {
     "data": {
      "text/html": [
       "<pre style=\"white-space:pre;overflow-x:auto;line-height:normal;font-family:Menlo,'DejaVu Sans Mono',consolas,'Courier New',monospace\">┏━━━━━━━━━━━━━━━━━━━━━━━━━━━━━━━━━┳━━━━━━━━━━━━━━━━━━━━━━━━┳━━━━━━━━━━━━━━━┓\n",
       "┃<span style=\"font-weight: bold\"> Layer (type)                    </span>┃<span style=\"font-weight: bold\"> Output Shape           </span>┃<span style=\"font-weight: bold\">       Param # </span>┃\n",
       "┡━━━━━━━━━━━━━━━━━━━━━━━━━━━━━━━━━╇━━━━━━━━━━━━━━━━━━━━━━━━╇━━━━━━━━━━━━━━━┩\n",
       "│ dense_193 (<span style=\"color: #0087ff; text-decoration-color: #0087ff\">Dense</span>)               │ (<span style=\"color: #00d7ff; text-decoration-color: #00d7ff\">None</span>, <span style=\"color: #00af00; text-decoration-color: #00af00\">23</span>)             │           <span style=\"color: #00af00; text-decoration-color: #00af00\">552</span> │\n",
       "├─────────────────────────────────┼────────────────────────┼───────────────┤\n",
       "│ dense_194 (<span style=\"color: #0087ff; text-decoration-color: #0087ff\">Dense</span>)               │ (<span style=\"color: #00d7ff; text-decoration-color: #00d7ff\">None</span>, <span style=\"color: #00af00; text-decoration-color: #00af00\">12</span>)             │           <span style=\"color: #00af00; text-decoration-color: #00af00\">288</span> │\n",
       "├─────────────────────────────────┼────────────────────────┼───────────────┤\n",
       "│ dense_195 (<span style=\"color: #0087ff; text-decoration-color: #0087ff\">Dense</span>)               │ (<span style=\"color: #00d7ff; text-decoration-color: #00d7ff\">None</span>, <span style=\"color: #00af00; text-decoration-color: #00af00\">1</span>)              │            <span style=\"color: #00af00; text-decoration-color: #00af00\">13</span> │\n",
       "└─────────────────────────────────┴────────────────────────┴───────────────┘\n",
       "</pre>\n"
      ],
      "text/plain": [
       "┏━━━━━━━━━━━━━━━━━━━━━━━━━━━━━━━━━┳━━━━━━━━━━━━━━━━━━━━━━━━┳━━━━━━━━━━━━━━━┓\n",
       "┃\u001b[1m \u001b[0m\u001b[1mLayer (type)                   \u001b[0m\u001b[1m \u001b[0m┃\u001b[1m \u001b[0m\u001b[1mOutput Shape          \u001b[0m\u001b[1m \u001b[0m┃\u001b[1m \u001b[0m\u001b[1m      Param #\u001b[0m\u001b[1m \u001b[0m┃\n",
       "┡━━━━━━━━━━━━━━━━━━━━━━━━━━━━━━━━━╇━━━━━━━━━━━━━━━━━━━━━━━━╇━━━━━━━━━━━━━━━┩\n",
       "│ dense_193 (\u001b[38;5;33mDense\u001b[0m)               │ (\u001b[38;5;45mNone\u001b[0m, \u001b[38;5;34m23\u001b[0m)             │           \u001b[38;5;34m552\u001b[0m │\n",
       "├─────────────────────────────────┼────────────────────────┼───────────────┤\n",
       "│ dense_194 (\u001b[38;5;33mDense\u001b[0m)               │ (\u001b[38;5;45mNone\u001b[0m, \u001b[38;5;34m12\u001b[0m)             │           \u001b[38;5;34m288\u001b[0m │\n",
       "├─────────────────────────────────┼────────────────────────┼───────────────┤\n",
       "│ dense_195 (\u001b[38;5;33mDense\u001b[0m)               │ (\u001b[38;5;45mNone\u001b[0m, \u001b[38;5;34m1\u001b[0m)              │            \u001b[38;5;34m13\u001b[0m │\n",
       "└─────────────────────────────────┴────────────────────────┴───────────────┘\n"
      ]
     },
     "metadata": {},
     "output_type": "display_data"
    },
    {
     "data": {
      "text/html": [
       "<pre style=\"white-space:pre;overflow-x:auto;line-height:normal;font-family:Menlo,'DejaVu Sans Mono',consolas,'Courier New',monospace\"><span style=\"font-weight: bold\"> Total params: </span><span style=\"color: #00af00; text-decoration-color: #00af00\">853</span> (3.33 KB)\n",
       "</pre>\n"
      ],
      "text/plain": [
       "\u001b[1m Total params: \u001b[0m\u001b[38;5;34m853\u001b[0m (3.33 KB)\n"
      ]
     },
     "metadata": {},
     "output_type": "display_data"
    },
    {
     "data": {
      "text/html": [
       "<pre style=\"white-space:pre;overflow-x:auto;line-height:normal;font-family:Menlo,'DejaVu Sans Mono',consolas,'Courier New',monospace\"><span style=\"font-weight: bold\"> Trainable params: </span><span style=\"color: #00af00; text-decoration-color: #00af00\">853</span> (3.33 KB)\n",
       "</pre>\n"
      ],
      "text/plain": [
       "\u001b[1m Trainable params: \u001b[0m\u001b[38;5;34m853\u001b[0m (3.33 KB)\n"
      ]
     },
     "metadata": {},
     "output_type": "display_data"
    },
    {
     "data": {
      "text/html": [
       "<pre style=\"white-space:pre;overflow-x:auto;line-height:normal;font-family:Menlo,'DejaVu Sans Mono',consolas,'Courier New',monospace\"><span style=\"font-weight: bold\"> Non-trainable params: </span><span style=\"color: #00af00; text-decoration-color: #00af00\">0</span> (0.00 B)\n",
       "</pre>\n"
      ],
      "text/plain": [
       "\u001b[1m Non-trainable params: \u001b[0m\u001b[38;5;34m0\u001b[0m (0.00 B)\n"
      ]
     },
     "metadata": {},
     "output_type": "display_data"
    }
   ],
   "source": [
    "sgd = tf.keras.optimizers.SGD(learning_rate=0.01, momentum=0.9)\n",
    "model_smk.compile(loss='crossentropy', optimizer=sgd, metrics=['accuracy'])\n",
    "model_smk.summary()"
   ]
  },
  {
   "cell_type": "code",
   "execution_count": null,
   "metadata": {},
   "outputs": [
    {
     "name": "stdout",
     "output_type": "stream",
     "text": [
      "Training model\n",
      "Epoch 1/20\n",
      "4357/4357 - 2s - 534us/step - accuracy: 0.8026 - loss: 0.3918 - val_accuracy: 0.8066 - val_loss: 0.3860\n",
      "Epoch 2/20\n",
      "4357/4357 - 2s - 480us/step - accuracy: 0.8093 - loss: 0.3816 - val_accuracy: 0.8102 - val_loss: 0.3829\n",
      "Epoch 3/20\n",
      "4357/4357 - 2s - 459us/step - accuracy: 0.8102 - loss: 0.3800 - val_accuracy: 0.8113 - val_loss: 0.3816\n",
      "Epoch 4/20\n",
      "4357/4357 - 2s - 404us/step - accuracy: 0.8110 - loss: 0.3791 - val_accuracy: 0.8100 - val_loss: 0.3823\n",
      "Epoch 5/20\n",
      "4357/4357 - 2s - 432us/step - accuracy: 0.8116 - loss: 0.3785 - val_accuracy: 0.8114 - val_loss: 0.3812\n",
      "Epoch 6/20\n",
      "4357/4357 - 2s - 422us/step - accuracy: 0.8119 - loss: 0.3782 - val_accuracy: 0.8116 - val_loss: 0.3806\n",
      "Epoch 7/20\n",
      "4357/4357 - 2s - 409us/step - accuracy: 0.8123 - loss: 0.3776 - val_accuracy: 0.8109 - val_loss: 0.3810\n",
      "Epoch 8/20\n",
      "4357/4357 - 2s - 405us/step - accuracy: 0.8121 - loss: 0.3775 - val_accuracy: 0.8120 - val_loss: 0.3802\n",
      "Epoch 9/20\n",
      "4357/4357 - 2s - 411us/step - accuracy: 0.8121 - loss: 0.3773 - val_accuracy: 0.8121 - val_loss: 0.3800\n",
      "Epoch 10/20\n",
      "4357/4357 - 2s - 411us/step - accuracy: 0.8124 - loss: 0.3772 - val_accuracy: 0.8124 - val_loss: 0.3795\n",
      "Epoch 11/20\n",
      "4357/4357 - 2s - 461us/step - accuracy: 0.8128 - loss: 0.3769 - val_accuracy: 0.8093 - val_loss: 0.3836\n",
      "Epoch 12/20\n",
      "4357/4357 - 2s - 462us/step - accuracy: 0.8126 - loss: 0.3768 - val_accuracy: 0.8123 - val_loss: 0.3798\n",
      "Epoch 13/20\n",
      "4357/4357 - 2s - 497us/step - accuracy: 0.8127 - loss: 0.3767 - val_accuracy: 0.8120 - val_loss: 0.3793\n",
      "Epoch 14/20\n",
      "4357/4357 - 2s - 445us/step - accuracy: 0.8126 - loss: 0.3767 - val_accuracy: 0.8120 - val_loss: 0.3794\n",
      "Epoch 15/20\n",
      "4357/4357 - 2s - 439us/step - accuracy: 0.8129 - loss: 0.3766 - val_accuracy: 0.8121 - val_loss: 0.3796\n",
      "Epoch 16/20\n",
      "4357/4357 - 2s - 411us/step - accuracy: 0.8127 - loss: 0.3764 - val_accuracy: 0.8104 - val_loss: 0.3813\n",
      "Epoch 17/20\n",
      "4357/4357 - 2s - 433us/step - accuracy: 0.8130 - loss: 0.3763 - val_accuracy: 0.8121 - val_loss: 0.3793\n",
      "Epoch 18/20\n",
      "4357/4357 - 2s - 424us/step - accuracy: 0.8128 - loss: 0.3763 - val_accuracy: 0.8126 - val_loss: 0.3789\n",
      "Epoch 19/20\n",
      "4357/4357 - 2s - 412us/step - accuracy: 0.8133 - loss: 0.3761 - val_accuracy: 0.8127 - val_loss: 0.3792\n",
      "Epoch 20/20\n",
      "4357/4357 - 2s - 421us/step - accuracy: 0.8133 - loss: 0.3761 - val_accuracy: 0.8124 - val_loss: 0.3792\n"
     ]
    }
   ],
   "source": [
    "history_smk = run_network([X_train_act_smk, y_train_act_smk, X_train_val_smk, y_train_val_smk], model_smk)"
   ]
  },
  {
   "cell_type": "code",
   "execution_count": null,
   "metadata": {},
   "outputs": [
    {
     "name": "stdout",
     "output_type": "stream",
     "text": [
      "\u001b[1m15490/15490\u001b[0m \u001b[32m━━━━━━━━━━━━━━━━━━━━\u001b[0m\u001b[37m\u001b[0m \u001b[1m4s\u001b[0m 253us/step - accuracy: 0.8145 - loss: 0.3771\n"
     ]
    }
   ],
   "source": [
    "score_smk = eval_network([X_test_smk, y_test_smk], model_smk)"
   ]
  },
  {
   "cell_type": "code",
   "execution_count": null,
   "metadata": {},
   "outputs": [
    {
     "name": "stdout",
     "output_type": "stream",
     "text": [
      "\u001b[1m7745/7745\u001b[0m \u001b[32m━━━━━━━━━━━━━━━━━━━━\u001b[0m\u001b[37m\u001b[0m \u001b[1m2s\u001b[0m 223us/step\n"
     ]
    }
   ],
   "source": [
    "y_prob = model_smk.predict(X_test_smk)"
   ]
  },
  {
   "cell_type": "code",
   "execution_count": null,
   "metadata": {},
   "outputs": [
    {
     "data": {
      "image/png": "[encoded data removed]",
      "text/plain": [
       "<Figure size 640x480 with 1 Axes>"
      ]
     },
     "metadata": {},
     "output_type": "display_data"
    }
   ],
   "source": [
    "fpr, tpr, thresholds = roc_curve(y_test_smk, y_prob)\n",
    "roc_auc = auc(fpr, tpr)\n",
    "optimal_idx = np.argmin(np.sqrt((1-tpr)**2 + fpr**2))\n",
    "optimal_threshold = thresholds[optimal_idx]\n",
    "plt.scatter(fpr[optimal_idx], tpr[optimal_idx], marker='o', color='black', label='%s Optimal Threshold = %0.2f' % (col, optimal_threshold))\n",
    "plt.plot(fpr, tpr, lw=2, label='ROC curve of class %d (area = %0.2f)' % (i, roc_auc))\n",
    "\n",
    "plt.plot([0, 1], [0, 1], color='navy', lw=2, linestyle='--')\n",
    "plt.xlim([0.0, 1.0])\n",
    "plt.ylim([0.0, 1.05])\n",
    "plt.xlabel('False Positive Rate')\n",
    "plt.ylabel('True Positive Rate')\n",
    "plt.title('ROC for Binary Smoker Prediction')\n",
    "plt.legend(loc=\"lower right\")\n",
    "plt.show()"
   ]
  },
  {
   "cell_type": "code",
   "execution_count": null,
   "metadata": {},
   "outputs": [
    {
     "name": "stdout",
     "output_type": "stream",
     "text": [
      "\u001b[1m7745/7745\u001b[0m \u001b[32m━━━━━━━━━━━━━━━━━━━━\u001b[0m\u001b[37m\u001b[0m \u001b[1m2s\u001b[0m 247us/step\n"
     ]
    }
   ],
   "source": [
    "y_pred = model_smk.predict(X_test_smk)\n",
    "threshold = 0.27\n",
    "y_pred = (y_pred > threshold).astype(int)"
   ]
  },
  {
   "cell_type": "code",
   "execution_count": null,
   "metadata": {},
   "outputs": [
    {
     "data": {
      "text/plain": [
       "0.7512599006605147"
      ]
     },
     "execution_count": 729,
     "metadata": {},
     "output_type": "execute_result"
    }
   ],
   "source": [
    "acc_smk = accuracy_score(y_test_smk, y_pred)\n",
    "acc_smk"
   ]
  },
  {
   "cell_type": "markdown",
   "metadata": {},
   "source": [
    "### Drinker Classifier"
   ]
  },
  {
   "cell_type": "code",
   "execution_count": null,
   "metadata": {},
   "outputs": [],
   "source": [
    "model_drk = build_ff_single_model()"
   ]
  },
  {
   "cell_type": "code",
   "execution_count": null,
   "metadata": {},
   "outputs": [
    {
     "data": {
      "text/html": [
       "<pre style=\"white-space:pre;overflow-x:auto;line-height:normal;font-family:Menlo,'DejaVu Sans Mono',consolas,'Courier New',monospace\"><span style=\"font-weight: bold\">Model: \"sequential_51\"</span>\n",
       "</pre>\n"
      ],
      "text/plain": [
       "\u001b[1mModel: \"sequential_51\"\u001b[0m\n"
      ]
     },
     "metadata": {},
     "output_type": "display_data"
    },
    {
     "data": {
      "text/html": [
       "<pre style=\"white-space:pre;overflow-x:auto;line-height:normal;font-family:Menlo,'DejaVu Sans Mono',consolas,'Courier New',monospace\">┏━━━━━━━━━━━━━━━━━━━━━━━━━━━━━━━━━┳━━━━━━━━━━━━━━━━━━━━━━━━┳━━━━━━━━━━━━━━━┓\n",
       "┃<span style=\"font-weight: bold\"> Layer (type)                    </span>┃<span style=\"font-weight: bold\"> Output Shape           </span>┃<span style=\"font-weight: bold\">       Param # </span>┃\n",
       "┡━━━━━━━━━━━━━━━━━━━━━━━━━━━━━━━━━╇━━━━━━━━━━━━━━━━━━━━━━━━╇━━━━━━━━━━━━━━━┩\n",
       "│ dense_208 (<span style=\"color: #0087ff; text-decoration-color: #0087ff\">Dense</span>)               │ (<span style=\"color: #00d7ff; text-decoration-color: #00d7ff\">None</span>, <span style=\"color: #00af00; text-decoration-color: #00af00\">23</span>)             │           <span style=\"color: #00af00; text-decoration-color: #00af00\">552</span> │\n",
       "├─────────────────────────────────┼────────────────────────┼───────────────┤\n",
       "│ dense_209 (<span style=\"color: #0087ff; text-decoration-color: #0087ff\">Dense</span>)               │ (<span style=\"color: #00d7ff; text-decoration-color: #00d7ff\">None</span>, <span style=\"color: #00af00; text-decoration-color: #00af00\">12</span>)             │           <span style=\"color: #00af00; text-decoration-color: #00af00\">288</span> │\n",
       "├─────────────────────────────────┼────────────────────────┼───────────────┤\n",
       "│ dense_210 (<span style=\"color: #0087ff; text-decoration-color: #0087ff\">Dense</span>)               │ (<span style=\"color: #00d7ff; text-decoration-color: #00d7ff\">None</span>, <span style=\"color: #00af00; text-decoration-color: #00af00\">1</span>)              │            <span style=\"color: #00af00; text-decoration-color: #00af00\">13</span> │\n",
       "└─────────────────────────────────┴────────────────────────┴───────────────┘\n",
       "</pre>\n"
      ],
      "text/plain": [
       "┏━━━━━━━━━━━━━━━━━━━━━━━━━━━━━━━━━┳━━━━━━━━━━━━━━━━━━━━━━━━┳━━━━━━━━━━━━━━━┓\n",
       "┃\u001b[1m \u001b[0m\u001b[1mLayer (type)                   \u001b[0m\u001b[1m \u001b[0m┃\u001b[1m \u001b[0m\u001b[1mOutput Shape          \u001b[0m\u001b[1m \u001b[0m┃\u001b[1m \u001b[0m\u001b[1m      Param #\u001b[0m\u001b[1m \u001b[0m┃\n",
       "┡━━━━━━━━━━━━━━━━━━━━━━━━━━━━━━━━━╇━━━━━━━━━━━━━━━━━━━━━━━━╇━━━━━━━━━━━━━━━┩\n",
       "│ dense_208 (\u001b[38;5;33mDense\u001b[0m)               │ (\u001b[38;5;45mNone\u001b[0m, \u001b[38;5;34m23\u001b[0m)             │           \u001b[38;5;34m552\u001b[0m │\n",
       "├─────────────────────────────────┼────────────────────────┼───────────────┤\n",
       "│ dense_209 (\u001b[38;5;33mDense\u001b[0m)               │ (\u001b[38;5;45mNone\u001b[0m, \u001b[38;5;34m12\u001b[0m)             │           \u001b[38;5;34m288\u001b[0m │\n",
       "├─────────────────────────────────┼────────────────────────┼───────────────┤\n",
       "│ dense_210 (\u001b[38;5;33mDense\u001b[0m)               │ (\u001b[38;5;45mNone\u001b[0m, \u001b[38;5;34m1\u001b[0m)              │            \u001b[38;5;34m13\u001b[0m │\n",
       "└─────────────────────────────────┴────────────────────────┴───────────────┘\n"
      ]
     },
     "metadata": {},
     "output_type": "display_data"
    },
    {
     "data": {
      "text/html": [
       "<pre style=\"white-space:pre;overflow-x:auto;line-height:normal;font-family:Menlo,'DejaVu Sans Mono',consolas,'Courier New',monospace\"><span style=\"font-weight: bold\"> Total params: </span><span style=\"color: #00af00; text-decoration-color: #00af00\">853</span> (3.33 KB)\n",
       "</pre>\n"
      ],
      "text/plain": [
       "\u001b[1m Total params: \u001b[0m\u001b[38;5;34m853\u001b[0m (3.33 KB)\n"
      ]
     },
     "metadata": {},
     "output_type": "display_data"
    },
    {
     "data": {
      "text/html": [
       "<pre style=\"white-space:pre;overflow-x:auto;line-height:normal;font-family:Menlo,'DejaVu Sans Mono',consolas,'Courier New',monospace\"><span style=\"font-weight: bold\"> Trainable params: </span><span style=\"color: #00af00; text-decoration-color: #00af00\">853</span> (3.33 KB)\n",
       "</pre>\n"
      ],
      "text/plain": [
       "\u001b[1m Trainable params: \u001b[0m\u001b[38;5;34m853\u001b[0m (3.33 KB)\n"
      ]
     },
     "metadata": {},
     "output_type": "display_data"
    },
    {
     "data": {
      "text/html": [
       "<pre style=\"white-space:pre;overflow-x:auto;line-height:normal;font-family:Menlo,'DejaVu Sans Mono',consolas,'Courier New',monospace\"><span style=\"font-weight: bold\"> Non-trainable params: </span><span style=\"color: #00af00; text-decoration-color: #00af00\">0</span> (0.00 B)\n",
       "</pre>\n"
      ],
      "text/plain": [
       "\u001b[1m Non-trainable params: \u001b[0m\u001b[38;5;34m0\u001b[0m (0.00 B)\n"
      ]
     },
     "metadata": {},
     "output_type": "display_data"
    }
   ],
   "source": [
    "sgd = tf.keras.optimizers.SGD(learning_rate=0.01, momentum=0.9)\n",
    "model_drk.compile(loss='crossentropy', optimizer=sgd, metrics=['accuracy'])\n",
    "model_drk.summary()"
   ]
  },
  {
   "cell_type": "code",
   "execution_count": null,
   "metadata": {},
   "outputs": [
    {
     "name": "stdout",
     "output_type": "stream",
     "text": [
      "Training model\n",
      "Epoch 1/20\n",
      "4357/4357 - 2s - 514us/step - accuracy: 0.7244 - loss: 0.5379 - val_accuracy: 0.7287 - val_loss: 0.5300\n",
      "Epoch 2/20\n",
      "4357/4357 - 2s - 448us/step - accuracy: 0.7321 - loss: 0.5260 - val_accuracy: 0.7315 - val_loss: 0.5250\n",
      "Epoch 3/20\n",
      "4357/4357 - 2s - 408us/step - accuracy: 0.7334 - loss: 0.5239 - val_accuracy: 0.7327 - val_loss: 0.5234\n",
      "Epoch 4/20\n",
      "4357/4357 - 2s - 428us/step - accuracy: 0.7343 - loss: 0.5229 - val_accuracy: 0.7329 - val_loss: 0.5230\n",
      "Epoch 5/20\n",
      "4357/4357 - 2s - 453us/step - accuracy: 0.7350 - loss: 0.5221 - val_accuracy: 0.7329 - val_loss: 0.5222\n",
      "Epoch 6/20\n",
      "4357/4357 - 2s - 425us/step - accuracy: 0.7350 - loss: 0.5216 - val_accuracy: 0.7334 - val_loss: 0.5222\n",
      "Epoch 7/20\n",
      "4357/4357 - 2s - 428us/step - accuracy: 0.7353 - loss: 0.5213 - val_accuracy: 0.7335 - val_loss: 0.5224\n",
      "Epoch 8/20\n",
      "4357/4357 - 2s - 410us/step - accuracy: 0.7353 - loss: 0.5210 - val_accuracy: 0.7334 - val_loss: 0.5227\n",
      "Epoch 9/20\n",
      "4357/4357 - 2s - 441us/step - accuracy: 0.7355 - loss: 0.5208 - val_accuracy: 0.7341 - val_loss: 0.5216\n",
      "Epoch 10/20\n",
      "4357/4357 - 2s - 447us/step - accuracy: 0.7355 - loss: 0.5205 - val_accuracy: 0.7340 - val_loss: 0.5229\n",
      "Epoch 11/20\n",
      "4357/4357 - 2s - 427us/step - accuracy: 0.7356 - loss: 0.5203 - val_accuracy: 0.7345 - val_loss: 0.5212\n",
      "Epoch 12/20\n",
      "4357/4357 - 2s - 436us/step - accuracy: 0.7358 - loss: 0.5200 - val_accuracy: 0.7345 - val_loss: 0.5211\n",
      "Epoch 13/20\n",
      "4357/4357 - 2s - 468us/step - accuracy: 0.7360 - loss: 0.5197 - val_accuracy: 0.7346 - val_loss: 0.5214\n",
      "Epoch 14/20\n",
      "4357/4357 - 2s - 472us/step - accuracy: 0.7358 - loss: 0.5198 - val_accuracy: 0.7352 - val_loss: 0.5205\n",
      "Epoch 15/20\n",
      "4357/4357 - 2s - 527us/step - accuracy: 0.7363 - loss: 0.5194 - val_accuracy: 0.7332 - val_loss: 0.5218\n",
      "Epoch 16/20\n",
      "4357/4357 - 2s - 464us/step - accuracy: 0.7360 - loss: 0.5193 - val_accuracy: 0.7344 - val_loss: 0.5214\n",
      "Epoch 17/20\n",
      "4357/4357 - 2s - 402us/step - accuracy: 0.7361 - loss: 0.5193 - val_accuracy: 0.7343 - val_loss: 0.5208\n",
      "Epoch 18/20\n",
      "4357/4357 - 2s - 411us/step - accuracy: 0.7363 - loss: 0.5192 - val_accuracy: 0.7349 - val_loss: 0.5203\n",
      "Epoch 19/20\n",
      "4357/4357 - 2s - 414us/step - accuracy: 0.7361 - loss: 0.5190 - val_accuracy: 0.7346 - val_loss: 0.5206\n",
      "Epoch 20/20\n",
      "4357/4357 - 2s - 416us/step - accuracy: 0.7364 - loss: 0.5190 - val_accuracy: 0.7345 - val_loss: 0.5215\n"
     ]
    }
   ],
   "source": [
    "history_drk = run_network([X_train_act_drk, y_train_act_drk, X_train_val_drk, y_train_val_drk], model_drk)"
   ]
  },
  {
   "cell_type": "code",
   "execution_count": null,
   "metadata": {},
   "outputs": [
    {
     "name": "stdout",
     "output_type": "stream",
     "text": [
      "\u001b[1m7745/7745\u001b[0m \u001b[32m━━━━━━━━━━━━━━━━━━━━\u001b[0m\u001b[37m\u001b[0m \u001b[1m2s\u001b[0m 220us/step\n"
     ]
    }
   ],
   "source": [
    "y_prob = model_drk.predict(X_test_drk)"
   ]
  },
  {
   "cell_type": "code",
   "execution_count": null,
   "metadata": {},
   "outputs": [
    {
     "name": "stdout",
     "output_type": "stream",
     "text": [
      "\u001b[1m15490/15490\u001b[0m \u001b[32m━━━━━━━━━━━━━━━━━━━━\u001b[0m\u001b[37m\u001b[0m \u001b[1m4s\u001b[0m 255us/step - accuracy: 0.7351 - loss: 0.5214\n"
     ]
    }
   ],
   "source": [
    "score_drk = eval_network([X_test_drk, y_test_drk], model_drk)"
   ]
  },
  {
   "cell_type": "code",
   "execution_count": null,
   "metadata": {},
   "outputs": [
    {
     "data": {
      "image/png": "[encoded data removed]",
      "text/plain": [
       "<Figure size 640x480 with 1 Axes>"
      ]
     },
     "metadata": {},
     "output_type": "display_data"
    }
   ],
   "source": [
    "fpr, tpr, thresholds = roc_curve(y_test_drk, y_prob)\n",
    "roc_auc = auc(fpr, tpr)\n",
    "optimal_idx = np.argmin(np.sqrt((1-tpr)**2 + fpr**2))\n",
    "optimal_threshold = thresholds[optimal_idx]\n",
    "plt.scatter(fpr[optimal_idx], tpr[optimal_idx], marker='o', color='black', label='Optimal Threshold = %0.2f' % optimal_threshold)\n",
    "plt.plot(fpr, tpr, lw=2, label='ROC curve (area = %0.2f)' % roc_auc)\n",
    "\n",
    "plt.plot([0, 1], [0, 1], color='navy', lw=2, linestyle='--')\n",
    "plt.xlim([0.0, 1.0])\n",
    "plt.ylim([0.0, 1.05])\n",
    "plt.xlabel('False Positive Rate')\n",
    "plt.ylabel('True Positive Rate')\n",
    "plt.title('ROC for Binary Drinker Prediction')\n",
    "plt.legend(loc=\"lower right\")\n",
    "plt.show()"
   ]
  },
  {
   "cell_type": "code",
   "execution_count": null,
   "metadata": {},
   "outputs": [
    {
     "name": "stdout",
     "output_type": "stream",
     "text": [
      "\u001b[1m7745/7745\u001b[0m \u001b[32m━━━━━━━━━━━━━━━━━━━━\u001b[0m\u001b[37m\u001b[0m \u001b[1m2s\u001b[0m 218us/step\n"
     ]
    }
   ],
   "source": [
    "y_pred = model_drk.predict(X_test_drk)\n",
    "threshold = 0.51\n",
    "y_pred = (y_pred > threshold).astype(int)"
   ]
  },
  {
   "cell_type": "code",
   "execution_count": null,
   "metadata": {},
   "outputs": [
    {
     "data": {
      "text/plain": [
       "0.7362581051255462"
      ]
     },
     "execution_count": 737,
     "metadata": {},
     "output_type": "execute_result"
    }
   ],
   "source": [
    "acc_drk = accuracy_score(y_test_drk, y_pred)\n",
    "acc_drk"
   ]
  },
  {
   "cell_type": "markdown",
   "metadata": {},
   "source": [
    "# Below 50 Multi-Label"
   ]
  },
  {
   "cell_type": "code",
   "execution_count": null,
   "metadata": {},
   "outputs": [],
   "source": [
    "below50_df = pd.read_csv('scaled_smoking_drinking_dataset_50_and_under.csv')"
   ]
  },
  {
   "cell_type": "code",
   "execution_count": null,
   "metadata": {},
   "outputs": [],
   "source": [
    "X_below = below50_df[below50_df.columns[~below50_df.columns.isin(['DRK_YN', 'SMK_stat_type_cd'])]]\n",
    "y_below = below50_df[['DRK_YN', 'SMK_stat_type_cd']]"
   ]
  },
  {
   "cell_type": "code",
   "execution_count": null,
   "metadata": {},
   "outputs": [],
   "source": [
    "X_train_below, X_test_below, y_train_below, y_test_below = train_test_split(X_below, y_below, random_state=3)"
   ]
  },
  {
   "cell_type": "code",
   "execution_count": null,
   "metadata": {},
   "outputs": [],
   "source": [
    "X_train_below_act, X_train_below_val, y_train_below_act, y_train_below_val = train_test_split(X_train_below, y_train_below, random_state=17)"
   ]
  },
  {
   "cell_type": "code",
   "execution_count": null,
   "metadata": {},
   "outputs": [
    {
     "data": {
      "text/plain": [
       "(470130, 22)"
      ]
     },
     "execution_count": 746,
     "metadata": {},
     "output_type": "execute_result"
    }
   ],
   "source": [
    "X_train_below.shape"
   ]
  },
  {
   "cell_type": "code",
   "execution_count": null,
   "metadata": {},
   "outputs": [],
   "source": [
    "model_below = build_ffnn_model()"
   ]
  },
  {
   "cell_type": "code",
   "execution_count": null,
   "metadata": {},
   "outputs": [],
   "source": [
    "sgd = tf.keras.optimizers.SGD(learning_rate=0.01, momentum=0.9)\n",
    "model_below.compile(loss='binary_crossentropy', optimizer=sgd, metrics=['accuracy'])"
   ]
  },
  {
   "cell_type": "code",
   "execution_count": null,
   "metadata": {},
   "outputs": [
    {
     "data": {
      "text/html": [
       "<pre style=\"white-space:pre;overflow-x:auto;line-height:normal;font-family:Menlo,'DejaVu Sans Mono',consolas,'Courier New',monospace\"><span style=\"font-weight: bold\">Model: \"sequential_52\"</span>\n",
       "</pre>\n"
      ],
      "text/plain": [
       "\u001b[1mModel: \"sequential_52\"\u001b[0m\n"
      ]
     },
     "metadata": {},
     "output_type": "display_data"
    },
    {
     "data": {
      "text/html": [
       "<pre style=\"white-space:pre;overflow-x:auto;line-height:normal;font-family:Menlo,'DejaVu Sans Mono',consolas,'Courier New',monospace\">┏━━━━━━━━━━━━━━━━━━━━━━━━━━━━━━━━━┳━━━━━━━━━━━━━━━━━━━━━━━━┳━━━━━━━━━━━━━━━┓\n",
       "┃<span style=\"font-weight: bold\"> Layer (type)                    </span>┃<span style=\"font-weight: bold\"> Output Shape           </span>┃<span style=\"font-weight: bold\">       Param # </span>┃\n",
       "┡━━━━━━━━━━━━━━━━━━━━━━━━━━━━━━━━━╇━━━━━━━━━━━━━━━━━━━━━━━━╇━━━━━━━━━━━━━━━┩\n",
       "│ dense_211 (<span style=\"color: #0087ff; text-decoration-color: #0087ff\">Dense</span>)               │ (<span style=\"color: #00d7ff; text-decoration-color: #00d7ff\">None</span>, <span style=\"color: #00af00; text-decoration-color: #00af00\">22</span>)             │           <span style=\"color: #00af00; text-decoration-color: #00af00\">506</span> │\n",
       "├─────────────────────────────────┼────────────────────────┼───────────────┤\n",
       "│ dense_212 (<span style=\"color: #0087ff; text-decoration-color: #0087ff\">Dense</span>)               │ (<span style=\"color: #00d7ff; text-decoration-color: #00d7ff\">None</span>, <span style=\"color: #00af00; text-decoration-color: #00af00\">12</span>)             │           <span style=\"color: #00af00; text-decoration-color: #00af00\">276</span> │\n",
       "├─────────────────────────────────┼────────────────────────┼───────────────┤\n",
       "│ dense_213 (<span style=\"color: #0087ff; text-decoration-color: #0087ff\">Dense</span>)               │ (<span style=\"color: #00d7ff; text-decoration-color: #00d7ff\">None</span>, <span style=\"color: #00af00; text-decoration-color: #00af00\">2</span>)              │            <span style=\"color: #00af00; text-decoration-color: #00af00\">26</span> │\n",
       "└─────────────────────────────────┴────────────────────────┴───────────────┘\n",
       "</pre>\n"
      ],
      "text/plain": [
       "┏━━━━━━━━━━━━━━━━━━━━━━━━━━━━━━━━━┳━━━━━━━━━━━━━━━━━━━━━━━━┳━━━━━━━━━━━━━━━┓\n",
       "┃\u001b[1m \u001b[0m\u001b[1mLayer (type)                   \u001b[0m\u001b[1m \u001b[0m┃\u001b[1m \u001b[0m\u001b[1mOutput Shape          \u001b[0m\u001b[1m \u001b[0m┃\u001b[1m \u001b[0m\u001b[1m      Param #\u001b[0m\u001b[1m \u001b[0m┃\n",
       "┡━━━━━━━━━━━━━━━━━━━━━━━━━━━━━━━━━╇━━━━━━━━━━━━━━━━━━━━━━━━╇━━━━━━━━━━━━━━━┩\n",
       "│ dense_211 (\u001b[38;5;33mDense\u001b[0m)               │ (\u001b[38;5;45mNone\u001b[0m, \u001b[38;5;34m22\u001b[0m)             │           \u001b[38;5;34m506\u001b[0m │\n",
       "├─────────────────────────────────┼────────────────────────┼───────────────┤\n",
       "│ dense_212 (\u001b[38;5;33mDense\u001b[0m)               │ (\u001b[38;5;45mNone\u001b[0m, \u001b[38;5;34m12\u001b[0m)             │           \u001b[38;5;34m276\u001b[0m │\n",
       "├─────────────────────────────────┼────────────────────────┼───────────────┤\n",
       "│ dense_213 (\u001b[38;5;33mDense\u001b[0m)               │ (\u001b[38;5;45mNone\u001b[0m, \u001b[38;5;34m2\u001b[0m)              │            \u001b[38;5;34m26\u001b[0m │\n",
       "└─────────────────────────────────┴────────────────────────┴───────────────┘\n"
      ]
     },
     "metadata": {},
     "output_type": "display_data"
    },
    {
     "data": {
      "text/html": [
       "<pre style=\"white-space:pre;overflow-x:auto;line-height:normal;font-family:Menlo,'DejaVu Sans Mono',consolas,'Courier New',monospace\"><span style=\"font-weight: bold\"> Total params: </span><span style=\"color: #00af00; text-decoration-color: #00af00\">808</span> (3.16 KB)\n",
       "</pre>\n"
      ],
      "text/plain": [
       "\u001b[1m Total params: \u001b[0m\u001b[38;5;34m808\u001b[0m (3.16 KB)\n"
      ]
     },
     "metadata": {},
     "output_type": "display_data"
    },
    {
     "data": {
      "text/html": [
       "<pre style=\"white-space:pre;overflow-x:auto;line-height:normal;font-family:Menlo,'DejaVu Sans Mono',consolas,'Courier New',monospace\"><span style=\"font-weight: bold\"> Trainable params: </span><span style=\"color: #00af00; text-decoration-color: #00af00\">808</span> (3.16 KB)\n",
       "</pre>\n"
      ],
      "text/plain": [
       "\u001b[1m Trainable params: \u001b[0m\u001b[38;5;34m808\u001b[0m (3.16 KB)\n"
      ]
     },
     "metadata": {},
     "output_type": "display_data"
    },
    {
     "data": {
      "text/html": [
       "<pre style=\"white-space:pre;overflow-x:auto;line-height:normal;font-family:Menlo,'DejaVu Sans Mono',consolas,'Courier New',monospace\"><span style=\"font-weight: bold\"> Non-trainable params: </span><span style=\"color: #00af00; text-decoration-color: #00af00\">0</span> (0.00 B)\n",
       "</pre>\n"
      ],
      "text/plain": [
       "\u001b[1m Non-trainable params: \u001b[0m\u001b[38;5;34m0\u001b[0m (0.00 B)\n"
      ]
     },
     "metadata": {},
     "output_type": "display_data"
    }
   ],
   "source": [
    "model_below.summary()"
   ]
  },
  {
   "cell_type": "code",
   "execution_count": null,
   "metadata": {},
   "outputs": [
    {
     "name": "stdout",
     "output_type": "stream",
     "text": [
      "Training model\n",
      "Epoch 1/20\n",
      "2755/2755 - 2s - 606us/step - accuracy: 0.9413 - loss: 0.5227 - val_accuracy: 0.9403 - val_loss: 0.5064\n",
      "Epoch 2/20\n",
      "2755/2755 - 1s - 430us/step - accuracy: 0.9398 - loss: 0.5063 - val_accuracy: 0.9371 - val_loss: 0.5036\n",
      "Epoch 3/20\n",
      "2755/2755 - 1s - 411us/step - accuracy: 0.9388 - loss: 0.5037 - val_accuracy: 0.9318 - val_loss: 0.5022\n",
      "Epoch 4/20\n",
      "2755/2755 - 1s - 413us/step - accuracy: 0.9377 - loss: 0.5021 - val_accuracy: 0.9402 - val_loss: 0.5005\n",
      "Epoch 5/20\n",
      "2755/2755 - 1s - 408us/step - accuracy: 0.9373 - loss: 0.5012 - val_accuracy: 0.9302 - val_loss: 0.5027\n",
      "Epoch 6/20\n",
      "2755/2755 - 1s - 418us/step - accuracy: 0.9362 - loss: 0.5005 - val_accuracy: 0.9373 - val_loss: 0.4988\n",
      "Epoch 7/20\n",
      "2755/2755 - 1s - 424us/step - accuracy: 0.9362 - loss: 0.4999 - val_accuracy: 0.9363 - val_loss: 0.4983\n",
      "Epoch 8/20\n",
      "2755/2755 - 1s - 408us/step - accuracy: 0.9361 - loss: 0.4996 - val_accuracy: 0.9382 - val_loss: 0.4978\n",
      "Epoch 9/20\n",
      "2755/2755 - 1s - 414us/step - accuracy: 0.9356 - loss: 0.4992 - val_accuracy: 0.9334 - val_loss: 0.4977\n",
      "Epoch 10/20\n",
      "2755/2755 - 1s - 488us/step - accuracy: 0.9356 - loss: 0.4991 - val_accuracy: 0.9352 - val_loss: 0.4998\n",
      "Epoch 11/20\n",
      "2755/2755 - 1s - 448us/step - accuracy: 0.9355 - loss: 0.4988 - val_accuracy: 0.9356 - val_loss: 0.4972\n",
      "Epoch 12/20\n",
      "2755/2755 - 1s - 435us/step - accuracy: 0.9355 - loss: 0.4987 - val_accuracy: 0.9348 - val_loss: 0.4973\n",
      "Epoch 13/20\n",
      "2755/2755 - 1s - 418us/step - accuracy: 0.9349 - loss: 0.4984 - val_accuracy: 0.9377 - val_loss: 0.4972\n",
      "Epoch 14/20\n",
      "2755/2755 - 1s - 489us/step - accuracy: 0.9352 - loss: 0.4983 - val_accuracy: 0.9370 - val_loss: 0.4972\n",
      "Epoch 15/20\n",
      "2755/2755 - 1s - 468us/step - accuracy: 0.9352 - loss: 0.4981 - val_accuracy: 0.9273 - val_loss: 0.4977\n",
      "Epoch 16/20\n",
      "2755/2755 - 1s - 417us/step - accuracy: 0.9350 - loss: 0.4981 - val_accuracy: 0.9353 - val_loss: 0.4970\n",
      "Epoch 17/20\n",
      "2755/2755 - 1s - 453us/step - accuracy: 0.9349 - loss: 0.4979 - val_accuracy: 0.9356 - val_loss: 0.4968\n",
      "Epoch 18/20\n",
      "2755/2755 - 1s - 442us/step - accuracy: 0.9347 - loss: 0.4978 - val_accuracy: 0.9384 - val_loss: 0.4974\n",
      "Epoch 19/20\n",
      "2755/2755 - 1s - 426us/step - accuracy: 0.9350 - loss: 0.4977 - val_accuracy: 0.9299 - val_loss: 0.4968\n",
      "Epoch 20/20\n",
      "2755/2755 - 1s - 449us/step - accuracy: 0.9347 - loss: 0.4976 - val_accuracy: 0.9339 - val_loss: 0.4971\n"
     ]
    }
   ],
   "source": [
    "history = run_network([X_train_below_act, y_train_below_act, X_train_below_val, y_train_below_val], model_below)"
   ]
  },
  {
   "cell_type": "code",
   "execution_count": null,
   "metadata": {},
   "outputs": [
    {
     "name": "stdout",
     "output_type": "stream",
     "text": [
      "\u001b[1m9795/9795\u001b[0m \u001b[32m━━━━━━━━━━━━━━━━━━━━\u001b[0m\u001b[37m\u001b[0m \u001b[1m3s\u001b[0m 263us/step - accuracy: 0.9308 - loss: 0.5007\n"
     ]
    }
   ],
   "source": [
    "score = eval_network([X_test_below, y_test_below], model_below)"
   ]
  },
  {
   "cell_type": "code",
   "execution_count": null,
   "metadata": {},
   "outputs": [
    {
     "name": "stdout",
     "output_type": "stream",
     "text": [
      "\u001b[1m4898/4898\u001b[0m \u001b[32m━━━━━━━━━━━━━━━━━━━━\u001b[0m\u001b[37m\u001b[0m \u001b[1m1s\u001b[0m 237us/step\n"
     ]
    }
   ],
   "source": [
    "y_prob = model_below.predict(X_test_below)"
   ]
  },
  {
   "cell_type": "code",
   "execution_count": null,
   "metadata": {},
   "outputs": [
    {
     "data": {
      "image/png": "[encoded data removed]",
      "text/plain": [
       "<Figure size 640x480 with 1 Axes>"
      ]
     },
     "metadata": {},
     "output_type": "display_data"
    }
   ],
   "source": [
    "for col,i in zip(['DRK_YN', 'SMK_stat_type_cd'],range(y_prob.shape[1])):  # Assuming y_scores.shape[1] == number of labels\n",
    "    fpr, tpr, thresholds = roc_curve(y_test_below[col], y_prob[:, i])\n",
    "    roc_auc = auc(fpr, tpr)\n",
    "    optimal_idx = np.argmin(np.sqrt((1-tpr)**2 + fpr**2))\n",
    "    optimal_threshold = thresholds[optimal_idx]\n",
    "    plt.scatter(fpr[optimal_idx], tpr[optimal_idx], marker='o', color='black', label='%s Optimal Threshold = %0.2f' % (col, optimal_threshold))\n",
    "    plt.plot(fpr, tpr, lw=2, label='ROC curve of %s (area = %0.2f)' % (col, roc_auc))\n",
    "\n",
    "plt.plot([0, 1], [0, 1], color='navy', lw=2, linestyle='--')\n",
    "plt.xlim([0.0, 1.0])\n",
    "plt.ylim([0.0, 1.05])\n",
    "plt.xlabel('False Positive Rate')\n",
    "plt.ylabel('True Positive Rate')\n",
    "plt.title('ROC for Multi-Label Classification')\n",
    "plt.legend(loc=\"lower right\")\n",
    "plt.show()"
   ]
  },
  {
   "cell_type": "code",
   "execution_count": null,
   "metadata": {},
   "outputs": [
    {
     "name": "stdout",
     "output_type": "stream",
     "text": [
      "\u001b[1m4898/4898\u001b[0m \u001b[32m━━━━━━━━━━━━━━━━━━━━\u001b[0m\u001b[37m\u001b[0m \u001b[1m1s\u001b[0m 241us/step\n"
     ]
    }
   ],
   "source": [
    "y_pred = model_below.predict(X_test_below)\n",
    "y_pred = [[1 if x[0] > 0.56 else 0, 1 if x[1] > 0.32 else 0] for x in y_pred]"
   ]
  },
  {
   "cell_type": "code",
   "execution_count": null,
   "metadata": {},
   "outputs": [
    {
     "data": {
      "text/plain": [
       "0.730133813197542"
      ]
     },
     "execution_count": 755,
     "metadata": {},
     "output_type": "execute_result"
    }
   ],
   "source": [
    "ml_acc = accuracy_score(y_test_below['SMK_stat_type_cd'], [x[1] for x in y_pred])\n",
    "ml_acc"
   ]
  },
  {
   "cell_type": "code",
   "execution_count": null,
   "metadata": {},
   "outputs": [
    {
     "data": {
      "text/plain": [
       "0.6937419836514348"
      ]
     },
     "execution_count": 756,
     "metadata": {},
     "output_type": "execute_result"
    }
   ],
   "source": [
    "ml_acc = accuracy_score(y_test_below['DRK_YN'], [x[0] for x in y_pred])\n",
    "ml_acc"
   ]
  },
  {
   "cell_type": "markdown",
   "metadata": {},
   "source": [
    "# One-Class Smoker-Drinker"
   ]
  },
  {
   "cell_type": "code",
   "execution_count": null,
   "metadata": {},
   "outputs": [],
   "source": [
    "df = pd.read_csv('scaled_smoking_drinking_dataset.csv')"
   ]
  },
  {
   "cell_type": "code",
   "execution_count": null,
   "metadata": {},
   "outputs": [],
   "source": [
    "df['Smoker-Drinker'] = [0 if df['DRK_YN'] == 1]"
   ]
  },
  {
   "cell_type": "code",
   "execution_count": null,
   "metadata": {},
   "outputs": [
    {
     "data": {
      "text/html": [
       "<div>\n",
       "<style scoped>\n",
       "    .dataframe tbody tr th:only-of-type {\n",
       "        vertical-align: middle;\n",
       "    }\n",
       "\n",
       "    .dataframe tbody tr th {\n",
       "        vertical-align: top;\n",
       "    }\n",
       "\n",
       "    .dataframe thead th {\n",
       "        text-align: right;\n",
       "    }\n",
       "</style>\n",
       "<table border=\"1\" class=\"dataframe\">\n",
       "  <thead>\n",
       "    <tr style=\"text-align: right;\">\n",
       "      <th></th>\n",
       "      <th>age</th>\n",
       "      <th>height</th>\n",
       "      <th>weight</th>\n",
       "      <th>waistline</th>\n",
       "      <th>sight_left</th>\n",
       "      <th>sight_right</th>\n",
       "      <th>SBP</th>\n",
       "      <th>DBP</th>\n",
       "      <th>BLDS</th>\n",
       "      <th>tot_chole</th>\n",
       "      <th>...</th>\n",
       "      <th>SGOT_AST</th>\n",
       "      <th>SGOT_ALT</th>\n",
       "      <th>gamma_GTP</th>\n",
       "      <th>sex</th>\n",
       "      <th>urine_protein</th>\n",
       "      <th>hear_left</th>\n",
       "      <th>hear_right</th>\n",
       "      <th>DRK_YN</th>\n",
       "      <th>SMK_stat_type_cd</th>\n",
       "      <th>Smoker-Drinker</th>\n",
       "    </tr>\n",
       "  </thead>\n",
       "  <tbody>\n",
       "    <tr>\n",
       "      <th>0</th>\n",
       "      <td>-0.889514</td>\n",
       "      <td>0.835874</td>\n",
       "      <td>0.936210</td>\n",
       "      <td>0.739781</td>\n",
       "      <td>0.031629</td>\n",
       "      <td>0.035668</td>\n",
       "      <td>-0.167261</td>\n",
       "      <td>0.399153</td>\n",
       "      <td>-0.058910</td>\n",
       "      <td>-0.066141</td>\n",
       "      <td>...</td>\n",
       "      <td>-0.212371</td>\n",
       "      <td>0.351404</td>\n",
       "      <td>0.056791</td>\n",
       "      <td>0</td>\n",
       "      <td>1.0</td>\n",
       "      <td>1.0</td>\n",
       "      <td>1.0</td>\n",
       "      <td>1</td>\n",
       "      <td>0.0</td>\n",
       "      <td>1.0</td>\n",
       "    </tr>\n",
       "    <tr>\n",
       "      <th>1</th>\n",
       "      <td>-1.242090</td>\n",
       "      <td>1.913117</td>\n",
       "      <td>1.335755</td>\n",
       "      <td>0.655395</td>\n",
       "      <td>-0.133401</td>\n",
       "      <td>0.366370</td>\n",
       "      <td>0.520349</td>\n",
       "      <td>0.601391</td>\n",
       "      <td>0.230586</td>\n",
       "      <td>0.839184</td>\n",
       "      <td>...</td>\n",
       "      <td>-0.254936</td>\n",
       "      <td>0.389415</td>\n",
       "      <td>-0.201022</td>\n",
       "      <td>0</td>\n",
       "      <td>1.0</td>\n",
       "      <td>1.0</td>\n",
       "      <td>1.0</td>\n",
       "      <td>0</td>\n",
       "      <td>1.0</td>\n",
       "      <td>1.0</td>\n",
       "    </tr>\n",
       "    <tr>\n",
       "      <th>2</th>\n",
       "      <td>-0.536938</td>\n",
       "      <td>0.297252</td>\n",
       "      <td>0.936210</td>\n",
       "      <td>0.824167</td>\n",
       "      <td>0.361690</td>\n",
       "      <td>0.862423</td>\n",
       "      <td>-0.167261</td>\n",
       "      <td>-0.612034</td>\n",
       "      <td>-0.100267</td>\n",
       "      <td>-1.540528</td>\n",
       "      <td>...</td>\n",
       "      <td>0.894324</td>\n",
       "      <td>0.237373</td>\n",
       "      <td>0.612081</td>\n",
       "      <td>0</td>\n",
       "      <td>1.0</td>\n",
       "      <td>1.0</td>\n",
       "      <td>1.0</td>\n",
       "      <td>0</td>\n",
       "      <td>0.0</td>\n",
       "      <td>0.0</td>\n",
       "    </tr>\n",
       "    <tr>\n",
       "      <th>3</th>\n",
       "      <td>0.168215</td>\n",
       "      <td>1.374495</td>\n",
       "      <td>1.335755</td>\n",
       "      <td>0.824167</td>\n",
       "      <td>0.856782</td>\n",
       "      <td>0.366370</td>\n",
       "      <td>1.551763</td>\n",
       "      <td>1.106985</td>\n",
       "      <td>-0.224337</td>\n",
       "      <td>0.140790</td>\n",
       "      <td>...</td>\n",
       "      <td>0.128151</td>\n",
       "      <td>0.313394</td>\n",
       "      <td>-0.379508</td>\n",
       "      <td>0</td>\n",
       "      <td>1.0</td>\n",
       "      <td>1.0</td>\n",
       "      <td>1.0</td>\n",
       "      <td>0</td>\n",
       "      <td>0.0</td>\n",
       "      <td>0.0</td>\n",
       "    </tr>\n",
       "    <tr>\n",
       "      <th>4</th>\n",
       "      <td>0.168215</td>\n",
       "      <td>0.297252</td>\n",
       "      <td>-0.262425</td>\n",
       "      <td>-0.104078</td>\n",
       "      <td>0.031629</td>\n",
       "      <td>0.366370</td>\n",
       "      <td>1.070436</td>\n",
       "      <td>0.601391</td>\n",
       "      <td>0.023803</td>\n",
       "      <td>0.089058</td>\n",
       "      <td>...</td>\n",
       "      <td>-0.297501</td>\n",
       "      <td>-0.522835</td>\n",
       "      <td>-0.240685</td>\n",
       "      <td>0</td>\n",
       "      <td>1.0</td>\n",
       "      <td>1.0</td>\n",
       "      <td>1.0</td>\n",
       "      <td>0</td>\n",
       "      <td>0.0</td>\n",
       "      <td>0.0</td>\n",
       "    </tr>\n",
       "  </tbody>\n",
       "</table>\n",
       "<p>5 rows × 25 columns</p>\n",
       "</div>"
      ],
      "text/plain": [
       "        age    height    weight  waistline  sight_left  sight_right       SBP  \\\n",
       "0 -0.889514  0.835874  0.936210   0.739781    0.031629     0.035668 -0.167261   \n",
       "1 -1.242090  1.913117  1.335755   0.655395   -0.133401     0.366370  0.520349   \n",
       "2 -0.536938  0.297252  0.936210   0.824167    0.361690     0.862423 -0.167261   \n",
       "3  0.168215  1.374495  1.335755   0.824167    0.856782     0.366370  1.551763   \n",
       "4  0.168215  0.297252 -0.262425  -0.104078    0.031629     0.366370  1.070436   \n",
       "\n",
       "        DBP      BLDS  tot_chole  ...  SGOT_AST  SGOT_ALT  gamma_GTP  sex  \\\n",
       "0  0.399153 -0.058910  -0.066141  ... -0.212371  0.351404   0.056791    0   \n",
       "1  0.601391  0.230586   0.839184  ... -0.254936  0.389415  -0.201022    0   \n",
       "2 -0.612034 -0.100267  -1.540528  ...  0.894324  0.237373   0.612081    0   \n",
       "3  1.106985 -0.224337   0.140790  ...  0.128151  0.313394  -0.379508    0   \n",
       "4  0.601391  0.023803   0.089058  ... -0.297501 -0.522835  -0.240685    0   \n",
       "\n",
       "   urine_protein  hear_left  hear_right  DRK_YN  SMK_stat_type_cd  \\\n",
       "0            1.0        1.0         1.0       1               0.0   \n",
       "1            1.0        1.0         1.0       0               1.0   \n",
       "2            1.0        1.0         1.0       0               0.0   \n",
       "3            1.0        1.0         1.0       0               0.0   \n",
       "4            1.0        1.0         1.0       0               0.0   \n",
       "\n",
       "   Smoker-Drinker  \n",
       "0             1.0  \n",
       "1             1.0  \n",
       "2             0.0  \n",
       "3             0.0  \n",
       "4             0.0  \n",
       "\n",
       "[5 rows x 25 columns]"
      ]
     },
     "execution_count": 759,
     "metadata": {},
     "output_type": "execute_result"
    }
   ],
   "source": [
    "df.head()"
   ]
  }
 ],
 "metadata": {
  "kernelspec": {
   "display_name": "Python 3",
   "language": "python",
   "name": "python3"
  },
  "language_info": {
   "codemirror_mode": {
    "name": "ipython",
    "version": 3
   },
   "file_extension": ".py",
   "mimetype": "text/x-python",
   "name": "python",
   "nbconvert_exporter": "python",
   "pygments_lexer": "ipython3",
   "version": "3.11.1"
  }
 },
 "nbformat": 4,
 "nbformat_minor": 2
}

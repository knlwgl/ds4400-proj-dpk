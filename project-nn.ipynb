{
 "cells": [
  {
   "cell_type": "code",
   "execution_count": 2,
   "metadata": {},
   "outputs": [],
   "source": [
    "import pandas as pd\n",
    "import numpy as np\n",
    "import tensorflow as tf\n",
    "\n",
    "from sklearn.model_selection import train_test_split"
   ]
  },
  {
   "cell_type": "code",
   "execution_count": 3,
   "metadata": {},
   "outputs": [],
   "source": [
    "df = pd.read_csv('scaled_smoking_drinking_dataset.csv')"
   ]
  },
  {
   "cell_type": "code",
   "execution_count": 4,
   "metadata": {},
   "outputs": [
    {
     "data": {
      "text/html": [
       "<div>\n",
       "<style scoped>\n",
       "    .dataframe tbody tr th:only-of-type {\n",
       "        vertical-align: middle;\n",
       "    }\n",
       "\n",
       "    .dataframe tbody tr th {\n",
       "        vertical-align: top;\n",
       "    }\n",
       "\n",
       "    .dataframe thead th {\n",
       "        text-align: right;\n",
       "    }\n",
       "</style>\n",
       "<table border=\"1\" class=\"dataframe\">\n",
       "  <thead>\n",
       "    <tr style=\"text-align: right;\">\n",
       "      <th></th>\n",
       "      <th>age</th>\n",
       "      <th>height</th>\n",
       "      <th>weight</th>\n",
       "      <th>waistline</th>\n",
       "      <th>sight_left</th>\n",
       "      <th>sight_right</th>\n",
       "      <th>SBP</th>\n",
       "      <th>DBP</th>\n",
       "      <th>BLDS</th>\n",
       "      <th>tot_chole</th>\n",
       "      <th>...</th>\n",
       "      <th>serum_creatinine</th>\n",
       "      <th>SGOT_AST</th>\n",
       "      <th>SGOT_ALT</th>\n",
       "      <th>gamma_GTP</th>\n",
       "      <th>sex</th>\n",
       "      <th>urine_protein</th>\n",
       "      <th>hear_left</th>\n",
       "      <th>hear_right</th>\n",
       "      <th>DRK_YN</th>\n",
       "      <th>SMK_stat_type_cd</th>\n",
       "    </tr>\n",
       "  </thead>\n",
       "  <tbody>\n",
       "    <tr>\n",
       "      <th>0</th>\n",
       "      <td>-0.889514</td>\n",
       "      <td>0.835874</td>\n",
       "      <td>0.936210</td>\n",
       "      <td>0.739781</td>\n",
       "      <td>0.031629</td>\n",
       "      <td>0.035668</td>\n",
       "      <td>-0.167261</td>\n",
       "      <td>0.399153</td>\n",
       "      <td>-0.058910</td>\n",
       "      <td>-0.066141</td>\n",
       "      <td>...</td>\n",
       "      <td>0.290374</td>\n",
       "      <td>-0.212371</td>\n",
       "      <td>0.351404</td>\n",
       "      <td>0.056791</td>\n",
       "      <td>0</td>\n",
       "      <td>1.0</td>\n",
       "      <td>1.0</td>\n",
       "      <td>1.0</td>\n",
       "      <td>1</td>\n",
       "      <td>0.0</td>\n",
       "    </tr>\n",
       "    <tr>\n",
       "      <th>1</th>\n",
       "      <td>-1.242090</td>\n",
       "      <td>1.913117</td>\n",
       "      <td>1.335755</td>\n",
       "      <td>0.655395</td>\n",
       "      <td>-0.133401</td>\n",
       "      <td>0.366370</td>\n",
       "      <td>0.520349</td>\n",
       "      <td>0.601391</td>\n",
       "      <td>0.230586</td>\n",
       "      <td>0.839184</td>\n",
       "      <td>...</td>\n",
       "      <td>0.082270</td>\n",
       "      <td>-0.254936</td>\n",
       "      <td>0.389415</td>\n",
       "      <td>-0.201022</td>\n",
       "      <td>0</td>\n",
       "      <td>1.0</td>\n",
       "      <td>1.0</td>\n",
       "      <td>1.0</td>\n",
       "      <td>0</td>\n",
       "      <td>1.0</td>\n",
       "    </tr>\n",
       "    <tr>\n",
       "      <th>2</th>\n",
       "      <td>-0.536938</td>\n",
       "      <td>0.297252</td>\n",
       "      <td>0.936210</td>\n",
       "      <td>0.824167</td>\n",
       "      <td>0.361690</td>\n",
       "      <td>0.862423</td>\n",
       "      <td>-0.167261</td>\n",
       "      <td>-0.612034</td>\n",
       "      <td>-0.100267</td>\n",
       "      <td>-1.540528</td>\n",
       "      <td>...</td>\n",
       "      <td>0.082270</td>\n",
       "      <td>0.894324</td>\n",
       "      <td>0.237373</td>\n",
       "      <td>0.612081</td>\n",
       "      <td>0</td>\n",
       "      <td>1.0</td>\n",
       "      <td>1.0</td>\n",
       "      <td>1.0</td>\n",
       "      <td>0</td>\n",
       "      <td>0.0</td>\n",
       "    </tr>\n",
       "    <tr>\n",
       "      <th>3</th>\n",
       "      <td>0.168215</td>\n",
       "      <td>1.374495</td>\n",
       "      <td>1.335755</td>\n",
       "      <td>0.824167</td>\n",
       "      <td>0.856782</td>\n",
       "      <td>0.366370</td>\n",
       "      <td>1.551763</td>\n",
       "      <td>1.106985</td>\n",
       "      <td>-0.224337</td>\n",
       "      <td>0.140790</td>\n",
       "      <td>...</td>\n",
       "      <td>0.498477</td>\n",
       "      <td>0.128151</td>\n",
       "      <td>0.313394</td>\n",
       "      <td>-0.379508</td>\n",
       "      <td>0</td>\n",
       "      <td>1.0</td>\n",
       "      <td>1.0</td>\n",
       "      <td>1.0</td>\n",
       "      <td>0</td>\n",
       "      <td>0.0</td>\n",
       "    </tr>\n",
       "    <tr>\n",
       "      <th>4</th>\n",
       "      <td>0.168215</td>\n",
       "      <td>0.297252</td>\n",
       "      <td>-0.262425</td>\n",
       "      <td>-0.104078</td>\n",
       "      <td>0.031629</td>\n",
       "      <td>0.366370</td>\n",
       "      <td>1.070436</td>\n",
       "      <td>0.601391</td>\n",
       "      <td>0.023803</td>\n",
       "      <td>0.089058</td>\n",
       "      <td>...</td>\n",
       "      <td>-0.125833</td>\n",
       "      <td>-0.297501</td>\n",
       "      <td>-0.522835</td>\n",
       "      <td>-0.240685</td>\n",
       "      <td>0</td>\n",
       "      <td>1.0</td>\n",
       "      <td>1.0</td>\n",
       "      <td>1.0</td>\n",
       "      <td>0</td>\n",
       "      <td>0.0</td>\n",
       "    </tr>\n",
       "  </tbody>\n",
       "</table>\n",
       "<p>5 rows × 24 columns</p>\n",
       "</div>"
      ],
      "text/plain": [
       "        age    height    weight  waistline  sight_left  sight_right       SBP  \\\n",
       "0 -0.889514  0.835874  0.936210   0.739781    0.031629     0.035668 -0.167261   \n",
       "1 -1.242090  1.913117  1.335755   0.655395   -0.133401     0.366370  0.520349   \n",
       "2 -0.536938  0.297252  0.936210   0.824167    0.361690     0.862423 -0.167261   \n",
       "3  0.168215  1.374495  1.335755   0.824167    0.856782     0.366370  1.551763   \n",
       "4  0.168215  0.297252 -0.262425  -0.104078    0.031629     0.366370  1.070436   \n",
       "\n",
       "        DBP      BLDS  tot_chole  ...  serum_creatinine  SGOT_AST  SGOT_ALT  \\\n",
       "0  0.399153 -0.058910  -0.066141  ...          0.290374 -0.212371  0.351404   \n",
       "1  0.601391  0.230586   0.839184  ...          0.082270 -0.254936  0.389415   \n",
       "2 -0.612034 -0.100267  -1.540528  ...          0.082270  0.894324  0.237373   \n",
       "3  1.106985 -0.224337   0.140790  ...          0.498477  0.128151  0.313394   \n",
       "4  0.601391  0.023803   0.089058  ...         -0.125833 -0.297501 -0.522835   \n",
       "\n",
       "   gamma_GTP  sex  urine_protein  hear_left  hear_right  DRK_YN  \\\n",
       "0   0.056791    0            1.0        1.0         1.0       1   \n",
       "1  -0.201022    0            1.0        1.0         1.0       0   \n",
       "2   0.612081    0            1.0        1.0         1.0       0   \n",
       "3  -0.379508    0            1.0        1.0         1.0       0   \n",
       "4  -0.240685    0            1.0        1.0         1.0       0   \n",
       "\n",
       "   SMK_stat_type_cd  \n",
       "0               0.0  \n",
       "1               1.0  \n",
       "2               0.0  \n",
       "3               0.0  \n",
       "4               0.0  \n",
       "\n",
       "[5 rows x 24 columns]"
      ]
     },
     "execution_count": 4,
     "metadata": {},
     "output_type": "execute_result"
    }
   ],
   "source": [
    "df.head()"
   ]
  },
  {
   "cell_type": "markdown",
   "metadata": {},
   "source": [
    "# Multi-label Classification using Feed-Forward"
   ]
  },
  {
   "cell_type": "code",
   "execution_count": 5,
   "metadata": {},
   "outputs": [],
   "source": [
    "X = df[df.columns[~df.columns.isin(['DRK_YN', 'SMK_stat_type_cd'])]]\n",
    "y = df[['DRK_YN', 'SMK_stat_type_cd']]"
   ]
  },
  {
   "cell_type": "code",
   "execution_count": 6,
   "metadata": {},
   "outputs": [],
   "source": [
    "X_train, X_test, y_train, y_test = train_test_split(X, y, random_state=3)"
   ]
  },
  {
   "cell_type": "code",
   "execution_count": 7,
   "metadata": {},
   "outputs": [],
   "source": [
    "X_train_act, X_train_val, y_train_act, y_train_val = train_test_split(X_train, y_train, random_state=17)"
   ]
  },
  {
   "cell_type": "code",
   "execution_count": 8,
   "metadata": {},
   "outputs": [
    {
     "data": {
      "text/plain": [
       "(743509, 22)"
      ]
     },
     "execution_count": 8,
     "metadata": {},
     "output_type": "execute_result"
    }
   ],
   "source": [
    "X_train.shape"
   ]
  },
  {
   "cell_type": "code",
   "execution_count": 9,
   "metadata": {},
   "outputs": [],
   "source": [
    "def build_ffnn_model():\n",
    "    ffnn_model = tf.keras.Sequential([\n",
    "      tf.keras.Input(shape=(X.shape[1],)),\n",
    "      tf.keras.layers.Dense(22, activation=tf.nn.relu),\n",
    "      tf.keras.layers.Dense(12, activation=tf.nn.relu),\n",
    "      tf.keras.layers.Dense(2, activation=tf.nn.sigmoid)\n",
    "    ])\n",
    "\n",
    "    return ffnn_model"
   ]
  },
  {
   "cell_type": "code",
   "execution_count": 10,
   "metadata": {},
   "outputs": [],
   "source": [
    "model = build_ffnn_model()"
   ]
  },
  {
   "cell_type": "code",
   "execution_count": 11,
   "metadata": {},
   "outputs": [],
   "source": [
    "sgd = tf.keras.optimizers.SGD(learning_rate=0.01, momentum=0.9)\n",
    "model.compile(loss='binary_crossentropy', optimizer=sgd, metrics=['accuracy'])"
   ]
  },
  {
   "cell_type": "code",
   "execution_count": 12,
   "metadata": {},
   "outputs": [
    {
     "data": {
      "text/html": [
       "<pre style=\"white-space:pre;overflow-x:auto;line-height:normal;font-family:Menlo,'DejaVu Sans Mono',consolas,'Courier New',monospace\"><span style=\"font-weight: bold\">Model: \"sequential\"</span>\n",
       "</pre>\n"
      ],
      "text/plain": [
       "\u001b[1mModel: \"sequential\"\u001b[0m\n"
      ]
     },
     "metadata": {},
     "output_type": "display_data"
    },
    {
     "data": {
      "text/html": [
       "<pre style=\"white-space:pre;overflow-x:auto;line-height:normal;font-family:Menlo,'DejaVu Sans Mono',consolas,'Courier New',monospace\">┏━━━━━━━━━━━━━━━━━━━━━━━━━━━━━━━━━┳━━━━━━━━━━━━━━━━━━━━━━━━┳━━━━━━━━━━━━━━━┓\n",
       "┃<span style=\"font-weight: bold\"> Layer (type)                    </span>┃<span style=\"font-weight: bold\"> Output Shape           </span>┃<span style=\"font-weight: bold\">       Param # </span>┃\n",
       "┡━━━━━━━━━━━━━━━━━━━━━━━━━━━━━━━━━╇━━━━━━━━━━━━━━━━━━━━━━━━╇━━━━━━━━━━━━━━━┩\n",
       "│ dense (<span style=\"color: #0087ff; text-decoration-color: #0087ff\">Dense</span>)                   │ (<span style=\"color: #00d7ff; text-decoration-color: #00d7ff\">None</span>, <span style=\"color: #00af00; text-decoration-color: #00af00\">22</span>)             │           <span style=\"color: #00af00; text-decoration-color: #00af00\">506</span> │\n",
       "├─────────────────────────────────┼────────────────────────┼───────────────┤\n",
       "│ dense_1 (<span style=\"color: #0087ff; text-decoration-color: #0087ff\">Dense</span>)                 │ (<span style=\"color: #00d7ff; text-decoration-color: #00d7ff\">None</span>, <span style=\"color: #00af00; text-decoration-color: #00af00\">12</span>)             │           <span style=\"color: #00af00; text-decoration-color: #00af00\">276</span> │\n",
       "├─────────────────────────────────┼────────────────────────┼───────────────┤\n",
       "│ dense_2 (<span style=\"color: #0087ff; text-decoration-color: #0087ff\">Dense</span>)                 │ (<span style=\"color: #00d7ff; text-decoration-color: #00d7ff\">None</span>, <span style=\"color: #00af00; text-decoration-color: #00af00\">2</span>)              │            <span style=\"color: #00af00; text-decoration-color: #00af00\">26</span> │\n",
       "└─────────────────────────────────┴────────────────────────┴───────────────┘\n",
       "</pre>\n"
      ],
      "text/plain": [
       "┏━━━━━━━━━━━━━━━━━━━━━━━━━━━━━━━━━┳━━━━━━━━━━━━━━━━━━━━━━━━┳━━━━━━━━━━━━━━━┓\n",
       "┃\u001b[1m \u001b[0m\u001b[1mLayer (type)                   \u001b[0m\u001b[1m \u001b[0m┃\u001b[1m \u001b[0m\u001b[1mOutput Shape          \u001b[0m\u001b[1m \u001b[0m┃\u001b[1m \u001b[0m\u001b[1m      Param #\u001b[0m\u001b[1m \u001b[0m┃\n",
       "┡━━━━━━━━━━━━━━━━━━━━━━━━━━━━━━━━━╇━━━━━━━━━━━━━━━━━━━━━━━━╇━━━━━━━━━━━━━━━┩\n",
       "│ dense (\u001b[38;5;33mDense\u001b[0m)                   │ (\u001b[38;5;45mNone\u001b[0m, \u001b[38;5;34m22\u001b[0m)             │           \u001b[38;5;34m506\u001b[0m │\n",
       "├─────────────────────────────────┼────────────────────────┼───────────────┤\n",
       "│ dense_1 (\u001b[38;5;33mDense\u001b[0m)                 │ (\u001b[38;5;45mNone\u001b[0m, \u001b[38;5;34m12\u001b[0m)             │           \u001b[38;5;34m276\u001b[0m │\n",
       "├─────────────────────────────────┼────────────────────────┼───────────────┤\n",
       "│ dense_2 (\u001b[38;5;33mDense\u001b[0m)                 │ (\u001b[38;5;45mNone\u001b[0m, \u001b[38;5;34m2\u001b[0m)              │            \u001b[38;5;34m26\u001b[0m │\n",
       "└─────────────────────────────────┴────────────────────────┴───────────────┘\n"
      ]
     },
     "metadata": {},
     "output_type": "display_data"
    },
    {
     "data": {
      "text/html": [
       "<pre style=\"white-space:pre;overflow-x:auto;line-height:normal;font-family:Menlo,'DejaVu Sans Mono',consolas,'Courier New',monospace\"><span style=\"font-weight: bold\"> Total params: </span><span style=\"color: #00af00; text-decoration-color: #00af00\">808</span> (3.16 KB)\n",
       "</pre>\n"
      ],
      "text/plain": [
       "\u001b[1m Total params: \u001b[0m\u001b[38;5;34m808\u001b[0m (3.16 KB)\n"
      ]
     },
     "metadata": {},
     "output_type": "display_data"
    },
    {
     "data": {
      "text/html": [
       "<pre style=\"white-space:pre;overflow-x:auto;line-height:normal;font-family:Menlo,'DejaVu Sans Mono',consolas,'Courier New',monospace\"><span style=\"font-weight: bold\"> Trainable params: </span><span style=\"color: #00af00; text-decoration-color: #00af00\">808</span> (3.16 KB)\n",
       "</pre>\n"
      ],
      "text/plain": [
       "\u001b[1m Trainable params: \u001b[0m\u001b[38;5;34m808\u001b[0m (3.16 KB)\n"
      ]
     },
     "metadata": {},
     "output_type": "display_data"
    },
    {
     "data": {
      "text/html": [
       "<pre style=\"white-space:pre;overflow-x:auto;line-height:normal;font-family:Menlo,'DejaVu Sans Mono',consolas,'Courier New',monospace\"><span style=\"font-weight: bold\"> Non-trainable params: </span><span style=\"color: #00af00; text-decoration-color: #00af00\">0</span> (0.00 B)\n",
       "</pre>\n"
      ],
      "text/plain": [
       "\u001b[1m Non-trainable params: \u001b[0m\u001b[38;5;34m0\u001b[0m (0.00 B)\n"
      ]
     },
     "metadata": {},
     "output_type": "display_data"
    }
   ],
   "source": [
    "model.summary()"
   ]
  },
  {
   "cell_type": "code",
   "execution_count": 13,
   "metadata": {},
   "outputs": [],
   "source": [
    "def run_network(data, model, epochs=20, batch=128):\n",
    "    X_train, y_train, X_val, y_val = data\n",
    "    print(\"Training model\")\n",
    "    history = model.fit(X_train, y_train, epochs=epochs, batch_size=batch,\n",
    "                        validation_data=(X_val, y_val), verbose=2)\n",
    "    return history"
   ]
  },
  {
   "cell_type": "code",
   "execution_count": 14,
   "metadata": {},
   "outputs": [
    {
     "name": "stdout",
     "output_type": "stream",
     "text": [
      "Training model\n",
      "Epoch 1/20\n",
      "4357/4357 - 2s - 530us/step - accuracy: 0.9434 - loss: 0.4728 - val_accuracy: 0.9416 - val_loss: 0.4619\n",
      "Epoch 2/20\n",
      "4357/4357 - 2s - 439us/step - accuracy: 0.9403 - loss: 0.4595 - val_accuracy: 0.9399 - val_loss: 0.4592\n",
      "Epoch 3/20\n",
      "4357/4357 - 2s - 479us/step - accuracy: 0.9392 - loss: 0.4574 - val_accuracy: 0.9410 - val_loss: 0.4574\n",
      "Epoch 4/20\n",
      "4357/4357 - 2s - 432us/step - accuracy: 0.9391 - loss: 0.4563 - val_accuracy: 0.9378 - val_loss: 0.4563\n",
      "Epoch 5/20\n",
      "4357/4357 - 2s - 418us/step - accuracy: 0.9382 - loss: 0.4556 - val_accuracy: 0.9400 - val_loss: 0.4561\n",
      "Epoch 6/20\n",
      "4357/4357 - 2s - 416us/step - accuracy: 0.9377 - loss: 0.4551 - val_accuracy: 0.9390 - val_loss: 0.4564\n",
      "Epoch 7/20\n",
      "4357/4357 - 2s - 414us/step - accuracy: 0.9373 - loss: 0.4548 - val_accuracy: 0.9398 - val_loss: 0.4552\n",
      "Epoch 8/20\n",
      "4357/4357 - 2s - 434us/step - accuracy: 0.9371 - loss: 0.4546 - val_accuracy: 0.9336 - val_loss: 0.4548\n",
      "Epoch 9/20\n",
      "4357/4357 - 2s - 416us/step - accuracy: 0.9371 - loss: 0.4544 - val_accuracy: 0.9367 - val_loss: 0.4550\n",
      "Epoch 10/20\n",
      "4357/4357 - 2s - 449us/step - accuracy: 0.9367 - loss: 0.4542 - val_accuracy: 0.9364 - val_loss: 0.4550\n",
      "Epoch 11/20\n",
      "4357/4357 - 2s - 510us/step - accuracy: 0.9367 - loss: 0.4540 - val_accuracy: 0.9361 - val_loss: 0.4555\n",
      "Epoch 12/20\n",
      "4357/4357 - 2s - 439us/step - accuracy: 0.9370 - loss: 0.4539 - val_accuracy: 0.9380 - val_loss: 0.4545\n",
      "Epoch 13/20\n",
      "4357/4357 - 2s - 512us/step - accuracy: 0.9364 - loss: 0.4538 - val_accuracy: 0.9411 - val_loss: 0.4547\n",
      "Epoch 14/20\n",
      "4357/4357 - 2s - 439us/step - accuracy: 0.9366 - loss: 0.4536 - val_accuracy: 0.9397 - val_loss: 0.4545\n",
      "Epoch 15/20\n",
      "4357/4357 - 2s - 448us/step - accuracy: 0.9367 - loss: 0.4536 - val_accuracy: 0.9322 - val_loss: 0.4543\n",
      "Epoch 16/20\n",
      "4357/4357 - 2s - 422us/step - accuracy: 0.9364 - loss: 0.4535 - val_accuracy: 0.9366 - val_loss: 0.4541\n",
      "Epoch 17/20\n",
      "4357/4357 - 2s - 433us/step - accuracy: 0.9361 - loss: 0.4534 - val_accuracy: 0.9377 - val_loss: 0.4543\n",
      "Epoch 18/20\n",
      "4357/4357 - 2s - 440us/step - accuracy: 0.9362 - loss: 0.4533 - val_accuracy: 0.9360 - val_loss: 0.4540\n",
      "Epoch 19/20\n",
      "4357/4357 - 2s - 562us/step - accuracy: 0.9359 - loss: 0.4533 - val_accuracy: 0.9383 - val_loss: 0.4539\n",
      "Epoch 20/20\n",
      "4357/4357 - 2s - 423us/step - accuracy: 0.9361 - loss: 0.4531 - val_accuracy: 0.9387 - val_loss: 0.4541\n"
     ]
    }
   ],
   "source": [
    "history = run_network([X_train_act, y_train_act, X_train_val, y_train_val], model)"
   ]
  },
  {
   "cell_type": "code",
   "execution_count": 15,
   "metadata": {},
   "outputs": [],
   "source": [
    "def eval_network(data, model, batch=16):\n",
    "    X_test, y_test = data\n",
    "    score = model.evaluate(X_test, y_test, batch_size=batch)\n",
    "    return score"
   ]
  },
  {
   "cell_type": "code",
   "execution_count": 16,
   "metadata": {},
   "outputs": [
    {
     "name": "stdout",
     "output_type": "stream",
     "text": [
      "\u001b[1m15490/15490\u001b[0m \u001b[32m━━━━━━━━━━━━━━━━━━━━\u001b[0m\u001b[37m\u001b[0m \u001b[1m4s\u001b[0m 260us/step - accuracy: 0.9381 - loss: 0.4534\n"
     ]
    }
   ],
   "source": [
    "score = eval_network([X_test, y_test], model)"
   ]
  },
  {
   "cell_type": "code",
   "execution_count": 17,
   "metadata": {},
   "outputs": [],
   "source": [
    "from sklearn.metrics import roc_curve, auc\n",
    "import matplotlib.pyplot as plt"
   ]
  },
  {
   "cell_type": "code",
   "execution_count": 18,
   "metadata": {},
   "outputs": [
    {
     "name": "stdout",
     "output_type": "stream",
     "text": [
      "\u001b[1m7745/7745\u001b[0m \u001b[32m━━━━━━━━━━━━━━━━━━━━\u001b[0m\u001b[37m\u001b[0m \u001b[1m2s\u001b[0m 237us/step\n"
     ]
    }
   ],
   "source": [
    "y_prob = model.predict(X_test)"
   ]
  },
  {
   "cell_type": "code",
   "execution_count": 19,
   "metadata": {},
   "outputs": [
    {
     "data": {
      "image/png": "[encoded data removed]",
      "text/plain": [
       "<Figure size 640x480 with 1 Axes>"
      ]
     },
     "metadata": {},
     "output_type": "display_data"
    }
   ],
   "source": [
    "threshold = []\n",
    "for col,i in zip(['DRK_YN', 'SMK_stat_type_cd'],range(y_prob.shape[1])):  # Assuming y_scores.shape[1] == number of labels\n",
    "    fpr, tpr, thresholds = roc_curve(y_test[col], y_prob[:, i])\n",
    "    roc_auc = auc(fpr, tpr)\n",
    "    optimal_idx = np.argmin(np.sqrt((1-tpr)**2 + fpr**2))\n",
    "    optimal_threshold = thresholds[optimal_idx]\n",
    "    threshold.append(optimal_threshold)\n",
    "    plt.scatter(fpr[optimal_idx], tpr[optimal_idx], marker='o', color='black', label='%s Optimal Threshold = %0.2f' % (col, optimal_threshold))\n",
    "    plt.plot(fpr, tpr, lw=2, label='ROC curve of %s (area = %0.2f)' % (col, roc_auc))\n",
    "\n",
    "plt.plot([0, 1], [0, 1], color='navy', lw=2, linestyle='--')\n",
    "plt.xlim([0.0, 1.0])\n",
    "plt.ylim([0.0, 1.05])\n",
    "plt.xlabel('False Positive Rate')\n",
    "plt.ylabel('True Positive Rate')\n",
    "plt.title('ROC for Multi-Label Classification')\n",
    "plt.legend(loc=\"lower right\")\n",
    "plt.show()"
   ]
  },
  {
   "cell_type": "code",
   "execution_count": 20,
   "metadata": {},
   "outputs": [],
   "source": [
    "from sklearn.metrics import accuracy_score, precision_score, recall_score, f1_score, roc_auc_score"
   ]
  },
  {
   "cell_type": "code",
   "execution_count": 21,
   "metadata": {},
   "outputs": [
    {
     "name": "stdout",
     "output_type": "stream",
     "text": [
      "\u001b[1m7745/7745\u001b[0m \u001b[32m━━━━━━━━━━━━━━━━━━━━\u001b[0m\u001b[37m\u001b[0m \u001b[1m2s\u001b[0m 233us/step\n"
     ]
    }
   ],
   "source": [
    "y_pred = model.predict(X_test)\n",
    "y_pred = [[1 if x[0] > threshold[0] else 0, 1 if x[1] > threshold[1] else 0] for x in y_pred]"
   ]
  },
  {
   "cell_type": "code",
   "execution_count": 22,
   "metadata": {},
   "outputs": [
    {
     "data": {
      "text/plain": [
       "0.7335305059373701"
      ]
     },
     "execution_count": 22,
     "metadata": {},
     "output_type": "execute_result"
    }
   ],
   "source": [
    "ml_acc_drk = accuracy_score(y_test['DRK_YN'], [x[0] for x in y_pred])\n",
    "ml_acc_drk"
   ]
  },
  {
   "cell_type": "code",
   "execution_count": 23,
   "metadata": {},
   "outputs": [
    {
     "data": {
      "text/plain": [
       "0.7305313824870103"
      ]
     },
     "execution_count": 23,
     "metadata": {},
     "output_type": "execute_result"
    }
   ],
   "source": [
    "precision_drk = precision_score(y_test['DRK_YN'], [x[0] for x in y_pred])\n",
    "precision_drk"
   ]
  },
  {
   "cell_type": "code",
   "execution_count": 24,
   "metadata": {},
   "outputs": [
    {
     "data": {
      "text/plain": [
       "0.7398887785822094"
      ]
     },
     "execution_count": 24,
     "metadata": {},
     "output_type": "execute_result"
    }
   ],
   "source": [
    "recall_drk = recall_score(y_test['DRK_YN'], [x[0] for x in y_pred])\n",
    "recall_drk"
   ]
  },
  {
   "cell_type": "code",
   "execution_count": 25,
   "metadata": {},
   "outputs": [
    {
     "data": {
      "text/plain": [
       "0.7351803064387424"
      ]
     },
     "execution_count": 25,
     "metadata": {},
     "output_type": "execute_result"
    }
   ],
   "source": [
    "f1_drk = f1_score(y_test['DRK_YN'], [x[0] for x in y_pred])\n",
    "f1_drk"
   ]
  },
  {
   "cell_type": "code",
   "execution_count": 26,
   "metadata": {},
   "outputs": [
    {
     "data": {
      "text/plain": [
       "0.8142084853080519"
      ]
     },
     "execution_count": 26,
     "metadata": {},
     "output_type": "execute_result"
    }
   ],
   "source": [
    "roc_auc_drk = roc_auc_score(y_test['DRK_YN'], [x[0] for x in y_prob])\n",
    "roc_auc_drk"
   ]
  },
  {
   "cell_type": "code",
   "execution_count": 27,
   "metadata": {},
   "outputs": [
    {
     "data": {
      "text/plain": [
       "0.7487098375141726"
      ]
     },
     "execution_count": 27,
     "metadata": {},
     "output_type": "execute_result"
    }
   ],
   "source": [
    "ml_acc_smk = accuracy_score(y_test['SMK_stat_type_cd'], [x[1] for x in y_pred])\n",
    "ml_acc_smk"
   ]
  },
  {
   "cell_type": "code",
   "execution_count": 28,
   "metadata": {},
   "outputs": [
    {
     "data": {
      "text/plain": [
       "0.4536049623996261"
      ]
     },
     "execution_count": 28,
     "metadata": {},
     "output_type": "execute_result"
    }
   ],
   "source": [
    "precision_smk = precision_score(y_test['SMK_stat_type_cd'], [x[1] for x in y_pred])\n",
    "precision_smk"
   ]
  },
  {
   "cell_type": "code",
   "execution_count": 29,
   "metadata": {},
   "outputs": [
    {
     "data": {
      "text/plain": [
       "0.797601927422819"
      ]
     },
     "execution_count": 29,
     "metadata": {},
     "output_type": "execute_result"
    }
   ],
   "source": [
    "recall_smk = recall_score(y_test['SMK_stat_type_cd'], [x[1] for x in y_pred])\n",
    "recall_smk"
   ]
  },
  {
   "cell_type": "code",
   "execution_count": 30,
   "metadata": {},
   "outputs": [
    {
     "data": {
      "text/plain": [
       "0.5783155371688187"
      ]
     },
     "execution_count": 30,
     "metadata": {},
     "output_type": "execute_result"
    }
   ],
   "source": [
    "f1_smk = f1_score(y_test['SMK_stat_type_cd'], [x[1] for x in y_pred])\n",
    "f1_smk"
   ]
  },
  {
   "cell_type": "code",
   "execution_count": 31,
   "metadata": {},
   "outputs": [
    {
     "data": {
      "text/plain": [
       "0.8406606671114565"
      ]
     },
     "execution_count": 31,
     "metadata": {},
     "output_type": "execute_result"
    }
   ],
   "source": [
    "roc_auc_smk = roc_auc_score(y_test['SMK_stat_type_cd'], [x[1] for x in y_prob])\n",
    "roc_auc_smk"
   ]
  },
  {
   "cell_type": "code",
   "execution_count": 32,
   "metadata": {},
   "outputs": [
    {
     "data": {
      "text/html": [
       "<div>\n",
       "<style scoped>\n",
       "    .dataframe tbody tr th:only-of-type {\n",
       "        vertical-align: middle;\n",
       "    }\n",
       "\n",
       "    .dataframe tbody tr th {\n",
       "        vertical-align: top;\n",
       "    }\n",
       "\n",
       "    .dataframe thead th {\n",
       "        text-align: right;\n",
       "    }\n",
       "</style>\n",
       "<table border=\"1\" class=\"dataframe\">\n",
       "  <thead>\n",
       "    <tr style=\"text-align: right;\">\n",
       "      <th></th>\n",
       "      <th>accuracy</th>\n",
       "      <th>precision</th>\n",
       "      <th>recall</th>\n",
       "      <th>f1</th>\n",
       "      <th>AUC</th>\n",
       "    </tr>\n",
       "  </thead>\n",
       "  <tbody>\n",
       "    <tr>\n",
       "      <th>Drinker?</th>\n",
       "      <td>0.733531</td>\n",
       "      <td>0.730531</td>\n",
       "      <td>0.739889</td>\n",
       "      <td>0.735180</td>\n",
       "      <td>0.814208</td>\n",
       "    </tr>\n",
       "    <tr>\n",
       "      <th>Smoker?</th>\n",
       "      <td>0.748710</td>\n",
       "      <td>0.453605</td>\n",
       "      <td>0.797602</td>\n",
       "      <td>0.578316</td>\n",
       "      <td>0.840661</td>\n",
       "    </tr>\n",
       "  </tbody>\n",
       "</table>\n",
       "</div>"
      ],
      "text/plain": [
       "          accuracy  precision    recall        f1       AUC\n",
       "Drinker?  0.733531   0.730531  0.739889  0.735180  0.814208\n",
       "Smoker?   0.748710   0.453605  0.797602  0.578316  0.840661"
      ]
     },
     "execution_count": 32,
     "metadata": {},
     "output_type": "execute_result"
    }
   ],
   "source": [
    "pd.DataFrame([[ml_acc_drk, precision_drk, recall_drk, f1_drk, roc_auc_drk],\n",
    "              [ml_acc_smk, precision_smk, recall_smk, f1_smk, roc_auc_smk]],\n",
    "              index=['Drinker?', 'Smoker?'],\n",
    "              columns=['accuracy', 'precision', 'recall', 'f1', 'AUC'])"
   ]
  },
  {
   "cell_type": "markdown",
   "metadata": {},
   "source": [
    "# Single-Label Classification using Feed-Forward"
   ]
  },
  {
   "cell_type": "code",
   "execution_count": 33,
   "metadata": {},
   "outputs": [],
   "source": [
    "X_smk = df[df.columns[~df.columns.isin(['SMK_stat_type_cd'])]]\n",
    "y_smk = df['SMK_stat_type_cd']\n",
    "X_drk = df[df.columns[~df.columns.isin(['DRK_YN'])]]\n",
    "y_drk = df['DRK_YN']"
   ]
  },
  {
   "cell_type": "code",
   "execution_count": 34,
   "metadata": {},
   "outputs": [],
   "source": [
    "X_train_smk, X_test_smk, y_train_smk, y_test_smk = train_test_split(X_smk, y_smk, random_state=6)\n",
    "X_train_act_smk, X_train_val_smk, y_train_act_smk, y_train_val_smk = train_test_split(X_train_smk, y_train_smk, random_state=124)"
   ]
  },
  {
   "cell_type": "code",
   "execution_count": 35,
   "metadata": {},
   "outputs": [],
   "source": [
    "X_train_drk, X_test_drk, y_train_drk, y_test_drk = train_test_split(X_drk, y_drk, random_state=2)\n",
    "X_train_act_drk, X_train_val_drk, y_train_act_drk, y_train_val_drk = train_test_split(X_train_drk, y_train_drk, random_state=31)"
   ]
  },
  {
   "cell_type": "code",
   "execution_count": 36,
   "metadata": {},
   "outputs": [],
   "source": [
    "def build_ff_single_model():\n",
    "    ffnn_model = tf.keras.Sequential([\n",
    "      tf.keras.Input(shape=(X_smk.shape[1],)),\n",
    "      tf.keras.layers.Dense(23, activation=tf.nn.relu),\n",
    "      tf.keras.layers.Dense(12, activation=tf.nn.relu),\n",
    "      tf.keras.layers.Dense(1, activation=tf.nn.sigmoid)\n",
    "    ])\n",
    "\n",
    "    return ffnn_model"
   ]
  },
  {
   "cell_type": "markdown",
   "metadata": {},
   "source": [
    "### Smoker Classifier"
   ]
  },
  {
   "cell_type": "code",
   "execution_count": 37,
   "metadata": {},
   "outputs": [],
   "source": [
    "model_smk = build_ff_single_model()"
   ]
  },
  {
   "cell_type": "code",
   "execution_count": 38,
   "metadata": {},
   "outputs": [
    {
     "data": {
      "text/html": [
       "<pre style=\"white-space:pre;overflow-x:auto;line-height:normal;font-family:Menlo,'DejaVu Sans Mono',consolas,'Courier New',monospace\"><span style=\"font-weight: bold\">Model: \"sequential_1\"</span>\n",
       "</pre>\n"
      ],
      "text/plain": [
       "\u001b[1mModel: \"sequential_1\"\u001b[0m\n"
      ]
     },
     "metadata": {},
     "output_type": "display_data"
    },
    {
     "data": {
      "text/html": [
       "<pre style=\"white-space:pre;overflow-x:auto;line-height:normal;font-family:Menlo,'DejaVu Sans Mono',consolas,'Courier New',monospace\">┏━━━━━━━━━━━━━━━━━━━━━━━━━━━━━━━━━┳━━━━━━━━━━━━━━━━━━━━━━━━┳━━━━━━━━━━━━━━━┓\n",
       "┃<span style=\"font-weight: bold\"> Layer (type)                    </span>┃<span style=\"font-weight: bold\"> Output Shape           </span>┃<span style=\"font-weight: bold\">       Param # </span>┃\n",
       "┡━━━━━━━━━━━━━━━━━━━━━━━━━━━━━━━━━╇━━━━━━━━━━━━━━━━━━━━━━━━╇━━━━━━━━━━━━━━━┩\n",
       "│ dense_3 (<span style=\"color: #0087ff; text-decoration-color: #0087ff\">Dense</span>)                 │ (<span style=\"color: #00d7ff; text-decoration-color: #00d7ff\">None</span>, <span style=\"color: #00af00; text-decoration-color: #00af00\">23</span>)             │           <span style=\"color: #00af00; text-decoration-color: #00af00\">552</span> │\n",
       "├─────────────────────────────────┼────────────────────────┼───────────────┤\n",
       "│ dense_4 (<span style=\"color: #0087ff; text-decoration-color: #0087ff\">Dense</span>)                 │ (<span style=\"color: #00d7ff; text-decoration-color: #00d7ff\">None</span>, <span style=\"color: #00af00; text-decoration-color: #00af00\">12</span>)             │           <span style=\"color: #00af00; text-decoration-color: #00af00\">288</span> │\n",
       "├─────────────────────────────────┼────────────────────────┼───────────────┤\n",
       "│ dense_5 (<span style=\"color: #0087ff; text-decoration-color: #0087ff\">Dense</span>)                 │ (<span style=\"color: #00d7ff; text-decoration-color: #00d7ff\">None</span>, <span style=\"color: #00af00; text-decoration-color: #00af00\">1</span>)              │            <span style=\"color: #00af00; text-decoration-color: #00af00\">13</span> │\n",
       "└─────────────────────────────────┴────────────────────────┴───────────────┘\n",
       "</pre>\n"
      ],
      "text/plain": [
       "┏━━━━━━━━━━━━━━━━━━━━━━━━━━━━━━━━━┳━━━━━━━━━━━━━━━━━━━━━━━━┳━━━━━━━━━━━━━━━┓\n",
       "┃\u001b[1m \u001b[0m\u001b[1mLayer (type)                   \u001b[0m\u001b[1m \u001b[0m┃\u001b[1m \u001b[0m\u001b[1mOutput Shape          \u001b[0m\u001b[1m \u001b[0m┃\u001b[1m \u001b[0m\u001b[1m      Param #\u001b[0m\u001b[1m \u001b[0m┃\n",
       "┡━━━━━━━━━━━━━━━━━━━━━━━━━━━━━━━━━╇━━━━━━━━━━━━━━━━━━━━━━━━╇━━━━━━━━━━━━━━━┩\n",
       "│ dense_3 (\u001b[38;5;33mDense\u001b[0m)                 │ (\u001b[38;5;45mNone\u001b[0m, \u001b[38;5;34m23\u001b[0m)             │           \u001b[38;5;34m552\u001b[0m │\n",
       "├─────────────────────────────────┼────────────────────────┼───────────────┤\n",
       "│ dense_4 (\u001b[38;5;33mDense\u001b[0m)                 │ (\u001b[38;5;45mNone\u001b[0m, \u001b[38;5;34m12\u001b[0m)             │           \u001b[38;5;34m288\u001b[0m │\n",
       "├─────────────────────────────────┼────────────────────────┼───────────────┤\n",
       "│ dense_5 (\u001b[38;5;33mDense\u001b[0m)                 │ (\u001b[38;5;45mNone\u001b[0m, \u001b[38;5;34m1\u001b[0m)              │            \u001b[38;5;34m13\u001b[0m │\n",
       "└─────────────────────────────────┴────────────────────────┴───────────────┘\n"
      ]
     },
     "metadata": {},
     "output_type": "display_data"
    },
    {
     "data": {
      "text/html": [
       "<pre style=\"white-space:pre;overflow-x:auto;line-height:normal;font-family:Menlo,'DejaVu Sans Mono',consolas,'Courier New',monospace\"><span style=\"font-weight: bold\"> Total params: </span><span style=\"color: #00af00; text-decoration-color: #00af00\">853</span> (3.33 KB)\n",
       "</pre>\n"
      ],
      "text/plain": [
       "\u001b[1m Total params: \u001b[0m\u001b[38;5;34m853\u001b[0m (3.33 KB)\n"
      ]
     },
     "metadata": {},
     "output_type": "display_data"
    },
    {
     "data": {
      "text/html": [
       "<pre style=\"white-space:pre;overflow-x:auto;line-height:normal;font-family:Menlo,'DejaVu Sans Mono',consolas,'Courier New',monospace\"><span style=\"font-weight: bold\"> Trainable params: </span><span style=\"color: #00af00; text-decoration-color: #00af00\">853</span> (3.33 KB)\n",
       "</pre>\n"
      ],
      "text/plain": [
       "\u001b[1m Trainable params: \u001b[0m\u001b[38;5;34m853\u001b[0m (3.33 KB)\n"
      ]
     },
     "metadata": {},
     "output_type": "display_data"
    },
    {
     "data": {
      "text/html": [
       "<pre style=\"white-space:pre;overflow-x:auto;line-height:normal;font-family:Menlo,'DejaVu Sans Mono',consolas,'Courier New',monospace\"><span style=\"font-weight: bold\"> Non-trainable params: </span><span style=\"color: #00af00; text-decoration-color: #00af00\">0</span> (0.00 B)\n",
       "</pre>\n"
      ],
      "text/plain": [
       "\u001b[1m Non-trainable params: \u001b[0m\u001b[38;5;34m0\u001b[0m (0.00 B)\n"
      ]
     },
     "metadata": {},
     "output_type": "display_data"
    }
   ],
   "source": [
    "sgd = tf.keras.optimizers.SGD(learning_rate=0.01, momentum=0.9)\n",
    "model_smk.compile(loss='crossentropy', optimizer=sgd, metrics=['accuracy'])\n",
    "model_smk.summary()"
   ]
  },
  {
   "cell_type": "code",
   "execution_count": 39,
   "metadata": {},
   "outputs": [
    {
     "name": "stdout",
     "output_type": "stream",
     "text": [
      "Training model\n",
      "Epoch 1/20\n",
      "4357/4357 - 2s - 482us/step - accuracy: 0.8038 - loss: 0.3907 - val_accuracy: 0.8060 - val_loss: 0.3865\n",
      "Epoch 2/20\n",
      "4357/4357 - 2s - 409us/step - accuracy: 0.8095 - loss: 0.3817 - val_accuracy: 0.8096 - val_loss: 0.3833\n",
      "Epoch 3/20\n",
      "4357/4357 - 2s - 405us/step - accuracy: 0.8103 - loss: 0.3803 - val_accuracy: 0.8108 - val_loss: 0.3827\n",
      "Epoch 4/20\n",
      "4357/4357 - 2s - 439us/step - accuracy: 0.8113 - loss: 0.3793 - val_accuracy: 0.8108 - val_loss: 0.3818\n",
      "Epoch 5/20\n",
      "4357/4357 - 2s - 410us/step - accuracy: 0.8117 - loss: 0.3788 - val_accuracy: 0.8111 - val_loss: 0.3810\n",
      "Epoch 6/20\n",
      "4357/4357 - 2s - 432us/step - accuracy: 0.8121 - loss: 0.3783 - val_accuracy: 0.8111 - val_loss: 0.3810\n",
      "Epoch 7/20\n",
      "4357/4357 - 2s - 403us/step - accuracy: 0.8123 - loss: 0.3778 - val_accuracy: 0.8115 - val_loss: 0.3810\n",
      "Epoch 8/20\n",
      "4357/4357 - 2s - 445us/step - accuracy: 0.8127 - loss: 0.3776 - val_accuracy: 0.8117 - val_loss: 0.3800\n",
      "Epoch 9/20\n",
      "4357/4357 - 2s - 417us/step - accuracy: 0.8126 - loss: 0.3774 - val_accuracy: 0.8114 - val_loss: 0.3808\n",
      "Epoch 10/20\n",
      "4357/4357 - 2s - 428us/step - accuracy: 0.8125 - loss: 0.3772 - val_accuracy: 0.8113 - val_loss: 0.3812\n",
      "Epoch 11/20\n",
      "4357/4357 - 2s - 441us/step - accuracy: 0.8124 - loss: 0.3770 - val_accuracy: 0.8101 - val_loss: 0.3814\n",
      "Epoch 12/20\n",
      "4357/4357 - 2s - 412us/step - accuracy: 0.8129 - loss: 0.3768 - val_accuracy: 0.8116 - val_loss: 0.3797\n",
      "Epoch 13/20\n",
      "4357/4357 - 2s - 417us/step - accuracy: 0.8128 - loss: 0.3766 - val_accuracy: 0.8124 - val_loss: 0.3795\n",
      "Epoch 14/20\n",
      "4357/4357 - 2s - 441us/step - accuracy: 0.8132 - loss: 0.3765 - val_accuracy: 0.8121 - val_loss: 0.3798\n",
      "Epoch 15/20\n",
      "4357/4357 - 2s - 420us/step - accuracy: 0.8133 - loss: 0.3764 - val_accuracy: 0.8117 - val_loss: 0.3798\n",
      "Epoch 16/20\n",
      "4357/4357 - 2s - 422us/step - accuracy: 0.8129 - loss: 0.3764 - val_accuracy: 0.8117 - val_loss: 0.3799\n",
      "Epoch 17/20\n",
      "4357/4357 - 2s - 416us/step - accuracy: 0.8135 - loss: 0.3763 - val_accuracy: 0.8118 - val_loss: 0.3797\n",
      "Epoch 18/20\n",
      "4357/4357 - 2s - 527us/step - accuracy: 0.8130 - loss: 0.3762 - val_accuracy: 0.8119 - val_loss: 0.3794\n",
      "Epoch 19/20\n",
      "4357/4357 - 2s - 417us/step - accuracy: 0.8136 - loss: 0.3762 - val_accuracy: 0.8120 - val_loss: 0.3794\n",
      "Epoch 20/20\n",
      "4357/4357 - 2s - 487us/step - accuracy: 0.8135 - loss: 0.3761 - val_accuracy: 0.8117 - val_loss: 0.3795\n"
     ]
    }
   ],
   "source": [
    "history_smk = run_network([X_train_act_smk, y_train_act_smk, X_train_val_smk, y_train_val_smk], model_smk)"
   ]
  },
  {
   "cell_type": "code",
   "execution_count": 40,
   "metadata": {},
   "outputs": [
    {
     "name": "stdout",
     "output_type": "stream",
     "text": [
      "\u001b[1m15490/15490\u001b[0m \u001b[32m━━━━━━━━━━━━━━━━━━━━\u001b[0m\u001b[37m\u001b[0m \u001b[1m5s\u001b[0m 304us/step - accuracy: 0.8134 - loss: 0.3774\n"
     ]
    }
   ],
   "source": [
    "score_smk = eval_network([X_test_smk, y_test_smk], model_smk)"
   ]
  },
  {
   "cell_type": "code",
   "execution_count": 41,
   "metadata": {},
   "outputs": [
    {
     "name": "stdout",
     "output_type": "stream",
     "text": [
      "\u001b[1m7745/7745\u001b[0m \u001b[32m━━━━━━━━━━━━━━━━━━━━\u001b[0m\u001b[37m\u001b[0m \u001b[1m2s\u001b[0m 226us/step\n"
     ]
    }
   ],
   "source": [
    "y_prob = model_smk.predict(X_test_smk)"
   ]
  },
  {
   "cell_type": "code",
   "execution_count": 42,
   "metadata": {},
   "outputs": [
    {
     "data": {
      "image/png": "[encoded data removed]",
      "text/plain": [
       "<Figure size 640x480 with 1 Axes>"
      ]
     },
     "metadata": {},
     "output_type": "display_data"
    }
   ],
   "source": [
    "fpr, tpr, thresholds = roc_curve(y_test_smk, y_prob)\n",
    "roc_auc = auc(fpr, tpr)\n",
    "optimal_idx = np.argmin(np.sqrt((1-tpr)**2 + fpr**2))\n",
    "optimal_threshold = thresholds[optimal_idx]\n",
    "plt.scatter(fpr[optimal_idx], tpr[optimal_idx], marker='o', color='black', label='%s Optimal Threshold = %0.2f' % (col, optimal_threshold))\n",
    "plt.plot(fpr, tpr, lw=2, label='ROC curve (area = %0.2f)' % roc_auc)\n",
    "\n",
    "plt.plot([0, 1], [0, 1], color='navy', lw=2, linestyle='--')\n",
    "plt.xlim([0.0, 1.0])\n",
    "plt.ylim([0.0, 1.05])\n",
    "plt.xlabel('False Positive Rate')\n",
    "plt.ylabel('True Positive Rate')\n",
    "plt.title('ROC for Binary Smoker Prediction')\n",
    "plt.legend(loc=\"lower right\")\n",
    "plt.show()"
   ]
  },
  {
   "cell_type": "code",
   "execution_count": 43,
   "metadata": {},
   "outputs": [
    {
     "name": "stdout",
     "output_type": "stream",
     "text": [
      "\u001b[1m   1/7745\u001b[0m \u001b[37m━━━━━━━━━━━━━━━━━━━━\u001b[0m \u001b[1m2:26\u001b[0m 19ms/step"
     ]
    },
    {
     "name": "stdout",
     "output_type": "stream",
     "text": [
      "\u001b[1m7745/7745\u001b[0m \u001b[32m━━━━━━━━━━━━━━━━━━━━\u001b[0m\u001b[37m\u001b[0m \u001b[1m2s\u001b[0m 243us/step\n"
     ]
    }
   ],
   "source": [
    "y_pred = model_smk.predict(X_test_smk)\n",
    "y_pred = (y_pred > optimal_threshold).astype(int)"
   ]
  },
  {
   "cell_type": "code",
   "execution_count": 44,
   "metadata": {},
   "outputs": [
    {
     "data": {
      "text/plain": [
       "0.7518732069868502"
      ]
     },
     "execution_count": 44,
     "metadata": {},
     "output_type": "execute_result"
    }
   ],
   "source": [
    "ml_acc_smk = accuracy_score(y_test_smk, y_pred)\n",
    "ml_acc_smk"
   ]
  },
  {
   "cell_type": "code",
   "execution_count": 45,
   "metadata": {},
   "outputs": [
    {
     "data": {
      "text/plain": [
       "0.4565336190731315"
      ]
     },
     "execution_count": 45,
     "metadata": {},
     "output_type": "execute_result"
    }
   ],
   "source": [
    "precision_smk = precision_score(y_test_smk, y_pred)\n",
    "precision_smk"
   ]
  },
  {
   "cell_type": "code",
   "execution_count": 46,
   "metadata": {},
   "outputs": [
    {
     "data": {
      "text/plain": [
       "0.7981342025401821"
      ]
     },
     "execution_count": 46,
     "metadata": {},
     "output_type": "execute_result"
    }
   ],
   "source": [
    "recall_smk = recall_score(y_test_smk, y_pred)\n",
    "recall_smk"
   ]
  },
  {
   "cell_type": "code",
   "execution_count": 47,
   "metadata": {},
   "outputs": [
    {
     "data": {
      "text/plain": [
       "0.5808311805162671"
      ]
     },
     "execution_count": 47,
     "metadata": {},
     "output_type": "execute_result"
    }
   ],
   "source": [
    "f1_smk = f1_score(y_test_smk, y_pred)\n",
    "f1_smk"
   ]
  },
  {
   "cell_type": "code",
   "execution_count": 48,
   "metadata": {},
   "outputs": [
    {
     "data": {
      "text/plain": [
       "0.8450105447847518"
      ]
     },
     "execution_count": 48,
     "metadata": {},
     "output_type": "execute_result"
    }
   ],
   "source": [
    "roc_auc_smk = roc_auc_score(y_test_smk, y_prob)\n",
    "roc_auc_smk"
   ]
  },
  {
   "cell_type": "markdown",
   "metadata": {},
   "source": [
    "### Drinker Classifier"
   ]
  },
  {
   "cell_type": "code",
   "execution_count": 49,
   "metadata": {},
   "outputs": [],
   "source": [
    "model_drk = build_ff_single_model()"
   ]
  },
  {
   "cell_type": "code",
   "execution_count": 50,
   "metadata": {},
   "outputs": [
    {
     "data": {
      "text/html": [
       "<pre style=\"white-space:pre;overflow-x:auto;line-height:normal;font-family:Menlo,'DejaVu Sans Mono',consolas,'Courier New',monospace\"><span style=\"font-weight: bold\">Model: \"sequential_2\"</span>\n",
       "</pre>\n"
      ],
      "text/plain": [
       "\u001b[1mModel: \"sequential_2\"\u001b[0m\n"
      ]
     },
     "metadata": {},
     "output_type": "display_data"
    },
    {
     "data": {
      "text/html": [
       "<pre style=\"white-space:pre;overflow-x:auto;line-height:normal;font-family:Menlo,'DejaVu Sans Mono',consolas,'Courier New',monospace\">┏━━━━━━━━━━━━━━━━━━━━━━━━━━━━━━━━━┳━━━━━━━━━━━━━━━━━━━━━━━━┳━━━━━━━━━━━━━━━┓\n",
       "┃<span style=\"font-weight: bold\"> Layer (type)                    </span>┃<span style=\"font-weight: bold\"> Output Shape           </span>┃<span style=\"font-weight: bold\">       Param # </span>┃\n",
       "┡━━━━━━━━━━━━━━━━━━━━━━━━━━━━━━━━━╇━━━━━━━━━━━━━━━━━━━━━━━━╇━━━━━━━━━━━━━━━┩\n",
       "│ dense_6 (<span style=\"color: #0087ff; text-decoration-color: #0087ff\">Dense</span>)                 │ (<span style=\"color: #00d7ff; text-decoration-color: #00d7ff\">None</span>, <span style=\"color: #00af00; text-decoration-color: #00af00\">23</span>)             │           <span style=\"color: #00af00; text-decoration-color: #00af00\">552</span> │\n",
       "├─────────────────────────────────┼────────────────────────┼───────────────┤\n",
       "│ dense_7 (<span style=\"color: #0087ff; text-decoration-color: #0087ff\">Dense</span>)                 │ (<span style=\"color: #00d7ff; text-decoration-color: #00d7ff\">None</span>, <span style=\"color: #00af00; text-decoration-color: #00af00\">12</span>)             │           <span style=\"color: #00af00; text-decoration-color: #00af00\">288</span> │\n",
       "├─────────────────────────────────┼────────────────────────┼───────────────┤\n",
       "│ dense_8 (<span style=\"color: #0087ff; text-decoration-color: #0087ff\">Dense</span>)                 │ (<span style=\"color: #00d7ff; text-decoration-color: #00d7ff\">None</span>, <span style=\"color: #00af00; text-decoration-color: #00af00\">1</span>)              │            <span style=\"color: #00af00; text-decoration-color: #00af00\">13</span> │\n",
       "└─────────────────────────────────┴────────────────────────┴───────────────┘\n",
       "</pre>\n"
      ],
      "text/plain": [
       "┏━━━━━━━━━━━━━━━━━━━━━━━━━━━━━━━━━┳━━━━━━━━━━━━━━━━━━━━━━━━┳━━━━━━━━━━━━━━━┓\n",
       "┃\u001b[1m \u001b[0m\u001b[1mLayer (type)                   \u001b[0m\u001b[1m \u001b[0m┃\u001b[1m \u001b[0m\u001b[1mOutput Shape          \u001b[0m\u001b[1m \u001b[0m┃\u001b[1m \u001b[0m\u001b[1m      Param #\u001b[0m\u001b[1m \u001b[0m┃\n",
       "┡━━━━━━━━━━━━━━━━━━━━━━━━━━━━━━━━━╇━━━━━━━━━━━━━━━━━━━━━━━━╇━━━━━━━━━━━━━━━┩\n",
       "│ dense_6 (\u001b[38;5;33mDense\u001b[0m)                 │ (\u001b[38;5;45mNone\u001b[0m, \u001b[38;5;34m23\u001b[0m)             │           \u001b[38;5;34m552\u001b[0m │\n",
       "├─────────────────────────────────┼────────────────────────┼───────────────┤\n",
       "│ dense_7 (\u001b[38;5;33mDense\u001b[0m)                 │ (\u001b[38;5;45mNone\u001b[0m, \u001b[38;5;34m12\u001b[0m)             │           \u001b[38;5;34m288\u001b[0m │\n",
       "├─────────────────────────────────┼────────────────────────┼───────────────┤\n",
       "│ dense_8 (\u001b[38;5;33mDense\u001b[0m)                 │ (\u001b[38;5;45mNone\u001b[0m, \u001b[38;5;34m1\u001b[0m)              │            \u001b[38;5;34m13\u001b[0m │\n",
       "└─────────────────────────────────┴────────────────────────┴───────────────┘\n"
      ]
     },
     "metadata": {},
     "output_type": "display_data"
    },
    {
     "data": {
      "text/html": [
       "<pre style=\"white-space:pre;overflow-x:auto;line-height:normal;font-family:Menlo,'DejaVu Sans Mono',consolas,'Courier New',monospace\"><span style=\"font-weight: bold\"> Total params: </span><span style=\"color: #00af00; text-decoration-color: #00af00\">853</span> (3.33 KB)\n",
       "</pre>\n"
      ],
      "text/plain": [
       "\u001b[1m Total params: \u001b[0m\u001b[38;5;34m853\u001b[0m (3.33 KB)\n"
      ]
     },
     "metadata": {},
     "output_type": "display_data"
    },
    {
     "data": {
      "text/html": [
       "<pre style=\"white-space:pre;overflow-x:auto;line-height:normal;font-family:Menlo,'DejaVu Sans Mono',consolas,'Courier New',monospace\"><span style=\"font-weight: bold\"> Trainable params: </span><span style=\"color: #00af00; text-decoration-color: #00af00\">853</span> (3.33 KB)\n",
       "</pre>\n"
      ],
      "text/plain": [
       "\u001b[1m Trainable params: \u001b[0m\u001b[38;5;34m853\u001b[0m (3.33 KB)\n"
      ]
     },
     "metadata": {},
     "output_type": "display_data"
    },
    {
     "data": {
      "text/html": [
       "<pre style=\"white-space:pre;overflow-x:auto;line-height:normal;font-family:Menlo,'DejaVu Sans Mono',consolas,'Courier New',monospace\"><span style=\"font-weight: bold\"> Non-trainable params: </span><span style=\"color: #00af00; text-decoration-color: #00af00\">0</span> (0.00 B)\n",
       "</pre>\n"
      ],
      "text/plain": [
       "\u001b[1m Non-trainable params: \u001b[0m\u001b[38;5;34m0\u001b[0m (0.00 B)\n"
      ]
     },
     "metadata": {},
     "output_type": "display_data"
    }
   ],
   "source": [
    "sgd = tf.keras.optimizers.SGD(learning_rate=0.01, momentum=0.9)\n",
    "model_drk.compile(loss='crossentropy', optimizer=sgd, metrics=['accuracy'])\n",
    "model_drk.summary()"
   ]
  },
  {
   "cell_type": "code",
   "execution_count": 51,
   "metadata": {},
   "outputs": [
    {
     "name": "stdout",
     "output_type": "stream",
     "text": [
      "Training model\n",
      "Epoch 1/20\n",
      "4357/4357 - 2s - 479us/step - accuracy: 0.7238 - loss: 0.5382 - val_accuracy: 0.7297 - val_loss: 0.5292\n",
      "Epoch 2/20\n",
      "4357/4357 - 2s - 407us/step - accuracy: 0.7319 - loss: 0.5260 - val_accuracy: 0.7312 - val_loss: 0.5252\n",
      "Epoch 3/20\n",
      "4357/4357 - 2s - 418us/step - accuracy: 0.7331 - loss: 0.5240 - val_accuracy: 0.7318 - val_loss: 0.5258\n",
      "Epoch 4/20\n",
      "4357/4357 - 2s - 419us/step - accuracy: 0.7338 - loss: 0.5231 - val_accuracy: 0.7324 - val_loss: 0.5239\n",
      "Epoch 5/20\n",
      "4357/4357 - 2s - 463us/step - accuracy: 0.7346 - loss: 0.5222 - val_accuracy: 0.7329 - val_loss: 0.5238\n",
      "Epoch 6/20\n",
      "4357/4357 - 2s - 455us/step - accuracy: 0.7349 - loss: 0.5218 - val_accuracy: 0.7343 - val_loss: 0.5224\n",
      "Epoch 7/20\n",
      "4357/4357 - 2s - 422us/step - accuracy: 0.7351 - loss: 0.5213 - val_accuracy: 0.7331 - val_loss: 0.5231\n",
      "Epoch 8/20\n",
      "4357/4357 - 2s - 427us/step - accuracy: 0.7352 - loss: 0.5208 - val_accuracy: 0.7340 - val_loss: 0.5222\n",
      "Epoch 9/20\n",
      "4357/4357 - 2s - 443us/step - accuracy: 0.7354 - loss: 0.5205 - val_accuracy: 0.7333 - val_loss: 0.5222\n",
      "Epoch 10/20\n",
      "4357/4357 - 2s - 420us/step - accuracy: 0.7354 - loss: 0.5204 - val_accuracy: 0.7341 - val_loss: 0.5220\n",
      "Epoch 11/20\n",
      "4357/4357 - 2s - 406us/step - accuracy: 0.7351 - loss: 0.5203 - val_accuracy: 0.7336 - val_loss: 0.5222\n",
      "Epoch 12/20\n",
      "4357/4357 - 2s - 405us/step - accuracy: 0.7357 - loss: 0.5200 - val_accuracy: 0.7322 - val_loss: 0.5229\n",
      "Epoch 13/20\n",
      "4357/4357 - 2s - 441us/step - accuracy: 0.7358 - loss: 0.5200 - val_accuracy: 0.7348 - val_loss: 0.5213\n",
      "Epoch 14/20\n",
      "4357/4357 - 2s - 460us/step - accuracy: 0.7357 - loss: 0.5197 - val_accuracy: 0.7336 - val_loss: 0.5221\n",
      "Epoch 15/20\n",
      "4357/4357 - 2s - 400us/step - accuracy: 0.7356 - loss: 0.5197 - val_accuracy: 0.7345 - val_loss: 0.5216\n",
      "Epoch 16/20\n",
      "4357/4357 - 2s - 395us/step - accuracy: 0.7360 - loss: 0.5196 - val_accuracy: 0.7347 - val_loss: 0.5209\n",
      "Epoch 17/20\n",
      "4357/4357 - 2s - 423us/step - accuracy: 0.7362 - loss: 0.5194 - val_accuracy: 0.7349 - val_loss: 0.5207\n",
      "Epoch 18/20\n",
      "4357/4357 - 2s - 403us/step - accuracy: 0.7360 - loss: 0.5193 - val_accuracy: 0.7349 - val_loss: 0.5204\n",
      "Epoch 19/20\n",
      "4357/4357 - 2s - 395us/step - accuracy: 0.7361 - loss: 0.5193 - val_accuracy: 0.7346 - val_loss: 0.5208\n",
      "Epoch 20/20\n",
      "4357/4357 - 2s - 418us/step - accuracy: 0.7361 - loss: 0.5192 - val_accuracy: 0.7348 - val_loss: 0.5213\n"
     ]
    }
   ],
   "source": [
    "history_drk = run_network([X_train_act_drk, y_train_act_drk, X_train_val_drk, y_train_val_drk], model_drk)"
   ]
  },
  {
   "cell_type": "code",
   "execution_count": 52,
   "metadata": {},
   "outputs": [
    {
     "name": "stdout",
     "output_type": "stream",
     "text": [
      "\u001b[1m7745/7745\u001b[0m \u001b[32m━━━━━━━━━━━━━━━━━━━━\u001b[0m\u001b[37m\u001b[0m \u001b[1m2s\u001b[0m 259us/step\n"
     ]
    }
   ],
   "source": [
    "y_prob = model_drk.predict(X_test_drk)"
   ]
  },
  {
   "cell_type": "code",
   "execution_count": 53,
   "metadata": {},
   "outputs": [
    {
     "name": "stdout",
     "output_type": "stream",
     "text": [
      "\u001b[1m15490/15490\u001b[0m \u001b[32m━━━━━━━━━━━━━━━━━━━━\u001b[0m\u001b[37m\u001b[0m \u001b[1m4s\u001b[0m 254us/step - accuracy: 0.7354 - loss: 0.5214\n"
     ]
    }
   ],
   "source": [
    "score_drk = eval_network([X_test_drk, y_test_drk], model_drk)"
   ]
  },
  {
   "cell_type": "code",
   "execution_count": 54,
   "metadata": {},
   "outputs": [
    {
     "data": {
      "image/png": "[encoded data removed]",
      "text/plain": [
       "<Figure size 640x480 with 1 Axes>"
      ]
     },
     "metadata": {},
     "output_type": "display_data"
    }
   ],
   "source": [
    "fpr, tpr, thresholds = roc_curve(y_test_drk, y_prob)\n",
    "roc_auc = auc(fpr, tpr)\n",
    "optimal_idx = np.argmin(np.sqrt((1-tpr)**2 + fpr**2))\n",
    "optimal_threshold = thresholds[optimal_idx]\n",
    "plt.scatter(fpr[optimal_idx], tpr[optimal_idx], marker='o', color='black', label='Optimal Threshold = %0.2f' % optimal_threshold)\n",
    "plt.plot(fpr, tpr, lw=2, label='ROC curve (area = %0.2f)' % roc_auc)\n",
    "\n",
    "plt.plot([0, 1], [0, 1], color='navy', lw=2, linestyle='--')\n",
    "plt.xlim([0.0, 1.0])\n",
    "plt.ylim([0.0, 1.05])\n",
    "plt.xlabel('False Positive Rate')\n",
    "plt.ylabel('True Positive Rate')\n",
    "plt.title('ROC for Binary Drinker Prediction')\n",
    "plt.legend(loc=\"lower right\")\n",
    "plt.show()"
   ]
  },
  {
   "cell_type": "code",
   "execution_count": 55,
   "metadata": {},
   "outputs": [
    {
     "name": "stdout",
     "output_type": "stream",
     "text": [
      "\u001b[1m7745/7745\u001b[0m \u001b[32m━━━━━━━━━━━━━━━━━━━━\u001b[0m\u001b[37m\u001b[0m \u001b[1m2s\u001b[0m 215us/step\n"
     ]
    }
   ],
   "source": [
    "y_pred = model_drk.predict(X_test_drk)\n",
    "y_pred = (y_pred > optimal_threshold).astype(int)"
   ]
  },
  {
   "cell_type": "code",
   "execution_count": 56,
   "metadata": {},
   "outputs": [
    {
     "data": {
      "text/plain": [
       "0.736197581474921"
      ]
     },
     "execution_count": 56,
     "metadata": {},
     "output_type": "execute_result"
    }
   ],
   "source": [
    "ml_acc_drk = accuracy_score(y_test_drk, y_pred)\n",
    "ml_acc_drk"
   ]
  },
  {
   "cell_type": "code",
   "execution_count": 57,
   "metadata": {},
   "outputs": [
    {
     "data": {
      "text/plain": [
       "0.7328333014841709"
      ]
     },
     "execution_count": 57,
     "metadata": {},
     "output_type": "execute_result"
    }
   ],
   "source": [
    "precision_drk = precision_score(y_test_drk, y_pred)\n",
    "precision_drk"
   ]
  },
  {
   "cell_type": "code",
   "execution_count": 58,
   "metadata": {},
   "outputs": [
    {
     "data": {
      "text/plain": [
       "0.7430569011173546"
      ]
     },
     "execution_count": 58,
     "metadata": {},
     "output_type": "execute_result"
    }
   ],
   "source": [
    "recall_drk = recall_score(y_test_drk, y_pred)\n",
    "recall_drk"
   ]
  },
  {
   "cell_type": "code",
   "execution_count": 59,
   "metadata": {},
   "outputs": [
    {
     "data": {
      "text/plain": [
       "0.7379096914886794"
      ]
     },
     "execution_count": 59,
     "metadata": {},
     "output_type": "execute_result"
    }
   ],
   "source": [
    "f1_drk = f1_score(y_test_drk, y_pred)\n",
    "f1_drk"
   ]
  },
  {
   "cell_type": "code",
   "execution_count": 60,
   "metadata": {},
   "outputs": [
    {
     "data": {
      "text/plain": [
       "0.8180252479202819"
      ]
     },
     "execution_count": 60,
     "metadata": {},
     "output_type": "execute_result"
    }
   ],
   "source": [
    "roc_auc_drk = roc_auc_score(y_test_drk, y_prob)\n",
    "roc_auc_drk"
   ]
  },
  {
   "cell_type": "code",
   "execution_count": 61,
   "metadata": {},
   "outputs": [
    {
     "data": {
      "text/html": [
       "<div>\n",
       "<style scoped>\n",
       "    .dataframe tbody tr th:only-of-type {\n",
       "        vertical-align: middle;\n",
       "    }\n",
       "\n",
       "    .dataframe tbody tr th {\n",
       "        vertical-align: top;\n",
       "    }\n",
       "\n",
       "    .dataframe thead th {\n",
       "        text-align: right;\n",
       "    }\n",
       "</style>\n",
       "<table border=\"1\" class=\"dataframe\">\n",
       "  <thead>\n",
       "    <tr style=\"text-align: right;\">\n",
       "      <th></th>\n",
       "      <th>accuracy</th>\n",
       "      <th>precision</th>\n",
       "      <th>recall</th>\n",
       "      <th>f1</th>\n",
       "      <th>AUC</th>\n",
       "    </tr>\n",
       "  </thead>\n",
       "  <tbody>\n",
       "    <tr>\n",
       "      <th>Drinker?</th>\n",
       "      <td>0.736198</td>\n",
       "      <td>0.732833</td>\n",
       "      <td>0.743057</td>\n",
       "      <td>0.737910</td>\n",
       "      <td>0.818025</td>\n",
       "    </tr>\n",
       "    <tr>\n",
       "      <th>Smoker?</th>\n",
       "      <td>0.751873</td>\n",
       "      <td>0.456534</td>\n",
       "      <td>0.798134</td>\n",
       "      <td>0.580831</td>\n",
       "      <td>0.845011</td>\n",
       "    </tr>\n",
       "  </tbody>\n",
       "</table>\n",
       "</div>"
      ],
      "text/plain": [
       "          accuracy  precision    recall        f1       AUC\n",
       "Drinker?  0.736198   0.732833  0.743057  0.737910  0.818025\n",
       "Smoker?   0.751873   0.456534  0.798134  0.580831  0.845011"
      ]
     },
     "execution_count": 61,
     "metadata": {},
     "output_type": "execute_result"
    }
   ],
   "source": [
    "pd.DataFrame([[ml_acc_drk, precision_drk, recall_drk, f1_drk, roc_auc_drk],\n",
    "              [ml_acc_smk, precision_smk, recall_smk, f1_smk, roc_auc_smk]],\n",
    "              index=['Drinker?', 'Smoker?'],\n",
    "              columns=['accuracy', 'precision', 'recall', 'f1', 'AUC'])"
   ]
  },
  {
   "cell_type": "markdown",
   "metadata": {},
   "source": [
    "# Below 50 Multi-Label"
   ]
  },
  {
   "cell_type": "code",
   "execution_count": 62,
   "metadata": {},
   "outputs": [],
   "source": [
    "below50_df = pd.read_csv('scaled_smoking_drinking_dataset_50_and_under.csv')"
   ]
  },
  {
   "cell_type": "code",
   "execution_count": 63,
   "metadata": {},
   "outputs": [],
   "source": [
    "X_below = below50_df[below50_df.columns[~below50_df.columns.isin(['DRK_YN', 'SMK_stat_type_cd'])]]\n",
    "y_below = below50_df[['DRK_YN', 'SMK_stat_type_cd']]"
   ]
  },
  {
   "cell_type": "code",
   "execution_count": 64,
   "metadata": {},
   "outputs": [],
   "source": [
    "X_train_below, X_test_below, y_train_below, y_test_below = train_test_split(X_below, y_below, random_state=3)"
   ]
  },
  {
   "cell_type": "code",
   "execution_count": 65,
   "metadata": {},
   "outputs": [],
   "source": [
    "X_train_below_act, X_train_below_val, y_train_below_act, y_train_below_val = train_test_split(X_train_below, y_train_below, random_state=17)"
   ]
  },
  {
   "cell_type": "code",
   "execution_count": 66,
   "metadata": {},
   "outputs": [
    {
     "data": {
      "text/plain": [
       "(470130, 22)"
      ]
     },
     "execution_count": 66,
     "metadata": {},
     "output_type": "execute_result"
    }
   ],
   "source": [
    "X_train_below.shape"
   ]
  },
  {
   "cell_type": "code",
   "execution_count": 67,
   "metadata": {},
   "outputs": [],
   "source": [
    "model_below = build_ffnn_model()"
   ]
  },
  {
   "cell_type": "code",
   "execution_count": 68,
   "metadata": {},
   "outputs": [],
   "source": [
    "sgd = tf.keras.optimizers.SGD(learning_rate=0.01, momentum=0.9)\n",
    "model_below.compile(loss='binary_crossentropy', optimizer=sgd, metrics=['accuracy'])"
   ]
  },
  {
   "cell_type": "code",
   "execution_count": 69,
   "metadata": {},
   "outputs": [
    {
     "data": {
      "text/html": [
       "<pre style=\"white-space:pre;overflow-x:auto;line-height:normal;font-family:Menlo,'DejaVu Sans Mono',consolas,'Courier New',monospace\"><span style=\"font-weight: bold\">Model: \"sequential_3\"</span>\n",
       "</pre>\n"
      ],
      "text/plain": [
       "\u001b[1mModel: \"sequential_3\"\u001b[0m\n"
      ]
     },
     "metadata": {},
     "output_type": "display_data"
    },
    {
     "data": {
      "text/html": [
       "<pre style=\"white-space:pre;overflow-x:auto;line-height:normal;font-family:Menlo,'DejaVu Sans Mono',consolas,'Courier New',monospace\">┏━━━━━━━━━━━━━━━━━━━━━━━━━━━━━━━━━┳━━━━━━━━━━━━━━━━━━━━━━━━┳━━━━━━━━━━━━━━━┓\n",
       "┃<span style=\"font-weight: bold\"> Layer (type)                    </span>┃<span style=\"font-weight: bold\"> Output Shape           </span>┃<span style=\"font-weight: bold\">       Param # </span>┃\n",
       "┡━━━━━━━━━━━━━━━━━━━━━━━━━━━━━━━━━╇━━━━━━━━━━━━━━━━━━━━━━━━╇━━━━━━━━━━━━━━━┩\n",
       "│ dense_9 (<span style=\"color: #0087ff; text-decoration-color: #0087ff\">Dense</span>)                 │ (<span style=\"color: #00d7ff; text-decoration-color: #00d7ff\">None</span>, <span style=\"color: #00af00; text-decoration-color: #00af00\">22</span>)             │           <span style=\"color: #00af00; text-decoration-color: #00af00\">506</span> │\n",
       "├─────────────────────────────────┼────────────────────────┼───────────────┤\n",
       "│ dense_10 (<span style=\"color: #0087ff; text-decoration-color: #0087ff\">Dense</span>)                │ (<span style=\"color: #00d7ff; text-decoration-color: #00d7ff\">None</span>, <span style=\"color: #00af00; text-decoration-color: #00af00\">12</span>)             │           <span style=\"color: #00af00; text-decoration-color: #00af00\">276</span> │\n",
       "├─────────────────────────────────┼────────────────────────┼───────────────┤\n",
       "│ dense_11 (<span style=\"color: #0087ff; text-decoration-color: #0087ff\">Dense</span>)                │ (<span style=\"color: #00d7ff; text-decoration-color: #00d7ff\">None</span>, <span style=\"color: #00af00; text-decoration-color: #00af00\">2</span>)              │            <span style=\"color: #00af00; text-decoration-color: #00af00\">26</span> │\n",
       "└─────────────────────────────────┴────────────────────────┴───────────────┘\n",
       "</pre>\n"
      ],
      "text/plain": [
       "┏━━━━━━━━━━━━━━━━━━━━━━━━━━━━━━━━━┳━━━━━━━━━━━━━━━━━━━━━━━━┳━━━━━━━━━━━━━━━┓\n",
       "┃\u001b[1m \u001b[0m\u001b[1mLayer (type)                   \u001b[0m\u001b[1m \u001b[0m┃\u001b[1m \u001b[0m\u001b[1mOutput Shape          \u001b[0m\u001b[1m \u001b[0m┃\u001b[1m \u001b[0m\u001b[1m      Param #\u001b[0m\u001b[1m \u001b[0m┃\n",
       "┡━━━━━━━━━━━━━━━━━━━━━━━━━━━━━━━━━╇━━━━━━━━━━━━━━━━━━━━━━━━╇━━━━━━━━━━━━━━━┩\n",
       "│ dense_9 (\u001b[38;5;33mDense\u001b[0m)                 │ (\u001b[38;5;45mNone\u001b[0m, \u001b[38;5;34m22\u001b[0m)             │           \u001b[38;5;34m506\u001b[0m │\n",
       "├─────────────────────────────────┼────────────────────────┼───────────────┤\n",
       "│ dense_10 (\u001b[38;5;33mDense\u001b[0m)                │ (\u001b[38;5;45mNone\u001b[0m, \u001b[38;5;34m12\u001b[0m)             │           \u001b[38;5;34m276\u001b[0m │\n",
       "├─────────────────────────────────┼────────────────────────┼───────────────┤\n",
       "│ dense_11 (\u001b[38;5;33mDense\u001b[0m)                │ (\u001b[38;5;45mNone\u001b[0m, \u001b[38;5;34m2\u001b[0m)              │            \u001b[38;5;34m26\u001b[0m │\n",
       "└─────────────────────────────────┴────────────────────────┴───────────────┘\n"
      ]
     },
     "metadata": {},
     "output_type": "display_data"
    },
    {
     "data": {
      "text/html": [
       "<pre style=\"white-space:pre;overflow-x:auto;line-height:normal;font-family:Menlo,'DejaVu Sans Mono',consolas,'Courier New',monospace\"><span style=\"font-weight: bold\"> Total params: </span><span style=\"color: #00af00; text-decoration-color: #00af00\">808</span> (3.16 KB)\n",
       "</pre>\n"
      ],
      "text/plain": [
       "\u001b[1m Total params: \u001b[0m\u001b[38;5;34m808\u001b[0m (3.16 KB)\n"
      ]
     },
     "metadata": {},
     "output_type": "display_data"
    },
    {
     "data": {
      "text/html": [
       "<pre style=\"white-space:pre;overflow-x:auto;line-height:normal;font-family:Menlo,'DejaVu Sans Mono',consolas,'Courier New',monospace\"><span style=\"font-weight: bold\"> Trainable params: </span><span style=\"color: #00af00; text-decoration-color: #00af00\">808</span> (3.16 KB)\n",
       "</pre>\n"
      ],
      "text/plain": [
       "\u001b[1m Trainable params: \u001b[0m\u001b[38;5;34m808\u001b[0m (3.16 KB)\n"
      ]
     },
     "metadata": {},
     "output_type": "display_data"
    },
    {
     "data": {
      "text/html": [
       "<pre style=\"white-space:pre;overflow-x:auto;line-height:normal;font-family:Menlo,'DejaVu Sans Mono',consolas,'Courier New',monospace\"><span style=\"font-weight: bold\"> Non-trainable params: </span><span style=\"color: #00af00; text-decoration-color: #00af00\">0</span> (0.00 B)\n",
       "</pre>\n"
      ],
      "text/plain": [
       "\u001b[1m Non-trainable params: \u001b[0m\u001b[38;5;34m0\u001b[0m (0.00 B)\n"
      ]
     },
     "metadata": {},
     "output_type": "display_data"
    }
   ],
   "source": [
    "model_below.summary()"
   ]
  },
  {
   "cell_type": "code",
   "execution_count": 70,
   "metadata": {},
   "outputs": [
    {
     "name": "stdout",
     "output_type": "stream",
     "text": [
      "Training model\n",
      "Epoch 1/20\n",
      "2755/2755 - 1s - 509us/step - accuracy: 0.9393 - loss: 0.5247 - val_accuracy: 0.9406 - val_loss: 0.5077\n",
      "Epoch 2/20\n",
      "2755/2755 - 1s - 401us/step - accuracy: 0.9404 - loss: 0.5069 - val_accuracy: 0.9413 - val_loss: 0.5031\n",
      "Epoch 3/20\n",
      "2755/2755 - 1s - 409us/step - accuracy: 0.9391 - loss: 0.5033 - val_accuracy: 0.9379 - val_loss: 0.5004\n",
      "Epoch 4/20\n",
      "2755/2755 - 1s - 426us/step - accuracy: 0.9375 - loss: 0.5015 - val_accuracy: 0.9370 - val_loss: 0.4995\n",
      "Epoch 5/20\n",
      "2755/2755 - 1s - 403us/step - accuracy: 0.9370 - loss: 0.5003 - val_accuracy: 0.9420 - val_loss: 0.4988\n",
      "Epoch 6/20\n",
      "2755/2755 - 1s - 402us/step - accuracy: 0.9363 - loss: 0.4996 - val_accuracy: 0.9366 - val_loss: 0.4983\n",
      "Epoch 7/20\n",
      "2755/2755 - 1s - 482us/step - accuracy: 0.9357 - loss: 0.4991 - val_accuracy: 0.9395 - val_loss: 0.4986\n",
      "Epoch 8/20\n",
      "2755/2755 - 1s - 421us/step - accuracy: 0.9358 - loss: 0.4988 - val_accuracy: 0.9327 - val_loss: 0.4981\n",
      "Epoch 9/20\n",
      "2755/2755 - 1s - 405us/step - accuracy: 0.9354 - loss: 0.4984 - val_accuracy: 0.9379 - val_loss: 0.4969\n",
      "Epoch 10/20\n",
      "2755/2755 - 1s - 403us/step - accuracy: 0.9351 - loss: 0.4982 - val_accuracy: 0.9360 - val_loss: 0.4971\n",
      "Epoch 11/20\n",
      "2755/2755 - 1s - 413us/step - accuracy: 0.9351 - loss: 0.4981 - val_accuracy: 0.9347 - val_loss: 0.4967\n",
      "Epoch 12/20\n",
      "2755/2755 - 1s - 482us/step - accuracy: 0.9350 - loss: 0.4978 - val_accuracy: 0.9333 - val_loss: 0.4970\n",
      "Epoch 13/20\n",
      "2755/2755 - 1s - 449us/step - accuracy: 0.9346 - loss: 0.4978 - val_accuracy: 0.9370 - val_loss: 0.4965\n",
      "Epoch 14/20\n",
      "2755/2755 - 1s - 425us/step - accuracy: 0.9345 - loss: 0.4977 - val_accuracy: 0.9331 - val_loss: 0.4970\n",
      "Epoch 15/20\n",
      "2755/2755 - 1s - 451us/step - accuracy: 0.9345 - loss: 0.4975 - val_accuracy: 0.9384 - val_loss: 0.4976\n",
      "Epoch 16/20\n",
      "2755/2755 - 1s - 448us/step - accuracy: 0.9348 - loss: 0.4974 - val_accuracy: 0.9345 - val_loss: 0.4959\n",
      "Epoch 17/20\n",
      "2755/2755 - 1s - 402us/step - accuracy: 0.9346 - loss: 0.4973 - val_accuracy: 0.9323 - val_loss: 0.4961\n",
      "Epoch 18/20\n",
      "2755/2755 - 1s - 431us/step - accuracy: 0.9344 - loss: 0.4972 - val_accuracy: 0.9358 - val_loss: 0.4961\n",
      "Epoch 19/20\n",
      "2755/2755 - 1s - 434us/step - accuracy: 0.9343 - loss: 0.4971 - val_accuracy: 0.9344 - val_loss: 0.4969\n",
      "Epoch 20/20\n",
      "2755/2755 - 1s - 414us/step - accuracy: 0.9344 - loss: 0.4970 - val_accuracy: 0.9373 - val_loss: 0.4965\n"
     ]
    }
   ],
   "source": [
    "history = run_network([X_train_below_act, y_train_below_act, X_train_below_val, y_train_below_val], model_below)"
   ]
  },
  {
   "cell_type": "code",
   "execution_count": 71,
   "metadata": {},
   "outputs": [
    {
     "name": "stdout",
     "output_type": "stream",
     "text": [
      "\u001b[1m9795/9795\u001b[0m \u001b[32m━━━━━━━━━━━━━━━━━━━━\u001b[0m\u001b[37m\u001b[0m \u001b[1m3s\u001b[0m 265us/step - accuracy: 0.9336 - loss: 0.5005\n"
     ]
    }
   ],
   "source": [
    "score = eval_network([X_test_below, y_test_below], model_below)"
   ]
  },
  {
   "cell_type": "code",
   "execution_count": 72,
   "metadata": {},
   "outputs": [
    {
     "name": "stdout",
     "output_type": "stream",
     "text": [
      "\u001b[1m4898/4898\u001b[0m \u001b[32m━━━━━━━━━━━━━━━━━━━━\u001b[0m\u001b[37m\u001b[0m \u001b[1m1s\u001b[0m 235us/step\n"
     ]
    }
   ],
   "source": [
    "y_prob = model_below.predict(X_test_below)"
   ]
  },
  {
   "cell_type": "code",
   "execution_count": 73,
   "metadata": {},
   "outputs": [
    {
     "data": {
      "image/png": "[encoded data removed]",
      "text/plain": [
       "<Figure size 640x480 with 1 Axes>"
      ]
     },
     "metadata": {},
     "output_type": "display_data"
    }
   ],
   "source": [
    "for col,i in zip(['DRK_YN', 'SMK_stat_type_cd'],range(y_prob.shape[1])):  # Assuming y_scores.shape[1] == number of labels\n",
    "    fpr, tpr, thresholds = roc_curve(y_test_below[col], y_prob[:, i])\n",
    "    roc_auc = auc(fpr, tpr)\n",
    "    optimal_idx = np.argmin(np.sqrt((1-tpr)**2 + fpr**2))\n",
    "    optimal_threshold = thresholds[optimal_idx]\n",
    "    plt.scatter(fpr[optimal_idx], tpr[optimal_idx], marker='o', color='black', label='%s Optimal Threshold = %0.2f' % (col, optimal_threshold))\n",
    "    plt.plot(fpr, tpr, lw=2, label='ROC curve of %s (area = %0.2f)' % (col, roc_auc))\n",
    "\n",
    "plt.plot([0, 1], [0, 1], color='navy', lw=2, linestyle='--')\n",
    "plt.xlim([0.0, 1.0])\n",
    "plt.ylim([0.0, 1.05])\n",
    "plt.xlabel('False Positive Rate')\n",
    "plt.ylabel('True Positive Rate')\n",
    "plt.title('ROC for Multi-Label Classification')\n",
    "plt.legend(loc=\"lower right\")\n",
    "plt.show()"
   ]
  },
  {
   "cell_type": "code",
   "execution_count": 74,
   "metadata": {},
   "outputs": [
    {
     "name": "stdout",
     "output_type": "stream",
     "text": [
      "\u001b[1m4898/4898\u001b[0m \u001b[32m━━━━━━━━━━━━━━━━━━━━\u001b[0m\u001b[37m\u001b[0m \u001b[1m1s\u001b[0m 247us/step\n"
     ]
    }
   ],
   "source": [
    "y_pred = model_below.predict(X_test_below)\n",
    "y_pred = [[1 if x[0] > 0.56 else 0, 1 if x[1] > 0.32 else 0] for x in y_pred]"
   ]
  },
  {
   "cell_type": "code",
   "execution_count": 75,
   "metadata": {},
   "outputs": [
    {
     "data": {
      "text/plain": [
       "0.7246651479474957"
      ]
     },
     "execution_count": 75,
     "metadata": {},
     "output_type": "execute_result"
    }
   ],
   "source": [
    "ml_acc = accuracy_score(y_test_below['SMK_stat_type_cd'], [x[1] for x in y_pred])\n",
    "ml_acc"
   ]
  },
  {
   "cell_type": "code",
   "execution_count": 76,
   "metadata": {},
   "outputs": [
    {
     "data": {
      "text/plain": [
       "0.7010867137597233"
      ]
     },
     "execution_count": 76,
     "metadata": {},
     "output_type": "execute_result"
    }
   ],
   "source": [
    "ml_acc = accuracy_score(y_test_below['DRK_YN'], [x[0] for x in y_pred])\n",
    "ml_acc"
   ]
  },
  {
   "cell_type": "markdown",
   "metadata": {},
   "source": [
    "# Multiclass Smoker-Drinker"
   ]
  },
  {
   "cell_type": "code",
   "execution_count": 77,
   "metadata": {},
   "outputs": [],
   "source": [
    "df = pd.read_csv('scaled_smoking_drinking_dataset.csv')"
   ]
  },
  {
   "cell_type": "code",
   "execution_count": 78,
   "metadata": {},
   "outputs": [],
   "source": [
    "df['Smoker'] = ((df['DRK_YN'] == 0) & (df['SMK_stat_type_cd'] == 1)).astype(int)\n",
    "df['Drinker'] = ((df['DRK_YN'] == 1) & (df['SMK_stat_type_cd'] == 0)).astype(int)\n",
    "df['Both'] = ((df['DRK_YN'] == 1) & (df['SMK_stat_type_cd'] == 1)).astype(int)\n",
    "df['Neither'] = ((df['DRK_YN'] == 0) & (df['SMK_stat_type_cd'] == 0)).astype(int)"
   ]
  },
  {
   "cell_type": "code",
   "execution_count": 79,
   "metadata": {},
   "outputs": [],
   "source": [
    "df = df.drop(columns=['SMK_stat_type_cd', 'DRK_YN'])"
   ]
  },
  {
   "cell_type": "code",
   "execution_count": 80,
   "metadata": {},
   "outputs": [
    {
     "data": {
      "text/html": [
       "<div>\n",
       "<style scoped>\n",
       "    .dataframe tbody tr th:only-of-type {\n",
       "        vertical-align: middle;\n",
       "    }\n",
       "\n",
       "    .dataframe tbody tr th {\n",
       "        vertical-align: top;\n",
       "    }\n",
       "\n",
       "    .dataframe thead th {\n",
       "        text-align: right;\n",
       "    }\n",
       "</style>\n",
       "<table border=\"1\" class=\"dataframe\">\n",
       "  <thead>\n",
       "    <tr style=\"text-align: right;\">\n",
       "      <th></th>\n",
       "      <th>age</th>\n",
       "      <th>height</th>\n",
       "      <th>weight</th>\n",
       "      <th>waistline</th>\n",
       "      <th>sight_left</th>\n",
       "      <th>sight_right</th>\n",
       "      <th>SBP</th>\n",
       "      <th>DBP</th>\n",
       "      <th>BLDS</th>\n",
       "      <th>tot_chole</th>\n",
       "      <th>...</th>\n",
       "      <th>SGOT_ALT</th>\n",
       "      <th>gamma_GTP</th>\n",
       "      <th>sex</th>\n",
       "      <th>urine_protein</th>\n",
       "      <th>hear_left</th>\n",
       "      <th>hear_right</th>\n",
       "      <th>Smoker</th>\n",
       "      <th>Drinker</th>\n",
       "      <th>Both</th>\n",
       "      <th>Neither</th>\n",
       "    </tr>\n",
       "  </thead>\n",
       "  <tbody>\n",
       "    <tr>\n",
       "      <th>0</th>\n",
       "      <td>-0.889514</td>\n",
       "      <td>0.835874</td>\n",
       "      <td>0.936210</td>\n",
       "      <td>0.739781</td>\n",
       "      <td>0.031629</td>\n",
       "      <td>0.035668</td>\n",
       "      <td>-0.167261</td>\n",
       "      <td>0.399153</td>\n",
       "      <td>-0.058910</td>\n",
       "      <td>-0.066141</td>\n",
       "      <td>...</td>\n",
       "      <td>0.351404</td>\n",
       "      <td>0.056791</td>\n",
       "      <td>0</td>\n",
       "      <td>1.0</td>\n",
       "      <td>1.0</td>\n",
       "      <td>1.0</td>\n",
       "      <td>0</td>\n",
       "      <td>1</td>\n",
       "      <td>0</td>\n",
       "      <td>0</td>\n",
       "    </tr>\n",
       "    <tr>\n",
       "      <th>1</th>\n",
       "      <td>-1.242090</td>\n",
       "      <td>1.913117</td>\n",
       "      <td>1.335755</td>\n",
       "      <td>0.655395</td>\n",
       "      <td>-0.133401</td>\n",
       "      <td>0.366370</td>\n",
       "      <td>0.520349</td>\n",
       "      <td>0.601391</td>\n",
       "      <td>0.230586</td>\n",
       "      <td>0.839184</td>\n",
       "      <td>...</td>\n",
       "      <td>0.389415</td>\n",
       "      <td>-0.201022</td>\n",
       "      <td>0</td>\n",
       "      <td>1.0</td>\n",
       "      <td>1.0</td>\n",
       "      <td>1.0</td>\n",
       "      <td>1</td>\n",
       "      <td>0</td>\n",
       "      <td>0</td>\n",
       "      <td>0</td>\n",
       "    </tr>\n",
       "    <tr>\n",
       "      <th>2</th>\n",
       "      <td>-0.536938</td>\n",
       "      <td>0.297252</td>\n",
       "      <td>0.936210</td>\n",
       "      <td>0.824167</td>\n",
       "      <td>0.361690</td>\n",
       "      <td>0.862423</td>\n",
       "      <td>-0.167261</td>\n",
       "      <td>-0.612034</td>\n",
       "      <td>-0.100267</td>\n",
       "      <td>-1.540528</td>\n",
       "      <td>...</td>\n",
       "      <td>0.237373</td>\n",
       "      <td>0.612081</td>\n",
       "      <td>0</td>\n",
       "      <td>1.0</td>\n",
       "      <td>1.0</td>\n",
       "      <td>1.0</td>\n",
       "      <td>0</td>\n",
       "      <td>0</td>\n",
       "      <td>0</td>\n",
       "      <td>1</td>\n",
       "    </tr>\n",
       "    <tr>\n",
       "      <th>3</th>\n",
       "      <td>0.168215</td>\n",
       "      <td>1.374495</td>\n",
       "      <td>1.335755</td>\n",
       "      <td>0.824167</td>\n",
       "      <td>0.856782</td>\n",
       "      <td>0.366370</td>\n",
       "      <td>1.551763</td>\n",
       "      <td>1.106985</td>\n",
       "      <td>-0.224337</td>\n",
       "      <td>0.140790</td>\n",
       "      <td>...</td>\n",
       "      <td>0.313394</td>\n",
       "      <td>-0.379508</td>\n",
       "      <td>0</td>\n",
       "      <td>1.0</td>\n",
       "      <td>1.0</td>\n",
       "      <td>1.0</td>\n",
       "      <td>0</td>\n",
       "      <td>0</td>\n",
       "      <td>0</td>\n",
       "      <td>1</td>\n",
       "    </tr>\n",
       "    <tr>\n",
       "      <th>4</th>\n",
       "      <td>0.168215</td>\n",
       "      <td>0.297252</td>\n",
       "      <td>-0.262425</td>\n",
       "      <td>-0.104078</td>\n",
       "      <td>0.031629</td>\n",
       "      <td>0.366370</td>\n",
       "      <td>1.070436</td>\n",
       "      <td>0.601391</td>\n",
       "      <td>0.023803</td>\n",
       "      <td>0.089058</td>\n",
       "      <td>...</td>\n",
       "      <td>-0.522835</td>\n",
       "      <td>-0.240685</td>\n",
       "      <td>0</td>\n",
       "      <td>1.0</td>\n",
       "      <td>1.0</td>\n",
       "      <td>1.0</td>\n",
       "      <td>0</td>\n",
       "      <td>0</td>\n",
       "      <td>0</td>\n",
       "      <td>1</td>\n",
       "    </tr>\n",
       "  </tbody>\n",
       "</table>\n",
       "<p>5 rows × 26 columns</p>\n",
       "</div>"
      ],
      "text/plain": [
       "        age    height    weight  waistline  sight_left  sight_right       SBP  \\\n",
       "0 -0.889514  0.835874  0.936210   0.739781    0.031629     0.035668 -0.167261   \n",
       "1 -1.242090  1.913117  1.335755   0.655395   -0.133401     0.366370  0.520349   \n",
       "2 -0.536938  0.297252  0.936210   0.824167    0.361690     0.862423 -0.167261   \n",
       "3  0.168215  1.374495  1.335755   0.824167    0.856782     0.366370  1.551763   \n",
       "4  0.168215  0.297252 -0.262425  -0.104078    0.031629     0.366370  1.070436   \n",
       "\n",
       "        DBP      BLDS  tot_chole  ...  SGOT_ALT  gamma_GTP  sex  \\\n",
       "0  0.399153 -0.058910  -0.066141  ...  0.351404   0.056791    0   \n",
       "1  0.601391  0.230586   0.839184  ...  0.389415  -0.201022    0   \n",
       "2 -0.612034 -0.100267  -1.540528  ...  0.237373   0.612081    0   \n",
       "3  1.106985 -0.224337   0.140790  ...  0.313394  -0.379508    0   \n",
       "4  0.601391  0.023803   0.089058  ... -0.522835  -0.240685    0   \n",
       "\n",
       "   urine_protein  hear_left  hear_right  Smoker  Drinker  Both  Neither  \n",
       "0            1.0        1.0         1.0       0        1     0        0  \n",
       "1            1.0        1.0         1.0       1        0     0        0  \n",
       "2            1.0        1.0         1.0       0        0     0        1  \n",
       "3            1.0        1.0         1.0       0        0     0        1  \n",
       "4            1.0        1.0         1.0       0        0     0        1  \n",
       "\n",
       "[5 rows x 26 columns]"
      ]
     },
     "execution_count": 80,
     "metadata": {},
     "output_type": "execute_result"
    }
   ],
   "source": [
    "df.head()"
   ]
  },
  {
   "cell_type": "code",
   "execution_count": 81,
   "metadata": {},
   "outputs": [
    {
     "name": "stdout",
     "output_type": "stream",
     "text": [
      "52377\n",
      "333911\n",
      "161577\n",
      "443481\n"
     ]
    }
   ],
   "source": [
    "print(np.sum(df['Smoker']))\n",
    "print(np.sum(df['Drinker']))\n",
    "print(np.sum(df['Both']))\n",
    "print(np.sum(df['Neither']))"
   ]
  },
  {
   "cell_type": "code",
   "execution_count": 82,
   "metadata": {},
   "outputs": [],
   "source": [
    "X = df[df.columns[~df.columns.isin(['Smoker', 'Drinker', 'Both', 'Neither'])]]\n",
    "y = df[['Smoker', 'Drinker', 'Both', 'Neither']]"
   ]
  },
  {
   "cell_type": "code",
   "execution_count": 83,
   "metadata": {},
   "outputs": [],
   "source": [
    "X_train, X_test, y_train, y_test = train_test_split(X, y, random_state=3)"
   ]
  },
  {
   "cell_type": "code",
   "execution_count": 84,
   "metadata": {},
   "outputs": [],
   "source": [
    "X_train_act, X_train_val, y_train_act, y_train_val = train_test_split(X_train, y_train, random_state=17)"
   ]
  },
  {
   "cell_type": "code",
   "execution_count": 85,
   "metadata": {},
   "outputs": [
    {
     "data": {
      "text/plain": [
       "(743509, 22)"
      ]
     },
     "execution_count": 85,
     "metadata": {},
     "output_type": "execute_result"
    }
   ],
   "source": [
    "X_train.shape"
   ]
  },
  {
   "cell_type": "code",
   "execution_count": 86,
   "metadata": {},
   "outputs": [],
   "source": [
    "def multiclass_nn_model():\n",
    "    model = tf.keras.Sequential([\n",
    "      tf.keras.Input(shape=(X.shape[1],)),\n",
    "      tf.keras.layers.Dense(22, activation=tf.nn.relu),\n",
    "      tf.keras.layers.Dense(14, activation=tf.nn.relu),\n",
    "      tf.keras.layers.Dense(8, activation=tf.nn.relu),\n",
    "      tf.keras.layers.Dense(4, activation=tf.nn.softmax)\n",
    "    ])\n",
    "    return model"
   ]
  },
  {
   "cell_type": "code",
   "execution_count": 87,
   "metadata": {},
   "outputs": [],
   "source": [
    "model_mc = multiclass_nn_model()"
   ]
  },
  {
   "cell_type": "code",
   "execution_count": 88,
   "metadata": {},
   "outputs": [],
   "source": [
    "sgd = tf.keras.optimizers.SGD(learning_rate=0.01, momentum=0.9)\n",
    "model_mc.compile(loss='categorical_crossentropy', optimizer=sgd, metrics=['accuracy'])"
   ]
  },
  {
   "cell_type": "code",
   "execution_count": 89,
   "metadata": {},
   "outputs": [
    {
     "data": {
      "text/html": [
       "<pre style=\"white-space:pre;overflow-x:auto;line-height:normal;font-family:Menlo,'DejaVu Sans Mono',consolas,'Courier New',monospace\"><span style=\"font-weight: bold\">Model: \"sequential_4\"</span>\n",
       "</pre>\n"
      ],
      "text/plain": [
       "\u001b[1mModel: \"sequential_4\"\u001b[0m\n"
      ]
     },
     "metadata": {},
     "output_type": "display_data"
    },
    {
     "data": {
      "text/html": [
       "<pre style=\"white-space:pre;overflow-x:auto;line-height:normal;font-family:Menlo,'DejaVu Sans Mono',consolas,'Courier New',monospace\">┏━━━━━━━━━━━━━━━━━━━━━━━━━━━━━━━━━┳━━━━━━━━━━━━━━━━━━━━━━━━┳━━━━━━━━━━━━━━━┓\n",
       "┃<span style=\"font-weight: bold\"> Layer (type)                    </span>┃<span style=\"font-weight: bold\"> Output Shape           </span>┃<span style=\"font-weight: bold\">       Param # </span>┃\n",
       "┡━━━━━━━━━━━━━━━━━━━━━━━━━━━━━━━━━╇━━━━━━━━━━━━━━━━━━━━━━━━╇━━━━━━━━━━━━━━━┩\n",
       "│ dense_12 (<span style=\"color: #0087ff; text-decoration-color: #0087ff\">Dense</span>)                │ (<span style=\"color: #00d7ff; text-decoration-color: #00d7ff\">None</span>, <span style=\"color: #00af00; text-decoration-color: #00af00\">22</span>)             │           <span style=\"color: #00af00; text-decoration-color: #00af00\">506</span> │\n",
       "├─────────────────────────────────┼────────────────────────┼───────────────┤\n",
       "│ dense_13 (<span style=\"color: #0087ff; text-decoration-color: #0087ff\">Dense</span>)                │ (<span style=\"color: #00d7ff; text-decoration-color: #00d7ff\">None</span>, <span style=\"color: #00af00; text-decoration-color: #00af00\">14</span>)             │           <span style=\"color: #00af00; text-decoration-color: #00af00\">322</span> │\n",
       "├─────────────────────────────────┼────────────────────────┼───────────────┤\n",
       "│ dense_14 (<span style=\"color: #0087ff; text-decoration-color: #0087ff\">Dense</span>)                │ (<span style=\"color: #00d7ff; text-decoration-color: #00d7ff\">None</span>, <span style=\"color: #00af00; text-decoration-color: #00af00\">8</span>)              │           <span style=\"color: #00af00; text-decoration-color: #00af00\">120</span> │\n",
       "├─────────────────────────────────┼────────────────────────┼───────────────┤\n",
       "│ dense_15 (<span style=\"color: #0087ff; text-decoration-color: #0087ff\">Dense</span>)                │ (<span style=\"color: #00d7ff; text-decoration-color: #00d7ff\">None</span>, <span style=\"color: #00af00; text-decoration-color: #00af00\">4</span>)              │            <span style=\"color: #00af00; text-decoration-color: #00af00\">36</span> │\n",
       "└─────────────────────────────────┴────────────────────────┴───────────────┘\n",
       "</pre>\n"
      ],
      "text/plain": [
       "┏━━━━━━━━━━━━━━━━━━━━━━━━━━━━━━━━━┳━━━━━━━━━━━━━━━━━━━━━━━━┳━━━━━━━━━━━━━━━┓\n",
       "┃\u001b[1m \u001b[0m\u001b[1mLayer (type)                   \u001b[0m\u001b[1m \u001b[0m┃\u001b[1m \u001b[0m\u001b[1mOutput Shape          \u001b[0m\u001b[1m \u001b[0m┃\u001b[1m \u001b[0m\u001b[1m      Param #\u001b[0m\u001b[1m \u001b[0m┃\n",
       "┡━━━━━━━━━━━━━━━━━━━━━━━━━━━━━━━━━╇━━━━━━━━━━━━━━━━━━━━━━━━╇━━━━━━━━━━━━━━━┩\n",
       "│ dense_12 (\u001b[38;5;33mDense\u001b[0m)                │ (\u001b[38;5;45mNone\u001b[0m, \u001b[38;5;34m22\u001b[0m)             │           \u001b[38;5;34m506\u001b[0m │\n",
       "├─────────────────────────────────┼────────────────────────┼───────────────┤\n",
       "│ dense_13 (\u001b[38;5;33mDense\u001b[0m)                │ (\u001b[38;5;45mNone\u001b[0m, \u001b[38;5;34m14\u001b[0m)             │           \u001b[38;5;34m322\u001b[0m │\n",
       "├─────────────────────────────────┼────────────────────────┼───────────────┤\n",
       "│ dense_14 (\u001b[38;5;33mDense\u001b[0m)                │ (\u001b[38;5;45mNone\u001b[0m, \u001b[38;5;34m8\u001b[0m)              │           \u001b[38;5;34m120\u001b[0m │\n",
       "├─────────────────────────────────┼────────────────────────┼───────────────┤\n",
       "│ dense_15 (\u001b[38;5;33mDense\u001b[0m)                │ (\u001b[38;5;45mNone\u001b[0m, \u001b[38;5;34m4\u001b[0m)              │            \u001b[38;5;34m36\u001b[0m │\n",
       "└─────────────────────────────────┴────────────────────────┴───────────────┘\n"
      ]
     },
     "metadata": {},
     "output_type": "display_data"
    },
    {
     "data": {
      "text/html": [
       "<pre style=\"white-space:pre;overflow-x:auto;line-height:normal;font-family:Menlo,'DejaVu Sans Mono',consolas,'Courier New',monospace\"><span style=\"font-weight: bold\"> Total params: </span><span style=\"color: #00af00; text-decoration-color: #00af00\">984</span> (3.84 KB)\n",
       "</pre>\n"
      ],
      "text/plain": [
       "\u001b[1m Total params: \u001b[0m\u001b[38;5;34m984\u001b[0m (3.84 KB)\n"
      ]
     },
     "metadata": {},
     "output_type": "display_data"
    },
    {
     "data": {
      "text/html": [
       "<pre style=\"white-space:pre;overflow-x:auto;line-height:normal;font-family:Menlo,'DejaVu Sans Mono',consolas,'Courier New',monospace\"><span style=\"font-weight: bold\"> Trainable params: </span><span style=\"color: #00af00; text-decoration-color: #00af00\">984</span> (3.84 KB)\n",
       "</pre>\n"
      ],
      "text/plain": [
       "\u001b[1m Trainable params: \u001b[0m\u001b[38;5;34m984\u001b[0m (3.84 KB)\n"
      ]
     },
     "metadata": {},
     "output_type": "display_data"
    },
    {
     "data": {
      "text/html": [
       "<pre style=\"white-space:pre;overflow-x:auto;line-height:normal;font-family:Menlo,'DejaVu Sans Mono',consolas,'Courier New',monospace\"><span style=\"font-weight: bold\"> Non-trainable params: </span><span style=\"color: #00af00; text-decoration-color: #00af00\">0</span> (0.00 B)\n",
       "</pre>\n"
      ],
      "text/plain": [
       "\u001b[1m Non-trainable params: \u001b[0m\u001b[38;5;34m0\u001b[0m (0.00 B)\n"
      ]
     },
     "metadata": {},
     "output_type": "display_data"
    }
   ],
   "source": [
    "model_mc.summary()"
   ]
  },
  {
   "cell_type": "code",
   "execution_count": 90,
   "metadata": {},
   "outputs": [
    {
     "name": "stdout",
     "output_type": "stream",
     "text": [
      "Training model\n",
      "Epoch 1/20\n",
      "4357/4357 - 2s - 560us/step - accuracy: 0.5758 - loss: 0.9339 - val_accuracy: 0.5836 - val_loss: 0.9168\n",
      "Epoch 2/20\n",
      "4357/4357 - 2s - 419us/step - accuracy: 0.5861 - loss: 0.9136 - val_accuracy: 0.5861 - val_loss: 0.9131\n",
      "Epoch 3/20\n",
      "4357/4357 - 2s - 415us/step - accuracy: 0.5888 - loss: 0.9101 - val_accuracy: 0.5896 - val_loss: 0.9107\n",
      "Epoch 4/20\n",
      "4357/4357 - 2s - 419us/step - accuracy: 0.5900 - loss: 0.9087 - val_accuracy: 0.5871 - val_loss: 0.9131\n",
      "Epoch 5/20\n",
      "4357/4357 - 2s - 430us/step - accuracy: 0.5904 - loss: 0.9076 - val_accuracy: 0.5877 - val_loss: 0.9101\n",
      "Epoch 6/20\n",
      "4357/4357 - 2s - 437us/step - accuracy: 0.5912 - loss: 0.9070 - val_accuracy: 0.5900 - val_loss: 0.9076\n",
      "Epoch 7/20\n",
      "4357/4357 - 2s - 451us/step - accuracy: 0.5909 - loss: 0.9066 - val_accuracy: 0.5910 - val_loss: 0.9061\n",
      "Epoch 8/20\n",
      "4357/4357 - 2s - 425us/step - accuracy: 0.5916 - loss: 0.9058 - val_accuracy: 0.5904 - val_loss: 0.9066\n",
      "Epoch 9/20\n",
      "4357/4357 - 2s - 416us/step - accuracy: 0.5916 - loss: 0.9055 - val_accuracy: 0.5900 - val_loss: 0.9067\n",
      "Epoch 10/20\n",
      "4357/4357 - 2s - 455us/step - accuracy: 0.5916 - loss: 0.9051 - val_accuracy: 0.5905 - val_loss: 0.9060\n",
      "Epoch 11/20\n",
      "4357/4357 - 2s - 452us/step - accuracy: 0.5919 - loss: 0.9047 - val_accuracy: 0.5914 - val_loss: 0.9052\n",
      "Epoch 12/20\n",
      "4357/4357 - 2s - 426us/step - accuracy: 0.5922 - loss: 0.9043 - val_accuracy: 0.5924 - val_loss: 0.9052\n",
      "Epoch 13/20\n",
      "4357/4357 - 2s - 410us/step - accuracy: 0.5924 - loss: 0.9040 - val_accuracy: 0.5917 - val_loss: 0.9056\n",
      "Epoch 14/20\n",
      "4357/4357 - 2s - 415us/step - accuracy: 0.5926 - loss: 0.9037 - val_accuracy: 0.5917 - val_loss: 0.9065\n",
      "Epoch 15/20\n",
      "4357/4357 - 2s - 508us/step - accuracy: 0.5929 - loss: 0.9034 - val_accuracy: 0.5900 - val_loss: 0.9062\n",
      "Epoch 16/20\n",
      "4357/4357 - 2s - 417us/step - accuracy: 0.5927 - loss: 0.9033 - val_accuracy: 0.5919 - val_loss: 0.9055\n",
      "Epoch 17/20\n",
      "4357/4357 - 2s - 435us/step - accuracy: 0.5927 - loss: 0.9032 - val_accuracy: 0.5908 - val_loss: 0.9062\n",
      "Epoch 18/20\n",
      "4357/4357 - 2s - 435us/step - accuracy: 0.5929 - loss: 0.9030 - val_accuracy: 0.5914 - val_loss: 0.9038\n",
      "Epoch 19/20\n",
      "4357/4357 - 2s - 484us/step - accuracy: 0.5927 - loss: 0.9027 - val_accuracy: 0.5923 - val_loss: 0.9032\n",
      "Epoch 20/20\n",
      "4357/4357 - 2s - 412us/step - accuracy: 0.5931 - loss: 0.9026 - val_accuracy: 0.5898 - val_loss: 0.9059\n"
     ]
    }
   ],
   "source": [
    "history = run_network([X_train_act, y_train_act, X_train_val, y_train_val], model_mc)"
   ]
  },
  {
   "cell_type": "code",
   "execution_count": 91,
   "metadata": {},
   "outputs": [
    {
     "name": "stdout",
     "output_type": "stream",
     "text": [
      "\u001b[1m15490/15490\u001b[0m \u001b[32m━━━━━━━━━━━━━━━━━━━━\u001b[0m\u001b[37m\u001b[0m \u001b[1m4s\u001b[0m 260us/step - accuracy: 0.5906 - loss: 0.9052\n"
     ]
    }
   ],
   "source": [
    "score = eval_network([X_test, y_test], model_mc)"
   ]
  },
  {
   "cell_type": "code",
   "execution_count": 92,
   "metadata": {},
   "outputs": [
    {
     "name": "stdout",
     "output_type": "stream",
     "text": [
      "\u001b[1m7745/7745\u001b[0m \u001b[32m━━━━━━━━━━━━━━━━━━━━\u001b[0m\u001b[37m\u001b[0m \u001b[1m2s\u001b[0m 235us/step\n"
     ]
    }
   ],
   "source": [
    "probs = model_mc.predict(X_test)"
   ]
  },
  {
   "cell_type": "code",
   "execution_count": 93,
   "metadata": {},
   "outputs": [],
   "source": [
    "preds = np.zeros_like(probs)"
   ]
  },
  {
   "cell_type": "code",
   "execution_count": 94,
   "metadata": {},
   "outputs": [],
   "source": [
    "max_indices = np.argmax(probs, axis=1)"
   ]
  },
  {
   "cell_type": "code",
   "execution_count": 95,
   "metadata": {},
   "outputs": [],
   "source": [
    "preds[np.arange(probs.shape[0]), max_indices] = 1"
   ]
  },
  {
   "cell_type": "code",
   "execution_count": 96,
   "metadata": {},
   "outputs": [
    {
     "data": {
      "text/plain": [
       "array([[0., 0., 1., 0.],\n",
       "       [0., 1., 0., 0.],\n",
       "       [1., 0., 0., 0.],\n",
       "       ...,\n",
       "       [0., 0., 0., 1.],\n",
       "       [0., 1., 0., 0.],\n",
       "       [0., 0., 0., 1.]], dtype=float32)"
      ]
     },
     "execution_count": 96,
     "metadata": {},
     "output_type": "execute_result"
    }
   ],
   "source": [
    "preds"
   ]
  },
  {
   "cell_type": "code",
   "execution_count": 97,
   "metadata": {},
   "outputs": [
    {
     "data": {
      "text/plain": [
       "0.5901378728761242"
      ]
     },
     "execution_count": 97,
     "metadata": {},
     "output_type": "execute_result"
    }
   ],
   "source": [
    "accuracy_score(y_test, preds)"
   ]
  },
  {
   "cell_type": "code",
   "execution_count": 98,
   "metadata": {},
   "outputs": [
    {
     "data": {
      "text/plain": [
       "0.5901378728761242"
      ]
     },
     "execution_count": 98,
     "metadata": {},
     "output_type": "execute_result"
    }
   ],
   "source": [
    "ml_acc = accuracy_score(y_test, preds)\n",
    "ml_acc"
   ]
  },
  {
   "cell_type": "code",
   "execution_count": 100,
   "metadata": {},
   "outputs": [
    {
     "data": {
      "text/plain": [
       "0.5768220670343079"
      ]
     },
     "execution_count": 100,
     "metadata": {},
     "output_type": "execute_result"
    }
   ],
   "source": [
    "precision = precision_score(y_test, preds, average='weighted')\n",
    "precision"
   ]
  },
  {
   "cell_type": "code",
   "execution_count": 101,
   "metadata": {},
   "outputs": [
    {
     "data": {
      "text/plain": [
       "0.5901378728761242"
      ]
     },
     "execution_count": 101,
     "metadata": {},
     "output_type": "execute_result"
    }
   ],
   "source": [
    "recall = recall_score(y_test, preds, average='weighted')\n",
    "recall"
   ]
  },
  {
   "cell_type": "code",
   "execution_count": 102,
   "metadata": {},
   "outputs": [
    {
     "data": {
      "text/plain": [
       "0.5771865659688203"
      ]
     },
     "execution_count": 102,
     "metadata": {},
     "output_type": "execute_result"
    }
   ],
   "source": [
    "f1 = f1_score(y_test, preds, average='weighted')\n",
    "f1"
   ]
  },
  {
   "cell_type": "code",
   "execution_count": 103,
   "metadata": {},
   "outputs": [
    {
     "data": {
      "text/plain": [
       "0.7971461463018986"
      ]
     },
     "execution_count": 103,
     "metadata": {},
     "output_type": "execute_result"
    }
   ],
   "source": [
    "roc_auc = roc_auc_score(y_test, probs)\n",
    "roc_auc"
   ]
  },
  {
   "cell_type": "code",
   "execution_count": 105,
   "metadata": {},
   "outputs": [
    {
     "data": {
      "text/html": [
       "<div>\n",
       "<style scoped>\n",
       "    .dataframe tbody tr th:only-of-type {\n",
       "        vertical-align: middle;\n",
       "    }\n",
       "\n",
       "    .dataframe tbody tr th {\n",
       "        vertical-align: top;\n",
       "    }\n",
       "\n",
       "    .dataframe thead th {\n",
       "        text-align: right;\n",
       "    }\n",
       "</style>\n",
       "<table border=\"1\" class=\"dataframe\">\n",
       "  <thead>\n",
       "    <tr style=\"text-align: right;\">\n",
       "      <th></th>\n",
       "      <th>accuracy</th>\n",
       "      <th>precision</th>\n",
       "      <th>recall</th>\n",
       "      <th>f1</th>\n",
       "      <th>AUC</th>\n",
       "    </tr>\n",
       "  </thead>\n",
       "  <tbody>\n",
       "    <tr>\n",
       "      <th>Multi-class</th>\n",
       "      <td>0.590138</td>\n",
       "      <td>0.576822</td>\n",
       "      <td>0.590138</td>\n",
       "      <td>0.577187</td>\n",
       "      <td>0.797146</td>\n",
       "    </tr>\n",
       "  </tbody>\n",
       "</table>\n",
       "</div>"
      ],
      "text/plain": [
       "             accuracy  precision    recall        f1       AUC\n",
       "Multi-class  0.590138   0.576822  0.590138  0.577187  0.797146"
      ]
     },
     "execution_count": 105,
     "metadata": {},
     "output_type": "execute_result"
    }
   ],
   "source": [
    "pd.DataFrame([[ml_acc, precision, recall, f1, roc_auc]],\n",
    "             index=['Multi-class'],\n",
    "              columns=['accuracy', 'precision', 'recall', 'f1', 'AUC'])"
   ]
  }
 ],
 "metadata": {
  "kernelspec": {
   "display_name": "Python 3",
   "language": "python",
   "name": "python3"
  },
  "language_info": {
   "codemirror_mode": {
    "name": "ipython",
    "version": 3
   },
   "file_extension": ".py",
   "mimetype": "text/x-python",
   "name": "python",
   "nbconvert_exporter": "python",
   "pygments_lexer": "ipython3",
   "version": "3.11.1"
  }
 },
 "nbformat": 4,
 "nbformat_minor": 2
}
